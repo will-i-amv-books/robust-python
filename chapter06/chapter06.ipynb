{
 "cells": [
  {
   "cell_type": "markdown",
   "metadata": {},
   "source": [
    "# Customizing Your Typechecker"
   ]
  },
  {
   "cell_type": "markdown",
   "metadata": {},
   "source": [
    "## Configuring Your Typechecker\n"
   ]
  },
  {
   "cell_type": "markdown",
   "metadata": {},
   "source": [
    "### Catching dynamic behavior"
   ]
  },
  {
   "cell_type": "code",
   "execution_count": 14,
   "metadata": {},
   "outputs": [
    {
     "name": "stdout",
     "output_type": "stream",
     "text": [
      "src/any_expr.py:5: \u001b[1m\u001b[31merror:\u001b[m Expression has type \u001b[m\u001b[1m\"Any\"\u001b[m\u001b[m\n",
      "\u001b[1m\u001b[31mFound 1 error in 1 file (checked 1 source file)\u001b[m\n"
     ]
    }
   ],
   "source": [
    "# The following option flags expressions with variables of 'Any' type\n",
    "\n",
    "!mypy  --disallow-any-expr src/any_expr.py"
   ]
  },
  {
   "cell_type": "code",
   "execution_count": 15,
   "metadata": {},
   "outputs": [
    {
     "name": "stdout",
     "output_type": "stream",
     "text": [
      "src/any_var.py:1: \u001b[1m\u001b[31merror:\u001b[m Missing type parameters for generic type \u001b[m\u001b[1m\"list\"\u001b[m\u001b[m\n",
      "\u001b[1m\u001b[31mFound 1 error in 1 file (checked 1 source file)\u001b[m\n"
     ]
    }
   ],
   "source": [
    "# The following option flags variable definitions of 'Any' type\n",
    "\n",
    "!mypy  --disallow-any-generics src/any_var.py"
   ]
  },
  {
   "cell_type": "markdown",
   "metadata": {},
   "source": [
    "### Requiring types"
   ]
  },
  {
   "cell_type": "code",
   "execution_count": 16,
   "metadata": {},
   "outputs": [
    {
     "name": "stdout",
     "output_type": "stream",
     "text": [
      "src/untyped_func.py:1: \u001b[1m\u001b[31merror:\u001b[m Function is missing a type annotation\u001b[m\n",
      "\u001b[1m\u001b[31mFound 1 error in 1 file (checked 1 source file)\u001b[m\n"
     ]
    }
   ],
   "source": [
    "# The following option flags untyped function definitions\n",
    "\n",
    "!mypy  --disallow-untyped-defs src/untyped_func.py"
   ]
  },
  {
   "cell_type": "markdown",
   "metadata": {},
   "source": [
    "### Handling None/Optional\n"
   ]
  },
  {
   "cell_type": "code",
   "execution_count": 17,
   "metadata": {},
   "outputs": [
    {
     "name": "stdout",
     "output_type": "stream",
     "text": [
      "src/unhandled_none.py:5: \u001b[1m\u001b[31merror:\u001b[m Unsupported operand types for + (\u001b[m\u001b[1m\"None\"\u001b[m and \u001b[m\u001b[1m\"int\"\u001b[m)\u001b[m\n",
      "src/unhandled_none.py:5: \u001b[34mnote:\u001b[m Left operand is of type \u001b[m\u001b[1m\"Optional[int]\"\u001b[m\u001b[m\n",
      "\u001b[1m\u001b[31mFound 1 error in 1 file (checked 1 source file)\u001b[m\n"
     ]
    }
   ],
   "source": [
    "# The following option flags unhandled None cases\n",
    "\n",
    "!mypy --strict-optional src/unhandled_none.py"
   ]
  },
  {
   "cell_type": "code",
   "execution_count": 18,
   "metadata": {},
   "outputs": [
    {
     "name": "stdout",
     "output_type": "stream",
     "text": [
      "src/ambiguous_none.py:1: \u001b[1m\u001b[31merror:\u001b[m Incompatible default for argument \u001b[m\u001b[1m\"x\"\u001b[m (default has type \u001b[m\u001b[1m\"None\"\u001b[m, argument has type \u001b[m\u001b[1m\"int\"\u001b[m)\u001b[m\n",
      "\u001b[1m\u001b[31mFound 1 error in 1 file (checked 1 source file)\u001b[m\n"
     ]
    }
   ],
   "source": [
    "# The following option disables the conversion of None values as Optional types\n",
    "\n",
    "!mypy --no-implicit-optional src/ambiguous_none.py\n"
   ]
  },
  {
   "cell_type": "markdown",
   "metadata": {},
   "source": [
    "### Mypy reporting"
   ]
  },
  {
   "cell_type": "code",
   "execution_count": 35,
   "metadata": {},
   "outputs": [
    {
     "name": "stdout",
     "output_type": "stream",
     "text": [
      "usage: mypy [-h] [-v] [-V] [more options; see below]\n",
      "            [-m MODULE] [-p PACKAGE] [-c PROGRAM_TEXT] [files ...]\n",
      "mypy: error: Missing target module, package, files, or command.\n"
     ]
    }
   ],
   "source": [
    "# The following option creates a HTML report after typechecking a module or package\n",
    "\n",
    "!mypy --html-report ./src"
   ]
  },
  {
   "cell_type": "code",
   "execution_count": 28,
   "metadata": {},
   "outputs": [
    {
     "name": "stdout",
     "output_type": "stream",
     "text": [
      "usage: mypy [-h] [-v] [-V] [more options; see below]\n",
      "            [-m MODULE] [-p PACKAGE] [-c PROGRAM_TEXT] [files ...]\n",
      "mypy: error: Missing target module, package, files, or command.\n"
     ]
    }
   ],
   "source": [
    "# The following option tracks explicit Any expressions on a line-by-line basis\n",
    "\n",
    "!mypy --any-exprs-report ./src\n"
   ]
  },
  {
   "cell_type": "markdown",
   "metadata": {},
   "source": [
    "## Alternative Typecheckers\n"
   ]
  },
  {
   "cell_type": "markdown",
   "metadata": {},
   "source": [
    "### Pyre"
   ]
  },
  {
   "cell_type": "markdown",
   "metadata": {},
   "source": [
    "You can install it as follows"
   ]
  },
  {
   "cell_type": "code",
   "execution_count": null,
   "metadata": {},
   "outputs": [
    {
     "data": {
      "text/plain": [
       "'\\n!pip install pyre-check\\n'"
      ]
     },
     "execution_count": 20,
     "metadata": {},
     "output_type": "execute_result"
    }
   ],
   "source": [
    "\"\"\"\n",
    "!pip install pyre-check\n",
    "\"\"\""
   ]
  },
  {
   "cell_type": "markdown",
   "metadata": {},
   "source": [
    "Pyre allows you to make queries to inspect the codebase"
   ]
  },
  {
   "cell_type": "code",
   "execution_count": null,
   "metadata": {},
   "outputs": [
    {
     "name": "stdout",
     "output_type": "stream",
     "text": [
      "/bin/bash: pyre: command not found\n"
     ]
    }
   ],
   "source": [
    "# The following query returns all the attributes of any class in the codebase\n",
    "\n",
    "!pyre query \"attributes(mypy.errors.CompileError)\""
   ]
  },
  {
   "cell_type": "code",
   "execution_count": null,
   "metadata": {},
   "outputs": [
    {
     "name": "stdout",
     "output_type": "stream",
     "text": [
      "/bin/bash: pyre: command not found\n"
     ]
    }
   ],
   "source": [
    "# The following query returns all the callees of any function:\n",
    "\n",
    "!pyre query \"callees(mypy.errors.remove_path_prefix)\"\n"
   ]
  },
  {
   "cell_type": "markdown",
   "metadata": {},
   "source": [
    "### Python Static Analyzer (Pysa)"
   ]
  },
  {
   "cell_type": "markdown",
   "metadata": {},
   "source": [
    "Consider the case where a user creates a new recipe in a filesystem"
   ]
  },
  {
   "cell_type": "code",
   "execution_count": null,
   "metadata": {},
   "outputs": [],
   "source": [
    "import os\n",
    "\n",
    "\n",
    "def create_recipe():\n",
    "    recipe = input(\"Enter in recipe\")\n",
    "    create_recipe_on_disk(recipe)\n",
    "\n",
    "def create_recipe_on_disk(recipe):\n",
    "    command = \"touch ~/food_data/{}.json\".format(recipe)\n",
    "    return os.system(command)\n"
   ]
  },
  {
   "cell_type": "markdown",
   "metadata": {},
   "source": [
    "The input() statement inside the function create_recipe() is dangerous. What if a malicious user enters the following?:\n",
    "\n",
    "```\n",
    "carrots; ls ~;\n",
    "```\n",
    "\n",
    "It will list the server's entire home directory!!"
   ]
  },
  {
   "cell_type": "markdown",
   "metadata": {},
   "source": [
    "To address the last issue, pysa provides tools for 'taint analysis', as follows"
   ]
  },
  {
   "cell_type": "code",
   "execution_count": null,
   "metadata": {},
   "outputs": [
    {
     "data": {
      "text/plain": [
       "'\\n{\\n    sources: [\\n        {\\n            name: \"UserControlled\", \\n            comment: \"use to annotate user input\"\\n        }\\n    ],\\n    sinks: [\\n        {\\n            name: \"RemoteCodeExecution\", \\n            comment: \"use to annotate execution of code\"\\n        }\\n    ],\\n    features: [],\\n    rules: [\\n        {\\n            name: \"Possible shell injection\", \\n            code: 5001,\\n            sources: [ \"UserControlled\" ],\\n            sinks: [ \"RemoteCodeExecution\" ],\\n            message_format: \"Data from [{$sources}] source(s) may reach [{$sinks}] sink(s)\"\\n        }\\n    ]\\n}\\n'"
      ]
     },
     "execution_count": 3,
     "metadata": {},
     "output_type": "execute_result"
    }
   ],
   "source": [
    "# Create a taint.config file with the following contents\n",
    "\n",
    "\"\"\"\n",
    "{\n",
    "    sources: [\n",
    "        {\n",
    "            name: \"UserControlled\", \n",
    "            comment: \"use to annotate user input\"\n",
    "        }\n",
    "    ],\n",
    "    sinks: [\n",
    "        {\n",
    "            name: \"RemoteCodeExecution\", \n",
    "            comment: \"use to annotate execution of code\"\n",
    "        }\n",
    "    ],\n",
    "    features: [],\n",
    "    rules: [\n",
    "        {\n",
    "            name: \"Possible shell injection\", \n",
    "            code: 5001,\n",
    "            sources: [ \"UserControlled\" ],\n",
    "            sinks: [ \"RemoteCodeExecution\" ],\n",
    "            message_format: \"Data from [{$sources}] source(s) may reach [{$sinks}] sink(s)\"\n",
    "        }\n",
    "    ]\n",
    "}\n",
    "\"\"\""
   ]
  },
  {
   "cell_type": "code",
   "execution_count": null,
   "metadata": {},
   "outputs": [
    {
     "data": {
      "text/plain": [
       "'\\n# stubs/taint/general.pysa\\n\\n# model for raw_input\\ndef input(__prompt = ...) -> TaintSource[UserControlled]: ...\\n\\n# model for os.system\\ndef os.system(command: TaintSink[RemoteCodeExecution]): ...\\n'"
      ]
     },
     "execution_count": 1,
     "metadata": {},
     "output_type": "execute_result"
    }
   ],
   "source": [
    "# Next, create a general.pysa file with the following contents\n",
    "\n",
    "\"\"\"\n",
    "# stubs/taint/general.pysa\n",
    "\n",
    "# model for raw_input\n",
    "def input(__prompt = ...) -> TaintSource[UserControlled]: ...\n",
    "\n",
    "# model for os.system\n",
    "def os.system(command: TaintSink[RemoteCodeExecution]): ...\n",
    "\"\"\""
   ]
  },
  {
   "cell_type": "code",
   "execution_count": null,
   "metadata": {},
   "outputs": [
    {
     "data": {
      "text/plain": [
       "'\\n\"source_directories\": [\".\"],\\n\"taint_models_path\": [\"stubs/taint\"]\\n'"
      ]
     },
     "execution_count": 2,
     "metadata": {},
     "output_type": "execute_result"
    }
   ],
   "source": [
    "# Next, modify the .pyre_configuration to add in your directory to tell Pyre to detect tainted information \n",
    "\n",
    "\"\"\"\n",
    "\"source_directories\": [\".\"],\n",
    "\"taint_models_path\": [\"stubs/taint\"]\n",
    "\"\"\""
   ]
  },
  {
   "cell_type": "code",
   "execution_count": null,
   "metadata": {},
   "outputs": [
    {
     "name": "stdout",
     "output_type": "stream",
     "text": [
      "/bin/bash: pyre: command not found\n"
     ]
    }
   ],
   "source": [
    "# Then, you can run Pyre against the target file\n",
    "\n",
    "!pyre analyze TARGET_FILE.py"
   ]
  }
 ],
 "metadata": {
  "interpreter": {
   "hash": "3fd673f0bd4e75da526fdef7ec84a70817605d24d0b9cc1488403ba9d379e57b"
  },
  "kernelspec": {
   "display_name": "Python 3.9.5 ('env': venv)",
   "language": "python",
   "name": "python3"
  },
  "language_info": {
   "codemirror_mode": {
    "name": "ipython",
    "version": 3
   },
   "file_extension": ".py",
   "mimetype": "text/x-python",
   "name": "python",
   "nbconvert_exporter": "python",
   "pygments_lexer": "ipython3",
   "version": "3.9.5"
  },
  "orig_nbformat": 4
 },
 "nbformat": 4,
 "nbformat_minor": 2
}

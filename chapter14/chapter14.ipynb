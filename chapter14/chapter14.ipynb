{
 "cells": [
  {
   "cell_type": "markdown",
   "metadata": {},
   "source": [
    "# Runtime checking with pydantic"
   ]
  },
  {
   "cell_type": "code",
   "execution_count": 54,
   "metadata": {},
   "outputs": [],
   "source": [
    "from typing import Literal, Optional, TypedDict, Union, List\n",
    "\n"
   ]
  },
  {
   "cell_type": "markdown",
   "metadata": {},
   "source": [
    "### Dynamic Configuration\n"
   ]
  },
  {
   "cell_type": "markdown",
   "metadata": {},
   "source": [
    "```\n",
    "Consider a config file describing restaurants. \n",
    "Here is a list of configurable fields and constraints per restaurant:\n",
    "\n",
    "• Name of the restaurant\n",
    "    - The name must be less than 32 characters long, \n",
    "    - The name can only contain letters, numbers, quotation marks, and spaces.\n",
    "• Owner's full name\n",
    "• Address\n",
    "• List of employees\n",
    "    - There must be at least one chef and one server.\n",
    "    - Each employee has a name and position.\n",
    "    - Each employee either has a mailing address for a check or direct deposit details.\n",
    "• List of dishes\n",
    "    - Each dish has a name, price, and description. \n",
    "    - The name is limited to 16 characters, and the description is limited to 80 characters. \n",
    "    - Optionally, there is a picture (in the form of a filename) with each dish.\n",
    "    - Each dish must have a unique name.\n",
    "    - There must be at least three dishes on the menu.\n",
    "• Number of seats\n",
    "• Offers to-go orders (Boolean)\n",
    "• Offers delivery (Boolean)\n",
    "```\n"
   ]
  },
  {
   "cell_type": "code",
   "execution_count": 1,
   "metadata": {},
   "outputs": [
    {
     "data": {
      "text/plain": [
       "\"\\nname: Viafore's\\nowner: Pat Viafore\\naddress: '123 Fake St. Fakington, FA 01234'\\nemployees:\\n  - name: Pat Viafore\\n    position: Chef\\n    payment_details:\\n      bank_details:\\n        routing_number: '123456789'\\n    account_number: '123456789012'\\n  - name: Made-up McGee\\n    position: Server\\n    payment_details:\\n      bank_details:\\n        routing_number: '123456789'\\n        account_number: '123456789012'\\n  - name: Fabricated Frank\\n    position: Sous Chef\\n    payment_details:\\n      bank_details:\\n        routing_number: '123456789'\\n        account_number: '123456789012'\\n  - name: Illusory Ilsa\\n    position: Host\\n    payment_details:\\n      bank_details:\\n        routing_number: '123456789'\\n        account_number: '123456789012'\\ndishes:\\n  - name: Pasta and Sausage\\n    price_in_cents: 1295\\n    description: Rigatoni and sausage with a tomato-garlic-basil sauce\\n  - name: Pasta Bolognese\\n    price_in_cents: 1495\\n    description: Spaghetti with a rich tomato and beef Sauce\\n  - name: Caprese Salad\\n    price_in_cents: 795\\n    description: 'Tomato, buffalo mozzarella, and basil'\\n    picture: caprese.png\\n    number_of_seats: 12\\nto_go: true\\ndelivery: false\\n\""
      ]
     },
     "execution_count": 1,
     "metadata": {},
     "output_type": "execute_result"
    }
   ],
   "source": [
    "# From the last requirements, we can create a YAML file as follows\n",
    "\n",
    "\"\"\"\n",
    "name: Viafore's\n",
    "owner: Pat Viafore\n",
    "address: '123 Fake St. Fakington, FA 01234'\n",
    "employees:\n",
    "  - name: Pat Viafore\n",
    "    position: Chef\n",
    "    payment_details:\n",
    "      bank_details:\n",
    "        routing_number: '123456789'\n",
    "    account_number: '123456789012'\n",
    "  - name: Made-up McGee\n",
    "    position: Server\n",
    "    payment_details:\n",
    "      bank_details:\n",
    "        routing_number: '123456789'\n",
    "        account_number: '123456789012'\n",
    "  - name: Fabricated Frank\n",
    "    position: Sous Chef\n",
    "    payment_details:\n",
    "      bank_details:\n",
    "        routing_number: '123456789'\n",
    "        account_number: '123456789012'\n",
    "  - name: Illusory Ilsa\n",
    "    position: Host\n",
    "    payment_details:\n",
    "      bank_details:\n",
    "        routing_number: '123456789'\n",
    "        account_number: '123456789012'\n",
    "dishes:\n",
    "  - name: Pasta and Sausage\n",
    "    price_in_cents: 1295\n",
    "    description: Rigatoni and sausage with a tomato-garlic-basil sauce\n",
    "  - name: Pasta Bolognese\n",
    "    price_in_cents: 1495\n",
    "    description: Spaghetti with a rich tomato and beef Sauce\n",
    "  - name: Caprese Salad\n",
    "    price_in_cents: 795\n",
    "    description: 'Tomato, buffalo mozzarella, and basil'\n",
    "    picture: caprese.png\n",
    "    number_of_seats: 12\n",
    "to_go: true\n",
    "delivery: false\n",
    "\"\"\""
   ]
  },
  {
   "cell_type": "markdown",
   "metadata": {},
   "source": [
    "Before continuing, install and import the 'yaml' library"
   ]
  },
  {
   "cell_type": "code",
   "execution_count": 5,
   "metadata": {},
   "outputs": [
    {
     "data": {
      "text/plain": [
       "'\\n!pip install pyyaml\\n'"
      ]
     },
     "execution_count": 5,
     "metadata": {},
     "output_type": "execute_result"
    }
   ],
   "source": [
    "\"\"\"\n",
    "!pip install pyyaml\n",
    "\"\"\""
   ]
  },
  {
   "cell_type": "code",
   "execution_count": 6,
   "metadata": {},
   "outputs": [],
   "source": [
    "import yaml"
   ]
  },
  {
   "cell_type": "code",
   "execution_count": 10,
   "metadata": {},
   "outputs": [
    {
     "data": {
      "text/plain": [
       "{'name': \"Viafore's\",\n",
       " 'owner': 'Pat Viafore',\n",
       " 'address': '123 Fake St. Fakington, FA 01234',\n",
       " 'employees': [{'name': 'Pat Viafore',\n",
       "   'position': 'Chef',\n",
       "   'payment_details': {'bank_details': {'routing_number': '123456789'}},\n",
       "   'account_number': '123456789012'},\n",
       "  {'name': 'Made-up McGee',\n",
       "   'position': 'Server',\n",
       "   'payment_details': {'bank_details': {'routing_number': '123456789',\n",
       "     'account_number': '123456789012'}}},\n",
       "  {'name': 'Fabricated Frank',\n",
       "   'position': 'Sous Chef',\n",
       "   'payment_details': {'bank_details': {'routing_number': '123456789',\n",
       "     'account_number': '123456789012'}}},\n",
       "  {'name': 'Illusory Ilsa',\n",
       "   'position': 'Host',\n",
       "   'payment_details': {'bank_details': {'routing_number': '123456789',\n",
       "     'account_number': '123456789012'}}}],\n",
       " 'dishes': [{'name': 'Pasta and Sausage',\n",
       "   'price_in_cents': 1295,\n",
       "   'description': 'Rigatoni and sausage with a tomato-garlic-basil sauce'},\n",
       "  {'name': 'Pasta Bolognese',\n",
       "   'price_in_cents': 1495,\n",
       "   'description': 'Spaghetti with a rich tomato and beef Sauce'},\n",
       "  {'name': 'Caprese Salad',\n",
       "   'price_in_cents': 795,\n",
       "   'description': 'Tomato, buffalo mozzarella, and basil',\n",
       "   'picture': 'caprese.png',\n",
       "   'number_of_seats': 12}],\n",
       " 'to_go': True,\n",
       " 'delivery': False}"
      ]
     },
     "execution_count": 10,
     "metadata": {},
     "output_type": "execute_result"
    }
   ],
   "source": [
    "# Then we can use the 'yaml' library to read the last file and create a dictionary from it:\n",
    "\n",
    "with open('restaurant.yml') as yaml_file:\n",
    "    restaurant = yaml.safe_load(yaml_file)\n",
    "\n",
    "restaurant\n"
   ]
  },
  {
   "cell_type": "markdown",
   "metadata": {},
   "source": [
    "But how do we validate the constraints listed above?"
   ]
  },
  {
   "cell_type": "code",
   "execution_count": 12,
   "metadata": {},
   "outputs": [],
   "source": [
    "# A first idea is to use a TypedDict, as follows\n",
    "\n",
    "class AccountAndRoutingNumber(TypedDict):\n",
    "    account_number: str\n",
    "    routing_number: str\n",
    "\n",
    "class BankDetails(TypedDict):\n",
    "    bank_details: AccountAndRoutingNumber\n",
    "\n",
    "AddressOrBankDetails = Union[str, BankDetails]\n",
    "Position = Literal['Chef', 'Sous Chef', 'Host', 'Server', 'Delivery Driver']\n",
    "\n",
    "class Dish(TypedDict):\n",
    "    name: str\n",
    "    price_in_cents: int\n",
    "    description: str\n",
    "\n",
    "class DishWithOptionalPicture(Dish, TypedDict, total=False):\n",
    "    picture: str\n",
    "\n",
    "class Employee(TypedDict):\n",
    "    name: str\n",
    "    position: Position\n",
    "    payment_information: AddressOrBankDetails\n",
    "\n",
    "class Restaurant(TypedDict):\n",
    "    name: str\n",
    "    owner: str\n",
    "    address: str\n",
    "    employees: list[Employee]\n",
    "    dishes: list[Dish]\n",
    "    number_of_seats: int\n",
    "    to_go: bool\n",
    "    delivery: bool\n"
   ]
  },
  {
   "cell_type": "code",
   "execution_count": 46,
   "metadata": {},
   "outputs": [],
   "source": [
    "# With the last types, we can create the following function\n",
    "\n",
    "def load_restaurant(filename: str) -> Restaurant:\n",
    "    with open(filename) as yaml_file:\n",
    "        return yaml.safe_load(yaml_file)\n"
   ]
  },
  {
   "cell_type": "markdown",
   "metadata": {},
   "source": [
    "```\n",
    "But there are issues with this approach:\n",
    "• We can't control construction of a TypedDict, so we can't validate any fields as part of type construction.\n",
    "• TypedDict cannot have additional methods on it.\n",
    "•TypedDict doesn't do validation implicitly.\n",
    "```"
   ]
  },
  {
   "cell_type": "code",
   "execution_count": 47,
   "metadata": {},
   "outputs": [
    {
     "data": {
      "text/plain": [
       "{'invalid_name': 'This is the wrong file format'}"
      ]
     },
     "execution_count": 47,
     "metadata": {},
     "output_type": "execute_result"
    }
   ],
   "source": [
    "# For example, if we load a file with an invalid shape, the typechecker won't complain\n",
    "\n",
    "restaurant = load_restaurant('Invalid_Restaurant.yml')\n",
    "restaurant\n"
   ]
  },
  {
   "cell_type": "markdown",
   "metadata": {},
   "source": [
    "### Using pydantic"
   ]
  },
  {
   "cell_type": "markdown",
   "metadata": {},
   "source": [
    "Before continuing, install and import the 'pydantic' library"
   ]
  },
  {
   "cell_type": "code",
   "execution_count": 20,
   "metadata": {},
   "outputs": [
    {
     "data": {
      "text/plain": [
       "'\\n!pip install pydantic\\n'"
      ]
     },
     "execution_count": 20,
     "metadata": {},
     "output_type": "execute_result"
    }
   ],
   "source": [
    "\"\"\"\n",
    "!pip install pydantic\n",
    "\"\"\""
   ]
  },
  {
   "cell_type": "code",
   "execution_count": 67,
   "metadata": {},
   "outputs": [],
   "source": [
    "from pydantic.dataclasses import dataclass\n",
    "from pydantic import constr, conlist, validator, PositiveInt, StrictInt\n"
   ]
  },
  {
   "cell_type": "code",
   "execution_count": 49,
   "metadata": {},
   "outputs": [],
   "source": [
    "# A better idea is to use pydantic to model our classes, as follows\n",
    "\n",
    "@dataclass\n",
    "class AccountAndRoutingNumber:\n",
    "    account_number: str\n",
    "    routing_number: str\n",
    "\n",
    "@dataclass\n",
    "class BankDetails:\n",
    "    bank_details: AccountAndRoutingNumber\n",
    "\n",
    "AddressOrBankDetails = Union[str, BankDetails]\n",
    "Position = Literal['Chef', 'Sous Chef', 'Host', 'Server', 'Delivery Driver']\n",
    "\n",
    "@dataclass\n",
    "class Dish:\n",
    "    name: str\n",
    "    price_in_cents: int\n",
    "    description: str\n",
    "    picture: Optional[str] = None\n",
    "\n",
    "@dataclass\n",
    "class Employee:\n",
    "    name: str\n",
    "    position: Position\n",
    "    payment_information: AddressOrBankDetails\n",
    "\n",
    "@dataclass\n",
    "class Restaurant:\n",
    "    name: str\n",
    "    owner: str\n",
    "    address: str\n",
    "    employees: list[Employee]\n",
    "    dishes: list[Dish]\n",
    "    number_of_seats: int\n",
    "    to_go: bool\n",
    "    delivery: bool\n"
   ]
  },
  {
   "cell_type": "code",
   "execution_count": 50,
   "metadata": {},
   "outputs": [],
   "source": [
    "# To construct the pydantic type, we should change the load function as follows\n",
    "\n",
    "def load_restaurant_2(filename: str) -> Restaurant:\n",
    "    with open(filename) as yaml_file:\n",
    "        data = yaml.safe_load(yaml_file)\n",
    "        return Restaurant(**data)\n"
   ]
  },
  {
   "cell_type": "code",
   "execution_count": 51,
   "metadata": {},
   "outputs": [
    {
     "ename": "TypeError",
     "evalue": "__init__() got an unexpected keyword argument 'invalid_name'",
     "output_type": "error",
     "traceback": [
      "\u001b[0;31m---------------------------------------------------------------------------\u001b[0m",
      "\u001b[0;31mTypeError\u001b[0m                                 Traceback (most recent call last)",
      "\u001b[1;32m/home/william/github/will-i-amv-books/robust-python/chapter14/chapter14.ipynb Cell 21'\u001b[0m in \u001b[0;36m<cell line: 3>\u001b[0;34m()\u001b[0m\n\u001b[1;32m      <a href='vscode-notebook-cell://wsl%2Bubuntu/home/william/github/will-i-amv-books/robust-python/chapter14/chapter14.ipynb#ch0000022vscode-remote?line=0'>1</a>\u001b[0m \u001b[39m# For example, if we load again the file with an invalid shape, pydantic will throw an exception\u001b[39;00m\n\u001b[0;32m----> <a href='vscode-notebook-cell://wsl%2Bubuntu/home/william/github/will-i-amv-books/robust-python/chapter14/chapter14.ipynb#ch0000022vscode-remote?line=2'>3</a>\u001b[0m restaurant \u001b[39m=\u001b[39m load_restaurant_2(\u001b[39m'\u001b[39;49m\u001b[39mInvalid_Restaurant.yml\u001b[39;49m\u001b[39m'\u001b[39;49m)\n\u001b[1;32m      <a href='vscode-notebook-cell://wsl%2Bubuntu/home/william/github/will-i-amv-books/robust-python/chapter14/chapter14.ipynb#ch0000022vscode-remote?line=3'>4</a>\u001b[0m restaurant\n",
      "\u001b[1;32m/home/william/github/will-i-amv-books/robust-python/chapter14/chapter14.ipynb Cell 20'\u001b[0m in \u001b[0;36mload_restaurant_2\u001b[0;34m(filename)\u001b[0m\n\u001b[1;32m      <a href='vscode-notebook-cell://wsl%2Bubuntu/home/william/github/will-i-amv-books/robust-python/chapter14/chapter14.ipynb#ch0000021vscode-remote?line=3'>4</a>\u001b[0m \u001b[39mwith\u001b[39;00m \u001b[39mopen\u001b[39m(filename) \u001b[39mas\u001b[39;00m yaml_file:\n\u001b[1;32m      <a href='vscode-notebook-cell://wsl%2Bubuntu/home/william/github/will-i-amv-books/robust-python/chapter14/chapter14.ipynb#ch0000021vscode-remote?line=4'>5</a>\u001b[0m     data \u001b[39m=\u001b[39m yaml\u001b[39m.\u001b[39msafe_load(yaml_file)\n\u001b[0;32m----> <a href='vscode-notebook-cell://wsl%2Bubuntu/home/william/github/will-i-amv-books/robust-python/chapter14/chapter14.ipynb#ch0000021vscode-remote?line=5'>6</a>\u001b[0m     \u001b[39mreturn\u001b[39;00m Restaurant(\u001b[39m*\u001b[39;49m\u001b[39m*\u001b[39;49mdata)\n",
      "\u001b[0;31mTypeError\u001b[0m: __init__() got an unexpected keyword argument 'invalid_name'"
     ]
    }
   ],
   "source": [
    "# For example, if we load again the file with an invalid shape, pydantic will throw an exception\n",
    "\n",
    "restaurant = load_restaurant_2('Invalid_Restaurant.yml')\n",
    "restaurant\n"
   ]
  },
  {
   "cell_type": "markdown",
   "metadata": {},
   "source": [
    "### pydantic validators\n"
   ]
  },
  {
   "cell_type": "code",
   "execution_count": null,
   "metadata": {},
   "outputs": [],
   "source": [
    "# We can use pydantic's constrained types, that check for specific constraints upon a field, as follows\n",
    "\n",
    "@dataclass\n",
    "class AccountAndRoutingNumber:\n",
    "    account_number: constr(min_length=9, max_length=9)\n",
    "    routing_number: constr(min_length=8, max_length=12)\n",
    "\n",
    "@dataclass\n",
    "class Address:\n",
    "    address: constr(min_length=1)\n",
    "\n",
    "@dataclass\n",
    "class Dish:\n",
    "    name: constr(min_length=1, max_length=16)\n",
    "    price_in_cents: PositiveInt\n",
    "    description: constr(min_length=1, max_length=80)\n",
    "    picture: Optional[str] = None\n",
    "\n",
    "@dataclass\n",
    "class Restaurant:\n",
    "    name: constr(regex=r'^[a-zA-Z0-9 ]*$', min_length=1, max_length=16)\n",
    "    owner: constr(min_length=1)\n",
    "    address: constr(min_length=1)\n",
    "    employees: List[Employee]\n",
    "    dishes: List[Dish]\n",
    "    number_of_seats: PositiveInt\n",
    "    to_go: bool\n",
    "    delivery: bool\n"
   ]
  },
  {
   "cell_type": "code",
   "execution_count": 57,
   "metadata": {},
   "outputs": [],
   "source": [
    "# We can also constrain lists to enforce further restrictions, as follows\n",
    "\n",
    "@dataclass\n",
    "class Restaurant:\n",
    "    name: constr(regex=r'^[a-zA-Z0-9 ]*$', min_length=1, max_length=16)\n",
    "    owner: constr(min_length=1)\n",
    "    address: constr(min_length=1)\n",
    "    employees: conlist(Employee, min_items=2)\n",
    "    dishes: conlist(Dish, min_items=3)\n",
    "    number_of_seats: PositiveInt\n",
    "    to_go: bool\n",
    "    delivery: bool\n"
   ]
  },
  {
   "cell_type": "code",
   "execution_count": 59,
   "metadata": {},
   "outputs": [],
   "source": [
    "# We can also use custom validators to embed additional pieces of validation logic, as follows\n",
    "\n",
    "@dataclass\n",
    "class Restaurant:\n",
    "    name: constr(regex=r'^[a-zA-Z0-9 ]*$', min_length=1, max_length=16)\n",
    "    owner: constr(min_length=1)\n",
    "    address: constr(min_length=1)\n",
    "    employees: conlist(Employee, min_items=2)\n",
    "    dishes: conlist(Dish, min_items=3)\n",
    "    number_of_seats: PositiveInt\n",
    "    to_go: bool\n",
    "    delivery: bool\n",
    "    \n",
    "    @validator('employees')\n",
    "    def check_chef_and_server(cls, employees):\n",
    "        if (\n",
    "            any(e for e in employees if e.position == 'Chef') and\n",
    "            any(e for e in employees if e.position == 'Server')\n",
    "        ):\n",
    "            return employees\n",
    "        \n",
    "        raise ValueError('Must have at least one chef and one server')\n"
   ]
  },
  {
   "cell_type": "markdown",
   "metadata": {},
   "source": [
    "### Validation Versus Parsing\n"
   ]
  },
  {
   "cell_type": "code",
   "execution_count": 61,
   "metadata": {},
   "outputs": [],
   "source": [
    "# Pydantic is a parsing library, so it will coerce input data into the types you defined\n",
    "\n",
    "@dataclass\n",
    "class Model:\n",
    "    value: int\n"
   ]
  },
  {
   "cell_type": "code",
   "execution_count": 65,
   "metadata": {},
   "outputs": [
    {
     "data": {
      "text/plain": [
       "Model(value=123)"
      ]
     },
     "execution_count": 65,
     "metadata": {},
     "output_type": "execute_result"
    }
   ],
   "source": [
    "# You can pass any data type into this model, as long as it can be converted to int\n",
    "\n",
    "Model(value=\"123\")"
   ]
  },
  {
   "cell_type": "code",
   "execution_count": 66,
   "metadata": {},
   "outputs": [
    {
     "data": {
      "text/plain": [
       "Model(value=5)"
      ]
     },
     "execution_count": 66,
     "metadata": {},
     "output_type": "execute_result"
    }
   ],
   "source": [
    "Model(value=5.5) # Truncates the value to 5\n"
   ]
  },
  {
   "cell_type": "code",
   "execution_count": 70,
   "metadata": {},
   "outputs": [],
   "source": [
    "# But we can restrict this sort of behavior, as follows\n",
    "\n",
    "@dataclass\n",
    "class StrictModel:\n",
    "    value: StrictInt\n"
   ]
  },
  {
   "cell_type": "code",
   "execution_count": 71,
   "metadata": {},
   "outputs": [
    {
     "ename": "ValidationError",
     "evalue": "1 validation error for StrictModel\nvalue\n  value is not a valid integer (type=type_error.integer)",
     "output_type": "error",
     "traceback": [
      "\u001b[0;31m---------------------------------------------------------------------------\u001b[0m",
      "\u001b[0;31mValidationError\u001b[0m                           Traceback (most recent call last)",
      "\u001b[1;32m/home/william/github/will-i-amv-books/robust-python/chapter14/chapter14.ipynb Cell 31'\u001b[0m in \u001b[0;36m<cell line: 3>\u001b[0;34m()\u001b[0m\n\u001b[1;32m      <a href='vscode-notebook-cell://wsl%2Bubuntu/home/william/github/will-i-amv-books/robust-python/chapter14/chapter14.ipynb#ch0000032vscode-remote?line=0'>1</a>\u001b[0m \u001b[39m# Now any invalid data will raise an exception\u001b[39;00m\n\u001b[0;32m----> <a href='vscode-notebook-cell://wsl%2Bubuntu/home/william/github/will-i-amv-books/robust-python/chapter14/chapter14.ipynb#ch0000032vscode-remote?line=2'>3</a>\u001b[0m StrictModel(value\u001b[39m=\u001b[39;49m\u001b[39m\"\u001b[39;49m\u001b[39m123\u001b[39;49m\u001b[39m\"\u001b[39;49m)\n",
      "File \u001b[0;32m<string>:4\u001b[0m, in \u001b[0;36m__init__\u001b[0;34m(self, value)\u001b[0m\n",
      "File \u001b[0;32m~/github/will-i-amv-books/robust-python/env/lib/python3.9/site-packages/pydantic/dataclasses.py:100\u001b[0m, in \u001b[0;36mpydantic.dataclasses._generate_pydantic_post_init._pydantic_post_init\u001b[0;34m()\u001b[0m\n",
      "\u001b[0;31mValidationError\u001b[0m: 1 validation error for StrictModel\nvalue\n  value is not a valid integer (type=type_error.integer)"
     ]
    }
   ],
   "source": [
    "# Now any invalid data will raise an exception, even if it can be coerced as int\n",
    "\n",
    "StrictModel(value=\"123\")"
   ]
  },
  {
   "cell_type": "code",
   "execution_count": 72,
   "metadata": {},
   "outputs": [
    {
     "ename": "ValidationError",
     "evalue": "1 validation error for StrictModel\nvalue\n  value is not a valid integer (type=type_error.integer)",
     "output_type": "error",
     "traceback": [
      "\u001b[0;31m---------------------------------------------------------------------------\u001b[0m",
      "\u001b[0;31mValidationError\u001b[0m                           Traceback (most recent call last)",
      "\u001b[1;32m/home/william/github/will-i-amv-books/robust-python/chapter14/chapter14.ipynb Cell 32'\u001b[0m in \u001b[0;36m<cell line: 1>\u001b[0;34m()\u001b[0m\n\u001b[0;32m----> <a href='vscode-notebook-cell://wsl%2Bubuntu/home/william/github/will-i-amv-books/robust-python/chapter14/chapter14.ipynb#ch0000033vscode-remote?line=0'>1</a>\u001b[0m StrictModel(value\u001b[39m=\u001b[39;49m\u001b[39m5.5\u001b[39;49m)\n",
      "File \u001b[0;32m<string>:4\u001b[0m, in \u001b[0;36m__init__\u001b[0;34m(self, value)\u001b[0m\n",
      "File \u001b[0;32m~/github/will-i-amv-books/robust-python/env/lib/python3.9/site-packages/pydantic/dataclasses.py:100\u001b[0m, in \u001b[0;36mpydantic.dataclasses._generate_pydantic_post_init._pydantic_post_init\u001b[0;34m()\u001b[0m\n",
      "\u001b[0;31mValidationError\u001b[0m: 1 validation error for StrictModel\nvalue\n  value is not a valid integer (type=type_error.integer)"
     ]
    }
   ],
   "source": [
    "StrictModel(value=5.5)"
   ]
  }
 ],
 "metadata": {
  "interpreter": {
   "hash": "3fd673f0bd4e75da526fdef7ec84a70817605d24d0b9cc1488403ba9d379e57b"
  },
  "kernelspec": {
   "display_name": "Python 3.9.5 ('env': venv)",
   "language": "python",
   "name": "python3"
  },
  "language_info": {
   "codemirror_mode": {
    "name": "ipython",
    "version": 3
   },
   "file_extension": ".py",
   "mimetype": "text/x-python",
   "name": "python",
   "nbconvert_exporter": "python",
   "pygments_lexer": "ipython3",
   "version": "3.9.5"
  },
  "orig_nbformat": 4
 },
 "nbformat": 4,
 "nbformat_minor": 2
}

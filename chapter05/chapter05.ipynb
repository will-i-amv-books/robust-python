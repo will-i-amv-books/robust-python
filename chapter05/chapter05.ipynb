{
 "cells": [
  {
   "cell_type": "markdown",
   "metadata": {},
   "source": [
    "# Collection Types"
   ]
  },
  {
   "cell_type": "code",
   "execution_count": 185,
   "metadata": {},
   "outputs": [],
   "source": [
    "from typing import Union, TypedDict, TypeVar, Generic, Any\n",
    "from collections import defaultdict, UserDict\n",
    "from  collections.abc import Set, Iterable\n",
    "\n",
    "\n"
   ]
  },
  {
   "cell_type": "markdown",
   "metadata": {},
   "source": [
    "## Annotating Collections\n"
   ]
  },
  {
   "cell_type": "code",
   "execution_count": 41,
   "metadata": {},
   "outputs": [],
   "source": [
    "# A function that gets how many books from each author I have in my collection\n",
    "\n",
    "def create_author_count_mapping(cookbooks: list) -> dict:\n",
    "    counter = defaultdict(lambda: 0)\n",
    "    for book in cookbooks:\n",
    "        counter[book.author] += 1\n",
    "    return counter\n"
   ]
  },
  {
   "cell_type": "code",
   "execution_count": 42,
   "metadata": {},
   "outputs": [],
   "source": [
    "# We can encode more information in the types by using bracket syntax \n",
    "# to indicate information about the types inside the collection:\n",
    "\n",
    "class Cookbook:\n",
    "    pass\n",
    "\n",
    "AuthorToCountMapping = dict[str, int]\n",
    "\n",
    "def create_author_count_mapping(\n",
    "    cookbooks: list[Cookbook]\n",
    ") -> AuthorToCountMapping:\n",
    "    \"\"\"\n",
    "    _summary_\n",
    "    \"\"\"\n",
    "    counter = defaultdict(lambda: 0)\n",
    "    for book in cookbooks:\n",
    "        counter[book.author] += 1\n",
    "    return counter\n"
   ]
  },
  {
   "cell_type": "markdown",
   "metadata": {},
   "source": [
    "## Homogeneous Versus Heterogeneous Collections\n"
   ]
  },
  {
   "cell_type": "code",
   "execution_count": 43,
   "metadata": {},
   "outputs": [],
   "source": [
    "# An example of a function that process heterogeneous collections\n",
    "# (can lead to potentially buggy code)\n",
    "\n",
    "def adjust_recipe(recipe, servings):\n",
    "    \"\"\"\n",
    "    Take a meal recipe and change the number of servings\n",
    "    \n",
    "    :param recipe: A list, where the first element is the number of servings,\n",
    "                   and the remainder of elements follow the (name, amount, unit)\n",
    "                   format, such as (\"flour\", 1.5, \"cup\")\n",
    "    :param servings: the number of servings\n",
    "    :return list: a new list of ingredients, where the first element is the\n",
    "                  number of servings\n",
    "    \"\"\"\n",
    "    new_recipe = [servings]\n",
    "    old_servings = recipe[0]\n",
    "    factor = servings / old_servings\n",
    "    recipe.pop(0)\n",
    "    while recipe:\n",
    "        ingredient, amount, unit = recipe.pop(0)\n",
    "        # please only use numbers that will be easily measurable\n",
    "        new_recipe.append((ingredient, amount * factor, unit))\n",
    "    return new_recipe\n"
   ]
  },
  {
   "cell_type": "code",
   "execution_count": 44,
   "metadata": {},
   "outputs": [],
   "source": [
    "# The last function argument types can be specified as follows\n",
    "\n",
    "Ingredient = tuple[str, int, str] # (name, quantity, units)\n",
    "Recipe = tuple[Union[int, Ingredient]] # Tuple of servings or ingredients\n",
    "\n",
    "def adjust_recipe(recipe: Recipe, servings):\n",
    "    pass\n"
   ]
  },
  {
   "cell_type": "code",
   "execution_count": 45,
   "metadata": {},
   "outputs": [],
   "source": [
    "# Consider a tuple of cookbooks\n",
    "\n",
    "food_lab: Cookbook = (\"The Food Lab\", 958)\n",
    "odd_bits: Cookbook = (\"Odd Bits\", 248)\n"
   ]
  },
  {
   "cell_type": "code",
   "execution_count": 46,
   "metadata": {},
   "outputs": [
    {
     "name": "stdout",
     "output_type": "stream",
     "text": [
      "The Food Lab\n",
      "248\n"
     ]
    }
   ],
   "source": [
    "# When accessing a tuple, you will typically index to the specific field you want\n",
    "\n",
    "print(food_lab[0])\n",
    "print(odd_bits[1])\n"
   ]
  },
  {
   "cell_type": "code",
   "execution_count": 47,
   "metadata": {},
   "outputs": [],
   "source": [
    "# But writing food_lab[0] or odd_bits[1] constantly can be burdersome.\n",
    "# A dict can be used, so you can refer to it as food_lab['name'] or food_lab['page_count']\n",
    "\n",
    "food_lab = {\n",
    "    \"name\": \"The Food Lab\",\n",
    "    \"page_count\": 958,\n",
    "}\n"
   ]
  },
  {
   "cell_type": "code",
   "execution_count": 48,
   "metadata": {},
   "outputs": [],
   "source": [
    "# But heterogeneous dics can be burdersome to type:\n",
    "\n",
    "def print_cookbook(cookbook: dict[str, Union[str,int]]):\n",
    "    pass"
   ]
  },
  {
   "cell_type": "code",
   "execution_count": 49,
   "metadata": {},
   "outputs": [],
   "source": [
    "# In these cases, it can be useful to use a TypedDict, \n",
    "# which can typecheck dicts of arbitrary complexity\n",
    "\n",
    "class Range(TypedDict):\n",
    "    min: float\n",
    "    max: float\n",
    "\n",
    "class NutritionInformation(TypedDict):\n",
    "    value: int\n",
    "    unit: str\n",
    "    confidenceRange95Percent: Range\n",
    "    standardDeviation: float\n",
    "\n",
    "class RecipeNutritionInformation(TypedDict):\n",
    "    recipes_used: int\n",
    "    calories: NutritionInformation\n",
    "    fat: NutritionInformation\n",
    "    protein: NutritionInformation\n",
    "    carbs: NutritionInformation\n",
    "\n",
    "def get_nutrition_from_spoonacular(x):\n",
    "    return\n",
    "\n",
    "recipe_name = 'SOME_RECIPE'\n",
    "nutrition_information: RecipeNutritionInformation = (\n",
    "    get_nutrition_from_spoonacular(recipe_name)\n",
    ")\n"
   ]
  },
  {
   "cell_type": "markdown",
   "metadata": {},
   "source": [
    "## Creating New Collections"
   ]
  },
  {
   "cell_type": "markdown",
   "metadata": {},
   "source": [
    "### Generics"
   ]
  },
  {
   "cell_type": "code",
   "execution_count": 50,
   "metadata": {},
   "outputs": [],
   "source": [
    "# Consider a function that reverses a list\n",
    "\n",
    "def reverse(coll: list) -> list:\n",
    "    return coll[::-1]\n"
   ]
  },
  {
   "cell_type": "code",
   "execution_count": 51,
   "metadata": {},
   "outputs": [],
   "source": [
    "# If I want to indicate that the returned list should contain the same type\n",
    "# as the passed-in list, I can use the a generic type: \n",
    "\n",
    "T = TypeVar('T')\n",
    "\n",
    "def reverse(coll: list[T]) -> list[T]:\n",
    "    \"\"\"\n",
    "    Takes in a list of elements of type T and returns a list of elements of type T.\n",
    "    \"\"\"\n",
    "    return coll[::-1]\n"
   ]
  },
  {
   "cell_type": "code",
   "execution_count": 52,
   "metadata": {},
   "outputs": [],
   "source": [
    "# I can represent a generic graph data structore with the following class\n",
    "\n",
    "Node = TypeVar(\"Node\")\n",
    "Edge = TypeVar(\"Edge\")\n",
    "\n",
    "class Graph(Generic[Node, Edge]):\n",
    "    \"\"\"Directed Graph\"\"\"\n",
    "    def __init__(self):\n",
    "        self.edges: dict[Node, list[Edge]] = defaultdict(list)\n",
    "\n",
    "    def add_relation(self, node: Node, to: Edge):\n",
    "        self.edges[node].append(to)\n",
    "\n",
    "    def get_relations(self, node: Node) -> list[Edge]:\n",
    "        return self.edges[node]\n"
   ]
  },
  {
   "cell_type": "code",
   "execution_count": 68,
   "metadata": {},
   "outputs": [],
   "source": [
    "# With the last class, I can define different graphs \n",
    "# and still have them typecheck successfully\n",
    "\n",
    "cookbooks: Graph[Cookbook, Cookbook] = Graph()\n",
    "recipes: Graph[Recipe, Recipe] = Graph()\n",
    "cookbook_recipes: Graph[Cookbook, Recipe] = Graph()\n",
    "\n",
    "recipes.add_relation(\n",
    "    (('Pasta Bolognese', 1, 'dish'), ), \n",
    "    (('Pasta with Sausage and Basil', 2, 'dish'), )\n",
    ")\n",
    "cookbook_recipes.add_relation(\n",
    "    ('The Food Lab', 1), \n",
    "    (('Pasta Bolognese', 3, 'dish'), )\n",
    ")\n"
   ]
  },
  {
   "cell_type": "code",
   "execution_count": 66,
   "metadata": {},
   "outputs": [],
   "source": [
    "# And adding incompatible types will be caugth by mypy\n",
    "\n",
    "cookbooks.add_relation(\n",
    "    Recipe(('Cheeseburger', 3, 'unit3')),\n",
    "    Recipe(('Hamburger', 4, 'unit4')),\n",
    ")\n"
   ]
  },
  {
   "cell_type": "code",
   "execution_count": null,
   "metadata": {},
   "outputs": [],
   "source": [
    "# To see it in action, create the file graph.py with the following contents\n",
    "\n",
    "Ingredient = tuple[str, int, str]\n",
    "Recipe = tuple[Union[int, Ingredient]]\n",
    "Cookbook = tuple[str, int]\n",
    "\n",
    "Node = TypeVar(\"Node\")\n",
    "Edge = TypeVar(\"Edge\")\n",
    "\n",
    "\n",
    "class Graph(Generic[Node, Edge]):\n",
    "    def __init__(self):\n",
    "        self.edges: dict[Node, list[Edge]] = defaultdict(list)\n",
    "\n",
    "    def add_relation(self, node: Node, to: Edge):\n",
    "        self.edges[node].append(to)\n",
    "\n",
    "    def get_relations(self, node: Node) -> list[Edge]:\n",
    "        return self.edges[node]\n",
    "\n",
    "\n",
    "recipes: Graph[Recipe, Recipe] = Graph()\n",
    "cookbook_recipes: Graph[Cookbook, Recipe] = Graph()\n",
    "cookbooks: Graph[Cookbook, Cookbook] = Graph()\n",
    "\n",
    "recipes.add_relation(\n",
    "    (('Pasta Bolognese', 1, 'dish'), ), \n",
    "    (('Pasta with Sausage and Basil', 2, 'dish'), )\n",
    ")\n",
    "cookbook_recipes.add_relation(\n",
    "    ('The Food Lab', 1), \n",
    "    (('Pasta Bolognese', 3, 'dish'), )\n",
    ")\n",
    "cookbooks.add_relation(\n",
    "    (('Cheeseburger', 3, 'dish'), ), \n",
    "    (('Hamburger', 4, 'dish'), )\n",
    ")\n"
   ]
  },
  {
   "cell_type": "code",
   "execution_count": 77,
   "metadata": {},
   "outputs": [
    {
     "name": "stdout",
     "output_type": "stream",
     "text": [
      "graph.py:37: \u001b[1m\u001b[31merror:\u001b[m Argument 1 to \u001b[m\u001b[1m\"add_relation\"\u001b[m of \u001b[m\u001b[1m\"Graph\"\u001b[m has incompatible type \u001b[m\u001b[1m\"Tuple[Tuple[str, int, str]]\"\u001b[m; expected \u001b[m\u001b[1m\"Tuple[str, int]\"\u001b[m\u001b[m\n",
      "graph.py:38: \u001b[1m\u001b[31merror:\u001b[m Argument 2 to \u001b[m\u001b[1m\"add_relation\"\u001b[m of \u001b[m\u001b[1m\"Graph\"\u001b[m has incompatible type \u001b[m\u001b[1m\"Tuple[Tuple[str, int, str]]\"\u001b[m; expected \u001b[m\u001b[1m\"Tuple[str, int]\"\u001b[m\u001b[m\n",
      "\u001b[1m\u001b[31mFound 2 errors in 1 file (checked 1 source file)\u001b[m\n"
     ]
    }
   ],
   "source": [
    "# Then run mypy against the file. The last type error will be caugth\n",
    "\n",
    "!mypy graph.py\n"
   ]
  },
  {
   "cell_type": "markdown",
   "metadata": {},
   "source": [
    "### Other Uses for Generics\n"
   ]
  },
  {
   "cell_type": "code",
   "execution_count": 92,
   "metadata": {},
   "outputs": [],
   "source": [
    "# Considet the following function signatures, where you have to specify \n",
    "# a Union[X, APIError] each time, where only X change\n",
    "\n",
    "NutritionInfo = Any\n",
    "APIError = Any\n",
    "Restaurant = Any\n",
    "\n",
    "\n",
    "def get_nutrition_info(recipe: str) -> Union[NutritionInfo, APIError]:\n",
    "    return\n",
    "\n",
    "def get_ingredients(recipe: str) -> Union[list[Ingredient], APIError]:\n",
    "    return \n",
    "\n",
    "def get_restaurants_serving(recipe: str) -> Union[list[Restaurant], APIError]:\n",
    "    return\n",
    "\n"
   ]
  },
  {
   "cell_type": "code",
   "execution_count": 93,
   "metadata": {},
   "outputs": [],
   "source": [
    "# The last signatures can be simplified with generic types, as follows\n",
    "\n",
    "T = TypeVar(\"T\")\n",
    "APIResponse = Union[T, APIError]\n",
    "\n",
    "def get_nutrition_info(recipe: str) -> APIResponse[NutritionInfo]:\n",
    "    return\n",
    "\n",
    "def get_ingredients(recipe: str) -> APIResponse[list[Ingredient]]:\n",
    "    return\n",
    "\n",
    "def get_restaurants_serving(recipe: str) -> APIResponse[list[Restaurant]]:\n",
    "    return\n"
   ]
  },
  {
   "cell_type": "markdown",
   "metadata": {},
   "source": [
    "### Modifying Existing Types\n"
   ]
  },
  {
   "cell_type": "code",
   "execution_count": 121,
   "metadata": {},
   "outputs": [
    {
     "data": {
      "text/plain": [
       "'\\nnutrition = NutritionalInformation()\\nnutrition[\"arugula\"] = get_nutrition_information(\"arugula\") \\nprint(nutrition[\"rocket\"]) # Should print the same as nutrition[\"arugula\"]\\n'"
      ]
     },
     "execution_count": 121,
     "metadata": {},
     "output_type": "execute_result"
    }
   ],
   "source": [
    "# Suppose I want a dict-like data structure that automatically \n",
    "# handles aliases different salad names that refer to the same type of salad\n",
    "\n",
    "class NutritionalInformation:\n",
    "     def __getitem__(self, key):\n",
    "         pass\n",
    "\n",
    "def get_nutrition_information(x):\n",
    "    return\n",
    "\n",
    "\"\"\"\n",
    "nutrition = NutritionalInformation()\n",
    "nutrition[\"arugula\"] = get_nutrition_information(\"arugula\") \n",
    "print(nutrition[\"rocket\"]) # Should print the same as nutrition[\"arugula\"]\n",
    "\"\"\"\n"
   ]
  },
  {
   "cell_type": "code",
   "execution_count": 166,
   "metadata": {},
   "outputs": [
    {
     "name": "stdout",
     "output_type": "stream",
     "text": [
      "No Ingredient Found\n"
     ]
    }
   ],
   "source": [
    "# The obvious way is to inherit from 'dict' and override '__getitem__', as follows\n",
    "\n",
    "def get_aliases(key):\n",
    "    aliases = {'arugula': 'rocket', 'rocket': 'arugula'}\n",
    "    return [aliases[key]]\n",
    "    \n",
    "class NutritionalInformationDict(dict):\n",
    "    def __getitem__(self, key):\n",
    "        try:\n",
    "            return super().__getitem__(key)\n",
    "        except KeyError:\n",
    "            pass\n",
    "    \n",
    "        for alias in get_aliases(key):\n",
    "            try:\n",
    "                return super().__getitem__(alias)\n",
    "            except KeyError:\n",
    "                pass\n",
    "            raise KeyError(f'Could not find {key} or any of its aliases')\n",
    "\n",
    "\n",
    "# But with the last implementation, the 'get' built-in dict method won't work as expected\n",
    "# since it's implemented with the original version of '__getitem__'\n",
    "\n",
    "nutrition = NutritionalInformationDict({'arugula': 'ARUGULA_DESCRIPTION'})\n",
    "print(nutrition.get('rocket', 'No Ingredient Found'))\n"
   ]
  },
  {
   "cell_type": "code",
   "execution_count": 165,
   "metadata": {},
   "outputs": [
    {
     "data": {
      "text/plain": [
       "'ARUGULA_DESCRIPTION'"
      ]
     },
     "execution_count": 165,
     "metadata": {},
     "output_type": "execute_result"
    }
   ],
   "source": [
    "# To avoid the last issue, inherit your class from the 'UserDict' type, as follows\n",
    "\n",
    "class NutritionalInformationDict(UserDict):\n",
    "    def __getitem__(self, key):\n",
    "        try:\n",
    "            return self.data[key]\n",
    "        except KeyError:\n",
    "            pass\n",
    "        \n",
    "        for alias in get_aliases(key):\n",
    "            try:\n",
    "                return self.data[alias]\n",
    "            except KeyError:\n",
    "                pass\n",
    "        raise KeyError(f'Could not find {key} or any of its aliases')\n",
    "\n",
    "# \"\"\"\n",
    "nutrition = NutritionalInformationDict({'arugula': 'ARUGULA_DESCRIPTION'})\n",
    "nutrition['rocket']\n"
   ]
  },
  {
   "cell_type": "markdown",
   "metadata": {},
   "source": [
    "### As Easy as ABC\n"
   ]
  },
  {
   "cell_type": "code",
   "execution_count": 177,
   "metadata": {},
   "outputs": [],
   "source": [
    "# There's no 'UserSet' like the last type 'UserDict'. \n",
    "# But a custom set can be created with abstract base classes, if it implements \n",
    "# the '__contains__', '__iter__' and '__len__' methods\n",
    "\n",
    "class AliasedIngredientsSet(Set):\n",
    "    def __init__(self, ingredients: set[str]):\n",
    "        self.ingredients = ingredients\n",
    "    \n",
    "    def __contains__(self, value: str):\n",
    "        return (\n",
    "            value in self.ingredients or \n",
    "            any(alias in self.ingredients for alias in get_aliases(value))\n",
    "        )\n",
    "    \n",
    "    def __iter__(self):\n",
    "        return iter(self.ingredients)\n",
    "    \n",
    "    def __len__(self):\n",
    "        return len(self.ingredients)\n"
   ]
  },
  {
   "cell_type": "code",
   "execution_count": 178,
   "metadata": {},
   "outputs": [
    {
     "name": "stdout",
     "output_type": "stream",
     "text": [
      "eggplant\n",
      "pepper\n",
      "arugula\n"
     ]
    }
   ],
   "source": [
    "# Now the AliasedIngredientsSet class behaves like a standard set, but with the new behavior added\n",
    "\n",
    "ingredients = AliasedIngredientsSet({'arugula', 'eggplant', 'pepper'})\n",
    "\n",
    "for ingredient in ingredients:\n",
    "    print(ingredient)\n"
   ]
  },
  {
   "cell_type": "code",
   "execution_count": 179,
   "metadata": {},
   "outputs": [
    {
     "name": "stdout",
     "output_type": "stream",
     "text": [
      "3\n"
     ]
    }
   ],
   "source": [
    "print(len(ingredients))"
   ]
  },
  {
   "cell_type": "code",
   "execution_count": 180,
   "metadata": {},
   "outputs": [
    {
     "name": "stdout",
     "output_type": "stream",
     "text": [
      "True\n"
     ]
    }
   ],
   "source": [
    "print('arugula' in ingredients)\n"
   ]
  },
  {
   "cell_type": "code",
   "execution_count": 181,
   "metadata": {},
   "outputs": [
    {
     "name": "stdout",
     "output_type": "stream",
     "text": [
      "True\n"
     ]
    }
   ],
   "source": [
    "print('rocket' in ingredients) # Aliasing behavior working as expected\n"
   ]
  },
  {
   "cell_type": "code",
   "execution_count": 183,
   "metadata": {},
   "outputs": [
    {
     "data": {
      "text/plain": [
       "['eggplant', 'pepper', 'arugula', 'garlic']"
      ]
     },
     "execution_count": 183,
     "metadata": {},
     "output_type": "execute_result"
    }
   ],
   "source": [
    "list(ingredients | AliasedIngredientsSet({'garlic'})) # The set union operation\n"
   ]
  },
  {
   "cell_type": "code",
   "execution_count": 191,
   "metadata": {},
   "outputs": [],
   "source": [
    "# Types derived from collections.abc can be typechecked as follows\n",
    "\n",
    "def print_items(items):\n",
    "    for item in items:\n",
    "        print(item, end=' ')\n"
   ]
  },
  {
   "cell_type": "code",
   "execution_count": 192,
   "metadata": {},
   "outputs": [
    {
     "name": "stdout",
     "output_type": "stream",
     "text": [
      "1 2 3 \n",
      "\n",
      "4 5 6 \n",
      "\n",
      "A B C "
     ]
    }
   ],
   "source": [
    "print_items([1,2,3])\n",
    "print('\\n')\n",
    "print_items({4, 5, 6})\n",
    "print('\\n')\n",
    "print_items({\"A\": 1, \"B\": 2, \"C\": 3})\n"
   ]
  },
  {
   "cell_type": "code",
   "execution_count": 194,
   "metadata": {},
   "outputs": [
    {
     "name": "stdout",
     "output_type": "stream",
     "text": [
      "1\n",
      "2\n",
      "3\n",
      "\n",
      "\n",
      "4\n",
      "5\n",
      "6\n",
      "\n",
      "\n",
      "A\n",
      "B\n",
      "C\n",
      "\n",
      "\n",
      "eggplant\n",
      "pepper\n",
      "arugula\n"
     ]
    }
   ],
   "source": [
    "def print_items(items: Iterable):\n",
    "    for item in items:\n",
    "        print(item)\n",
    "\n",
    "print_items([1,2,3])\n",
    "print('\\n')\n",
    "print_items({4, 5, 6})\n",
    "print('\\n')\n",
    "print_items({\"A\": 1, \"B\": 2, \"C\": 3})\n",
    "print('\\n')\n",
    "print_items(AliasedIngredientsSet({'arugula', 'eggplant', 'pepper'}))\n"
   ]
  }
 ],
 "metadata": {
  "interpreter": {
   "hash": "3fd673f0bd4e75da526fdef7ec84a70817605d24d0b9cc1488403ba9d379e57b"
  },
  "kernelspec": {
   "display_name": "Python 3.9.5 ('env': venv)",
   "language": "python",
   "name": "python3"
  },
  "language_info": {
   "codemirror_mode": {
    "name": "ipython",
    "version": 3
   },
   "file_extension": ".py",
   "mimetype": "text/x-python",
   "name": "python",
   "nbconvert_exporter": "python",
   "pygments_lexer": "ipython3",
   "version": "3.9.5"
  },
  "orig_nbformat": 4
 },
 "nbformat": 4,
 "nbformat_minor": 2
}

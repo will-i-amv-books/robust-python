{
 "cells": [
  {
   "cell_type": "markdown",
   "metadata": {},
   "source": [
    "# Adopting Typechecking Practically"
   ]
  },
  {
   "cell_type": "code",
   "execution_count": 4,
   "metadata": {},
   "outputs": [],
   "source": [
    "import time"
   ]
  },
  {
   "cell_type": "markdown",
   "metadata": {},
   "source": [
    "## Lean on Your Tooling\n"
   ]
  },
  {
   "cell_type": "markdown",
   "metadata": {},
   "source": [
    "### mypy"
   ]
  },
  {
   "cell_type": "markdown",
   "metadata": {},
   "source": [
    "A sample mypy file, which globally warns if Any types are returned, and sets config options on a per-module basis"
   ]
  },
  {
   "cell_type": "code",
   "execution_count": 3,
   "metadata": {},
   "outputs": [
    {
     "data": {
      "text/plain": [
       "'\\n# Global options:\\n\\n[mypy]\\npython_version = 3.9\\nwarn_return_any = True\\n\\n# Per-module options:\\n\\n[mypy-mycode.foo.*]\\ndisallow_untyped_defs = True\\n\\n[mypy-mycode.bar]\\nwarn_return_any = False\\n\\n[mypy-somelibrary]\\nignore_missing_imports = True\\n'"
      ]
     },
     "execution_count": 3,
     "metadata": {},
     "output_type": "execute_result"
    }
   ],
   "source": [
    "\"\"\"\n",
    "# Global options:\n",
    "\n",
    "[mypy]\n",
    "python_version = 3.9\n",
    "warn_return_any = True\n",
    "\n",
    "# Per-module options:\n",
    "\n",
    "[mypy-mycode.foo.*]\n",
    "disallow_untyped_defs = True\n",
    "\n",
    "[mypy-mycode.bar]\n",
    "warn_return_any = False\n",
    "\n",
    "[mypy-somelibrary]\n",
    "ignore_missing_imports = True\n",
    "\"\"\""
   ]
  },
  {
   "cell_type": "markdown",
   "metadata": {},
   "source": [
    "### monkeytype"
   ]
  },
  {
   "cell_type": "markdown",
   "metadata": {},
   "source": [
    "First, install monkeytype with pip\n"
   ]
  },
  {
   "cell_type": "code",
   "execution_count": null,
   "metadata": {},
   "outputs": [],
   "source": [
    "\"\"\"\n",
    "!pip install monkeytype\n",
    "\"\"\"\n"
   ]
  },
  {
   "cell_type": "markdown",
   "metadata": {},
   "source": [
    "Consider the following code shown below"
   ]
  },
  {
   "cell_type": "code",
   "execution_count": 6,
   "metadata": {},
   "outputs": [],
   "source": [
    "# Create the file untyped_meal_maker.py with the following contents\n",
    "\n",
    "class Ingredient:\n",
    "    def __init__(self, x, y, z):\n",
    "        pass\n",
    "\n",
    "class Recipe:\n",
    "    def __init__(self, x, y):\n",
    "        pass\n",
    "\n",
    "class Receptacle:\n",
    "    def __init__(self, x):\n",
    "        pass\n",
    "\n",
    "class RecipeMaker:\n",
    "    pass\n",
    "\n",
    "def adjust_recipe(x, y):\n",
    "    return \n",
    "\n",
    "italian_sausage = Ingredient('Italian Sausage', 4, 'links')\n",
    "olive_oil = Ingredient('Olive Oil', 1, 'tablespoon')\n",
    "plum_tomato = Ingredient('Plum Tomato', 6, '')\n",
    "garlic = Ingredient('Garlic', 4, 'cloves')\n",
    "black_pepper = Ingredient('Black Pepper', 2, 'teaspoons')\n",
    "basil = Ingredient('Basil Leaves', 1, 'cup')\n",
    "pasta = Ingredient('Rigatoni', 1, 'pound')\n",
    "salt = Ingredient('Salt', 1, 'tablespoon')\n",
    "water = Ingredient('Water', 6, 'quarts')\n",
    "cheese = Ingredient('Pecorino Romano', 2, \"ounces\")\n",
    "\n",
    "pasta_with_sausage = Recipe(\n",
    "    6, \n",
    "    [\n",
    "        italian_sausage,\n",
    "        olive_oil,\n",
    "        plum_tomato,\n",
    "        garlic,\n",
    "        black_pepper,\n",
    "        pasta,\n",
    "        salt,\n",
    "        water,\n",
    "        cheese,\n",
    "        basil\n",
    "    ]\n",
    ")\n",
    "\n",
    "def make_pasta_with_sausage(servings):\n",
    "    recipe_maker = RecipeMaker()\n",
    "    saute_pan = Receptacle('Sauté Pan')\n",
    "    pasta_pot = Receptacle('Stock Pot')\n",
    "    adjusted_recipe = adjust_recipe(pasta_with_sausage, servings)\n",
    "\n",
    "    print(\"Prepping ingredients\")\n",
    "    adjusted_tomatoes = adjusted_recipe.get_ingredient('Plum Tomato')\n",
    "    adjusted_garlic = adjusted_recipe.get_ingredient('Garlic')\n",
    "    adjusted_cheese = adjusted_recipe.get_ingredient('Pecorino Romano')\n",
    "    adjusted_basil = adjusted_recipe.get_ingredient('Basil Leaves')\n",
    "    garlic_and_tomatoes = recipe_maker.dice(\n",
    "        adjusted_tomatoes,\n",
    "        adjusted_garlic\n",
    "    )\n",
    "    grated_cheese = recipe_maker.grate(adjusted_cheese)\n",
    "    sliced_basil = recipe_maker.chiffonade(adjusted_basil)\n",
    "\n",
    "    print(\"Cooking Pasta\")\n",
    "    pasta_pot.add(adjusted_recipe.get_ingredient('Water'))\n",
    "    pasta_pot.add(adjusted_recipe.get_ingredient('Salt'))\n",
    "    recipe_maker.put_receptacle_on_stovetop(pasta_pot, heat_level=10)\n",
    "    pasta_pot.add(adjusted_recipe.get_ingredient('Rigatoni'))\n",
    "    recipe_maker.set_stir_mode(pasta_pot, ('every minute'))\n",
    "    \n",
    "    print(\"Cooking Sausage\")\n",
    "    saute_pan.add(adjusted_recipe.get_ingredient('Olive Oil'))\n",
    "    heat_level = recipe_maker.HeatLevel.MEDIUM\n",
    "    recipe_maker.put_receptacle_on_stovetop(saute_pan, heat_level)\n",
    "    saute_pan.add(adjusted_recipe.get_ingredient('Italian Sausage'))\n",
    "    recipe_maker.brown_on_all_sides('Italian Sausage')\n",
    "    cooked_sausage = saute_pan.remove_ingredients(to_ignore=['Olive Oil'])\n",
    "    sliced_sausage = recipe_maker.slice(cooked_sausage, thickness_in_inches=.25)\n",
    "    \n",
    "    print(\"Making Sauce\")\n",
    "    saute_pan.add(garlic_and_tomatoes)\n",
    "    recipe_maker.set_stir_mode(saute_pan, ('every minute'))\n",
    "    while recipe_maker.is_not_cooked('Rigatoni'):\n",
    "        time.sleep(30)\n",
    "    cooked_pasta = pasta_pot.remove_ingredients(to_ignore=['Water', 'Salt'])\n",
    "    saute_pan.add(sliced_sausage)\n",
    "    while recipe_maker.is_not_cooked('Italian Sausage'):\n",
    "        time.sleep(30)\n",
    "    \n",
    "    print(\"Mixing ingredients together\")\n",
    "    saute_pan.add(sliced_basil)\n",
    "    saute_pan.add(cooked_pasta)\n",
    "    recipe_maker.set_stir_mode(saute_pan, \"once\")\n",
    "    \n",
    "    print(\"Serving\")\n",
    "    dishes = recipe_maker.divide(saute_pan, servings)\n",
    "    recipe_maker.garnish(dishes, grated_cheese)\n",
    "    \n",
    "    return dishes"
   ]
  },
  {
   "cell_type": "markdown",
   "metadata": {},
   "source": [
    "The monkeytype library can generate stubs for the last code, as follows"
   ]
  },
  {
   "cell_type": "code",
   "execution_count": 13,
   "metadata": {},
   "outputs": [],
   "source": [
    "# First, monjeytype creates a SQLite database that stores all the function calls \n",
    "# made throughout the execution of the program\n",
    "\n",
    "!monkeytype run src/untyped_meal_maker.py "
   ]
  },
  {
   "cell_type": "code",
   "execution_count": 16,
   "metadata": {},
   "outputs": [
    {
     "name": "stdout",
     "output_type": "stream",
     "text": [
      "No traces found for module src.untyped_meal_maker\n"
     ]
    }
   ],
   "source": [
    "# Then you can create the stubs with the following command\n",
    "\n",
    "!monkeytype stub src.untyped_meal_maker"
   ]
  },
  {
   "cell_type": "code",
   "execution_count": 17,
   "metadata": {},
   "outputs": [
    {
     "name": "stdout",
     "output_type": "stream",
     "text": [
      "/bin/bash: -c: line 0: syntax error near unexpected token `newline'\n",
      "/bin/bash: -c: line 0: `monkeytype apply <module-name>'\n"
     ]
    }
   ],
   "source": [
    "# Once you are comfortable with the suggestions, you can apply them with the following command\n",
    "\n",
    "!monkeytype apply <module-name>"
   ]
  },
  {
   "cell_type": "markdown",
   "metadata": {},
   "source": [
    "### pytype"
   ]
  },
  {
   "cell_type": "markdown",
   "metadata": {},
   "source": [
    "Unlike monkeytype, pytype adds type annotations through static analysis, which means it does not need to run your code to figure out types."
   ]
  },
  {
   "cell_type": "markdown",
   "metadata": {},
   "source": [
    "First, install pytype with pip"
   ]
  },
  {
   "cell_type": "code",
   "execution_count": null,
   "metadata": {},
   "outputs": [],
   "source": [
    "\"\"\"\n",
    "!pip install pytype\n",
    "\"\"\""
   ]
  },
  {
   "cell_type": "markdown",
   "metadata": {},
   "source": [
    "Then, run Pytype against the code folder"
   ]
  },
  {
   "cell_type": "code",
   "execution_count": 20,
   "metadata": {},
   "outputs": [
    {
     "data": {
      "text/plain": [
       "'\\n!pytype ./src\\n'"
      ]
     },
     "execution_count": 20,
     "metadata": {},
     "output_type": "execute_result"
    }
   ],
   "source": [
    "\"\"\"\n",
    "!pytype ./src\n",
    "\"\"\"\n"
   ]
  }
 ],
 "metadata": {
  "interpreter": {
   "hash": "3fd673f0bd4e75da526fdef7ec84a70817605d24d0b9cc1488403ba9d379e57b"
  },
  "kernelspec": {
   "display_name": "Python 3.9.5 ('env': venv)",
   "language": "python",
   "name": "python3"
  },
  "language_info": {
   "codemirror_mode": {
    "name": "ipython",
    "version": 3
   },
   "file_extension": ".py",
   "mimetype": "text/x-python",
   "name": "python",
   "nbconvert_exporter": "python",
   "pygments_lexer": "ipython3",
   "version": "3.9.5"
  },
  "orig_nbformat": 4
 },
 "nbformat": 4,
 "nbformat_minor": 2
}

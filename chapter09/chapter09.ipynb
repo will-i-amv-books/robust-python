{
 "cells": [
  {
   "cell_type": "markdown",
   "metadata": {},
   "source": [
    "# User-Defined Types: Data Classes"
   ]
  },
  {
   "cell_type": "code",
   "execution_count": 75,
   "metadata": {},
   "outputs": [],
   "source": [
    "import datetime as dt\n",
    "from collections import namedtuple\n",
    "from pprint import pprint\n",
    "from enum import auto, Enum\n",
    "from fractions import Fraction\n",
    "from dataclasses import dataclass\n",
    "from typing import Set\n",
    "from copy import deepcopy\n",
    "\n"
   ]
  },
  {
   "cell_type": "markdown",
   "metadata": {},
   "source": [
    "## Data Classes in Action\n"
   ]
  },
  {
   "cell_type": "code",
   "execution_count": 28,
   "metadata": {},
   "outputs": [
    {
     "data": {
      "text/plain": [
       "Fraction(3, 5)"
      ]
     },
     "execution_count": 28,
     "metadata": {},
     "output_type": "execute_result"
    }
   ],
   "source": [
    "# A Fraction represents the relationship between that numerator and denominator\n",
    "\n",
    "Fraction(numerator=3, denominator=5)\n"
   ]
  },
  {
   "cell_type": "code",
   "execution_count": 29,
   "metadata": {},
   "outputs": [],
   "source": [
    "# The same fraction can be represented with a dataclass, as follows\n",
    "\n",
    "@dataclass\n",
    "class MyFraction:\n",
    "    numerator: int = 3\n",
    "    denominator: int = 5\n"
   ]
  },
  {
   "cell_type": "code",
   "execution_count": 30,
   "metadata": {},
   "outputs": [],
   "source": [
    "# Consider an automated soup maker. If we need to group my soup ingredients together, \n",
    "# we can use dataclasses, as follows:\n",
    "\n",
    "class ImperialMeasure(Enum):\n",
    "    TEASPOON = auto()\n",
    "    TABLESPOON = auto()\n",
    "    CUP = auto()\n",
    "\n",
    "class Broth(Enum):\n",
    "    VEGETABLE = auto()\n",
    "    CHICKEN = auto()\n",
    "    BEEF = auto()\n",
    "    FISH = auto()\n",
    "\n",
    "@dataclass(frozen=True) # Indecates immutable dataclass\n",
    "class Ingredient:\n",
    "    \"\"\"\n",
    "    Ingredients added into the broth\n",
    "    \"\"\"\n",
    "    name: str\n",
    "    amount: float = 1\n",
    "    units: ImperialMeasure = ImperialMeasure.CUP\n",
    "\n",
    "@dataclass\n",
    "class Recipe:\n",
    "    broth: Broth\n",
    "    aromatics: set[Ingredient]\n",
    "    vegetables: set[Ingredient]\n",
    "    meats: set[Ingredient]\n",
    "    starches: set[Ingredient]\n",
    "    garnishes: set[Ingredient]\n",
    "    time_to_cook: dt.timedelta\n"
   ]
  },
  {
   "cell_type": "code",
   "execution_count": 37,
   "metadata": {},
   "outputs": [],
   "source": [
    "# We can instantiate the dataclasses as follows:\n",
    "\n",
    "pepper = Ingredient(\"Pepper\", 1, ImperialMeasure.TABLESPOON)\n",
    "garlic = Ingredient(\"Garlic\", 2, ImperialMeasure.TEASPOON)\n",
    "carrots = Ingredient(\"Carrots\", .25, ImperialMeasure.CUP)\n",
    "celery = Ingredient(\"Celery\", .25, ImperialMeasure.CUP)\n",
    "onions = Ingredient(\"Onions\", .25, ImperialMeasure.CUP)\n",
    "parsley = Ingredient(\"Parsley\", 2, ImperialMeasure.TABLESPOON)\n",
    "noodles = Ingredient(\"Noodles\", 1.5, ImperialMeasure.CUP)\n",
    "chicken = Ingredient(\"Chicken\", 1.5, ImperialMeasure.CUP)\n",
    "\n",
    "def create_soup():\n",
    "    return Recipe(\n",
    "        broth=Broth.CHICKEN,\n",
    "        aromatics={pepper, garlic},\n",
    "        vegetables={celery, onions, carrots},\n",
    "        meats={chicken},\n",
    "        starches={noodles},\n",
    "        garnishes={parsley},\n",
    "        time_to_cook=dt.timedelta(minutes=60),\n",
    "    )\n",
    "\n",
    "chicken_noodle_soup = create_soup()\n"
   ]
  },
  {
   "cell_type": "code",
   "execution_count": 32,
   "metadata": {},
   "outputs": [
    {
     "data": {
      "text/plain": [
       "<Broth.CHICKEN: 2>"
      ]
     },
     "execution_count": 32,
     "metadata": {},
     "output_type": "execute_result"
    }
   ],
   "source": [
    "# We can also get and set individual fields\n",
    "\n",
    "chicken_noodle_soup.broth\n"
   ]
  },
  {
   "cell_type": "code",
   "execution_count": 33,
   "metadata": {},
   "outputs": [],
   "source": [
    "chicken_noodle_soup.garnishes.add(pepper)\n"
   ]
  },
  {
   "cell_type": "code",
   "execution_count": 34,
   "metadata": {},
   "outputs": [],
   "source": [
    "# If we want to make any soup vegetarian by substituting vegetable broth and removing any meats,\n",
    "# We can add that behavior as methods of the dataclass, as follows\n",
    "\n",
    "@dataclass\n",
    "class Recipe:\n",
    "    broth: Broth\n",
    "    aromatics: set[Ingredient]\n",
    "    vegetables: set[Ingredient]\n",
    "    meats: set[Ingredient]\n",
    "    starches: set[Ingredient]\n",
    "    garnishes: set[Ingredient]\n",
    "    time_to_cook: dt.timedelta\n",
    "\n",
    "    def make_vegetarian(self):\n",
    "        self.meats.clear()\n",
    "        self.broth = Broth.VEGETABLE\n",
    "\n",
    "    def get_ingredient_names(self):\n",
    "        ingredients = (\n",
    "            self.aromatics |\n",
    "            self.vegetables |\n",
    "            self.meats |\n",
    "            self.starches |\n",
    "            self.garnishes\n",
    "        )\n",
    "        \n",
    "        return (\n",
    "            {i.name for i in ingredients} |\n",
    "            {self.broth.name.capitalize() + \" broth\"}\n",
    "        )\n"
   ]
  },
  {
   "cell_type": "code",
   "execution_count": 39,
   "metadata": {},
   "outputs": [
    {
     "data": {
      "text/plain": [
       "{'Carrots',\n",
       " 'Celery',\n",
       " 'Garlic',\n",
       " 'Noodles',\n",
       " 'Onions',\n",
       " 'Parsley',\n",
       " 'Pepper',\n",
       " 'Vegetable broth'}"
      ]
     },
     "execution_count": 39,
     "metadata": {},
     "output_type": "execute_result"
    }
   ],
   "source": [
    "# We can instantiate the last dataclass as follows\n",
    "\n",
    "chicken_noodle_soup = create_soup()\n",
    "\n",
    "# Make a deep copy so that changing one soup does not change the original\n",
    "veggie_noodle_soup = deepcopy(chicken_noodle_soup) \n",
    "veggie_noodle_soup.make_vegetarian()\n",
    "veggie_noodle_soup.get_ingredient_names()\n"
   ]
  },
  {
   "cell_type": "markdown",
   "metadata": {},
   "source": [
    "## Usage of dataclasses"
   ]
  },
  {
   "cell_type": "markdown",
   "metadata": {},
   "source": [
    "### String Conversion\n"
   ]
  },
  {
   "cell_type": "code",
   "execution_count": 43,
   "metadata": {},
   "outputs": [
    {
     "name": "stdout",
     "output_type": "stream",
     "text": [
      "(\"Recipe(broth=<Broth.CHICKEN: 2>, aromatics={Ingredient(name='Garlic', \"\n",
      " \"amount=2, units=<ImperialMeasure.TEASPOON: 1>), Ingredient(name='Pepper', \"\n",
      " 'amount=1, units=<ImperialMeasure.TABLESPOON: 2>)}, '\n",
      " \"vegetables={Ingredient(name='Carrots', amount=0.25, \"\n",
      " \"units=<ImperialMeasure.CUP: 3>), Ingredient(name='Celery', amount=0.25, \"\n",
      " \"units=<ImperialMeasure.CUP: 3>), Ingredient(name='Onions', amount=0.25, \"\n",
      " \"units=<ImperialMeasure.CUP: 3>)}, meats={Ingredient(name='Chicken', \"\n",
      " 'amount=1.5, units=<ImperialMeasure.CUP: 3>)}, '\n",
      " \"starches={Ingredient(name='Noodles', amount=1.5, units=<ImperialMeasure.CUP: \"\n",
      " \"3>)}, garnishes={Ingredient(name='Parsley', amount=2, \"\n",
      " 'units=<ImperialMeasure.TABLESPOON: 2>)}, '\n",
      " 'time_to_cook=datetime.timedelta(seconds=3600))')\n"
     ]
    }
   ],
   "source": [
    "# Data classes define the __str__ and __repr__ functions automatically\n",
    "\n",
    "pprint(str(chicken_noodle_soup))\n"
   ]
  },
  {
   "cell_type": "markdown",
   "metadata": {},
   "source": [
    "### Equality"
   ]
  },
  {
   "cell_type": "code",
   "execution_count": 50,
   "metadata": {},
   "outputs": [],
   "source": [
    "# To be able to test equality (==, !=) between two data classes, specify eq=True \n",
    "# when defining the dataclass, as follows\n",
    "\n",
    "@dataclass(eq=True)\n",
    "class MyClass:\n",
    "    field1: str\n",
    "    field2: int\n",
    "\n",
    "obj1 = MyClass('a', 1)\n",
    "obj2 = MyClass('a', 1)\n",
    "obj3 = MyClass('b', 2)\n"
   ]
  },
  {
   "cell_type": "code",
   "execution_count": 51,
   "metadata": {},
   "outputs": [
    {
     "data": {
      "text/plain": [
       "True"
      ]
     },
     "execution_count": 51,
     "metadata": {},
     "output_type": "execute_result"
    }
   ],
   "source": [
    "obj1 == obj2\n"
   ]
  },
  {
   "cell_type": "code",
   "execution_count": 52,
   "metadata": {},
   "outputs": [
    {
     "data": {
      "text/plain": [
       "True"
      ]
     },
     "execution_count": 52,
     "metadata": {},
     "output_type": "execute_result"
    }
   ],
   "source": [
    "obj1 != obj3\n"
   ]
  },
  {
   "cell_type": "markdown",
   "metadata": {},
   "source": [
    "### Relational Comparison\n"
   ]
  },
  {
   "cell_type": "code",
   "execution_count": 53,
   "metadata": {},
   "outputs": [],
   "source": [
    "# To be able to define relational comparison (<, >, <=, >=), specify eq=True and order=True \n",
    "# when defining the dataclass, as follows\n",
    "\n",
    "@dataclass(eq=True, order=True)\n",
    "class NutritionInformation:\n",
    "    calories: int\n",
    "    fat: int\n",
    "    carbohydrates: int\n",
    "\n",
    "nutritionals = [\n",
    "    NutritionInformation(calories=100, fat=1, carbohydrates=3),\n",
    "    NutritionInformation(calories=50, fat=6, carbohydrates=4),\n",
    "    NutritionInformation(calories=125, fat=12, carbohydrates=3)\n",
    "]\n"
   ]
  },
  {
   "cell_type": "code",
   "execution_count": 54,
   "metadata": {},
   "outputs": [
    {
     "data": {
      "text/plain": [
       "[NutritionInformation(calories=50, fat=6, carbohydrates=4),\n",
       " NutritionInformation(calories=100, fat=1, carbohydrates=3),\n",
       " NutritionInformation(calories=125, fat=12, carbohydrates=3)]"
      ]
     },
     "execution_count": 54,
     "metadata": {},
     "output_type": "execute_result"
    }
   ],
   "source": [
    "sorted(nutritionals)\n"
   ]
  },
  {
   "cell_type": "code",
   "execution_count": 60,
   "metadata": {},
   "outputs": [],
   "source": [
    "# We can also implementt custom relational comparisons.\n",
    "# For example, to sort NutritionInformation first by fat,then carbohydrates, and then calories, \n",
    "# we can implement the dataclass as follows\n",
    "\n",
    "@dataclass(eq=True)\n",
    "class NutritionInformation:\n",
    "    calories: int\n",
    "    fat: int\n",
    "    carbohydrates: int\n",
    "\n",
    "    def __lt__(self, rhs) -> bool:\n",
    "        return (\n",
    "            (self.fat, self.carbohydrates, self.calories) < \n",
    "            (rhs.fat, rhs.carbohydrates, rhs.calories)\n",
    "        )\n",
    "\n",
    "    def __le__(self, rhs) -> bool:\n",
    "        return self < rhs or self == rhs\n",
    "\n",
    "    def __gt__(self, rhs) -> bool:\n",
    "        return not self <= rhs\n",
    "\n",
    "    def __ge__(self, rhs) -> bool:\n",
    "        return not self < rhs\n",
    "\n",
    "nutritionals2 = [\n",
    "    NutritionInformation(calories=100, fat=1, carbohydrates=3),\n",
    "    NutritionInformation(calories=50, fat=6, carbohydrates=4),\n",
    "    NutritionInformation(calories=125, fat=12, carbohydrates=3)\n",
    "]\n"
   ]
  },
  {
   "cell_type": "code",
   "execution_count": 59,
   "metadata": {},
   "outputs": [
    {
     "data": {
      "text/plain": [
       "[NutritionInformation(calories=100, fat=1, carbohydrates=3),\n",
       " NutritionInformation(calories=50, fat=6, carbohydrates=4),\n",
       " NutritionInformation(calories=125, fat=12, carbohydrates=3)]"
      ]
     },
     "execution_count": 59,
     "metadata": {},
     "output_type": "execute_result"
    }
   ],
   "source": [
    "sorted(nutritionals2)"
   ]
  },
  {
   "cell_type": "markdown",
   "metadata": {},
   "source": [
    "### Immutability"
   ]
  },
  {
   "cell_type": "code",
   "execution_count": 62,
   "metadata": {},
   "outputs": [],
   "source": [
    "# To enforce immutability in a dataclass, specify frozen=True, as follows\n",
    "\n",
    "@dataclass(frozen=True)\n",
    "class Recipe:\n",
    "    broth: Broth\n",
    "    aromatics: Set[Ingredient]\n",
    "    vegetables: Set[Ingredient]\n",
    "    meats: Set[Ingredient]\n",
    "    starches: Set[Ingredient]\n",
    "    garnishes: Set[Ingredient]\n",
    "    time_to_cook: dt.timedelta\n"
   ]
  },
  {
   "cell_type": "markdown",
   "metadata": {},
   "source": [
    "Caveats around dataclass immutability"
   ]
  },
  {
   "cell_type": "code",
   "execution_count": 63,
   "metadata": {},
   "outputs": [],
   "source": [
    "# First, dataclass immutability means the fields in the dataclass are immutable, \n",
    "# not the variable containing the dataclass itself\n",
    "\n",
    "# Assume that Recipe is immutable because frozen was set to true in the decorator\n",
    "\n",
    "soup = Recipe(\n",
    "    broth=Broth.CHICKEN,\n",
    "    aromatics={pepper, garlic},\n",
    "    vegetables={celery, onions, carrots},\n",
    "    meats={chicken},\n",
    "    starches={noodles},\n",
    "    garnishes={parsley},\n",
    "    time_to_cook=dt.timedelta(minutes=60)\n",
    ")\n"
   ]
  },
  {
   "cell_type": "code",
   "execution_count": 65,
   "metadata": {},
   "outputs": [
    {
     "ename": "FrozenInstanceError",
     "evalue": "cannot assign to field 'broth'",
     "output_type": "error",
     "traceback": [
      "\u001b[0;31m---------------------------------------------------------------------------\u001b[0m",
      "\u001b[0;31mFrozenInstanceError\u001b[0m                       Traceback (most recent call last)",
      "\u001b[1;32m/home/william/github/will-i-amv-books/robust-python/chapter09/chapter09.ipynb Cell 28'\u001b[0m in \u001b[0;36m<cell line: 1>\u001b[0;34m()\u001b[0m\n\u001b[0;32m----> <a href='vscode-notebook-cell://wsl%2Bubuntu/home/william/github/will-i-amv-books/robust-python/chapter09/chapter09.ipynb#ch0000030vscode-remote?line=0'>1</a>\u001b[0m soup\u001b[39m.\u001b[39mbroth \u001b[39m=\u001b[39m Broth\u001b[39m.\u001b[39mVEGETABLE\n",
      "File \u001b[0;32m<string>:4\u001b[0m, in \u001b[0;36m__setattr__\u001b[0;34m(self, name, value)\u001b[0m\n",
      "\u001b[0;31mFrozenInstanceError\u001b[0m: cannot assign to field 'broth'"
     ]
    }
   ],
   "source": [
    "soup.broth = Broth.VEGETABLE # This is illegal\n"
   ]
  },
  {
   "cell_type": "code",
   "execution_count": 72,
   "metadata": {},
   "outputs": [],
   "source": [
    "# But this is perfectly legal\n",
    "\n",
    "soup = Recipe(\n",
    "    broth=Broth.CHICKEN,\n",
    "    aromatics=set(),\n",
    "    vegetables=set(),\n",
    "    meats=set(),\n",
    "    starches=set(),\n",
    "    garnishes=set(),\n",
    "    time_to_cook=dt.timedelta(seconds=3600)\n",
    ")\n"
   ]
  },
  {
   "cell_type": "code",
   "execution_count": 73,
   "metadata": {},
   "outputs": [
    {
     "data": {
      "text/plain": [
       "set()"
      ]
     },
     "execution_count": 73,
     "metadata": {},
     "output_type": "execute_result"
    }
   ],
   "source": [
    "# Second, a frozen dataclass only prevents its members from being set. \n",
    "# If the members are mutable, you are still able to modify their values. \n",
    "\n",
    "soup.aromatics\n"
   ]
  },
  {
   "cell_type": "code",
   "execution_count": 74,
   "metadata": {},
   "outputs": [
    {
     "data": {
      "text/plain": [
       "{Ingredient(name='Garlic', amount=1, units=<ImperialMeasure.CUP: 3>)}"
      ]
     },
     "execution_count": 74,
     "metadata": {},
     "output_type": "execute_result"
    }
   ],
   "source": [
    "soup.aromatics.add(Ingredient(\"Garlic\"))\n",
    "soup.aromatics"
   ]
  }
 ],
 "metadata": {
  "interpreter": {
   "hash": "3fd673f0bd4e75da526fdef7ec84a70817605d24d0b9cc1488403ba9d379e57b"
  },
  "kernelspec": {
   "display_name": "Python 3.9.5 ('env': venv)",
   "language": "python",
   "name": "python3"
  },
  "language_info": {
   "codemirror_mode": {
    "name": "ipython",
    "version": 3
   },
   "file_extension": ".py",
   "mimetype": "text/x-python",
   "name": "python",
   "nbconvert_exporter": "python",
   "pygments_lexer": "ipython3",
   "version": "3.9.5"
  },
  "orig_nbformat": 4
 },
 "nbformat": 4,
 "nbformat_minor": 2
}

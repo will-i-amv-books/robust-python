{
 "cells": [
  {
   "cell_type": "markdown",
   "metadata": {},
   "source": [
    "# Static Analysis"
   ]
  },
  {
   "cell_type": "code",
   "execution_count": 7,
   "metadata": {},
   "outputs": [],
   "source": [
    "import astroid\n",
    "from typing import Optional, NewType, List\n"
   ]
  },
  {
   "cell_type": "markdown",
   "metadata": {},
   "source": [
    "## Linting\n"
   ]
  },
  {
   "cell_type": "code",
   "execution_count": 2,
   "metadata": {},
   "outputs": [
    {
     "data": {
      "text/plain": [
       "'\\n!pip install pylint\\n'"
      ]
     },
     "execution_count": 2,
     "metadata": {},
     "output_type": "execute_result"
    }
   ],
   "source": [
    "# Before continuing, install the 'pylint' library\n",
    "\n",
    "\"\"\"\n",
    "!pip install pylint\n",
    "\"\"\""
   ]
  },
  {
   "cell_type": "code",
   "execution_count": 3,
   "metadata": {},
   "outputs": [],
   "source": [
    "# Pylint is handy at finding some common errors in your code. \n",
    "# For example, consider a function that adds all of an author’s cookbooks to an existing  list:\n",
    "# (save this code as lint_example.py)\n",
    "\n",
    "def find_author(author_name):\n",
    "    return\n",
    "\n",
    "def add_authors_cookbooks(author_name: str, cookbooks: List[str] = []) -> bool:\n",
    "    author = find_author(author_name)\n",
    "    if author is None:\n",
    "        assert False, \"Author does not exist\"\n",
    "    else:\n",
    "        for cookbook in author.get_cookbooks():\n",
    "            cookbooks.append(cookbook)\n",
    "        return True\n"
   ]
  },
  {
   "cell_type": "code",
   "execution_count": 4,
   "metadata": {},
   "outputs": [
    {
     "name": "stdout",
     "output_type": "stream",
     "text": [
      "************* Module lint_example\n",
      "lint_example.py:1:0: C0114: Missing module docstring (missing-module-docstring)\n",
      "lint_example.py:3:0: C0116: Missing function or method docstring (missing-function-docstring)\n",
      "lint_example.py:3:16: W0613: Unused argument 'author_name' (unused-argument)\n",
      "lint_example.py:6:0: W0102: Dangerous default value [] as argument (dangerous-default-value)\n",
      "lint_example.py:6:0: C0116: Missing function or method docstring (missing-function-docstring)\n",
      "lint_example.py:7:4: E1128: Assigning result of a function call, where the function returns None (assignment-from-none)\n",
      "\n",
      "-----------------------------------\n",
      "Your code has been rated at 0.00/10\n",
      "\n"
     ]
    }
   ],
   "source": [
    "# Then run pylint against the last code. It will report a series of issues with the code, as follows:\n",
    "\n",
    "!pylint lint_example.py\n"
   ]
  },
  {
   "cell_type": "markdown",
   "metadata": {},
   "source": [
    "### Writing Your Own Pylint Plug-in\n"
   ]
  },
  {
   "cell_type": "code",
   "execution_count": 9,
   "metadata": {},
   "outputs": [],
   "source": [
    "# Consider the following code from Chapter 4:\n",
    "\n",
    "class HotDog:\n",
    "    pass\n",
    "\n",
    "ReadyToServeHotDog = NewType(\"ReadyToServeHotDog\", HotDog)\n",
    "def prepare_for_serving() -> ReadyToServeHotDog:\n",
    "    # snip preparation\n",
    "    hotdog = HotDog()\n",
    "    return ReadyToServeHotDog(hotdog)\n"
   ]
  },
  {
   "cell_type": "code",
   "execution_count": 10,
   "metadata": {},
   "outputs": [],
   "source": [
    "# In the last snippet, we used the NewType with a 'blessed function' that enforce \n",
    "# the constraints tied to that type. But standard type checkers can't enforce it.\n",
    "# But pylint can enforce it with a custom plug-in, as follows:\n",
    "\n",
    "from pylint.checkers import BaseChecker\n",
    "from pylint.interfaces import IAstroidChecker\n",
    "from pylint.lint.pylinter import PyLinter\n",
    "\n",
    "\n",
    "class ServableHotDogChecker(BaseChecker):\n",
    "    __implements__ = IAstroidChecker\n",
    "    name = 'unverified-ready-to-serve-hotdog'\n",
    "    priority = -1\n",
    "    msgs = {\n",
    "        'W0001': (\n",
    "            'ReadyToServeHotDog created outside of hotdog.prepare_for_serving.',\n",
    "            'unverified-ready-to-serve-hotdog',\n",
    "            'Only create a ReadyToServeHotDog through hotdog.prepare_for_serving.'\n",
    "        ),\n",
    "    }\n",
    "\n",
    "    def __init__(self, linter: Optional[PyLinter] = None):\n",
    "        super(ServableHotDogChecker, self).__init__(linter)\n",
    "        self._is_in_prepare_for_serving = False\n",
    "\n",
    "    def visit_functiondef(self, node: astroid.scoped_nodes.FunctionDef):\n",
    "        if (\n",
    "            node.name == \"prepare_for_serving\" and\n",
    "            node.parent.name == \"hotdog\" and\n",
    "            isinstance(node.parent, astroid.scoped_nodes.Module)\n",
    "        ):\n",
    "            self._is_in_prepare_for_serving = True\n",
    "\n",
    "    def leave_functiondef(self, node: astroid.scoped_nodes.FunctionDef):\n",
    "        if (\n",
    "            node.name == \"prepare_for_serving\" and\n",
    "            node.parent.name == \"hotdog\" and\n",
    "            isinstance(node.parent, astroid.scoped_nodes.Module)\n",
    "        ):\n",
    "            self._is_in_prepare_for_serving = False\n",
    "\n",
    "    def visit_call(self, node: astroid.node_classes.Call):\n",
    "        if node.func.name != 'ReadyToServeHotDog':\n",
    "            return\n",
    "        if self._is_in_prepare_for_serving:\n",
    "            return\n",
    "\n",
    "        self.add_message('unverified-ready-to-serve-hotdog', node=node,)\n",
    "\n",
    "    def register(linter: PyLinter):\n",
    "        linter.register_checker(ServableHotDogChecker(linter))\n"
   ]
  },
  {
   "cell_type": "code",
   "execution_count": 13,
   "metadata": {},
   "outputs": [],
   "source": [
    "# This linter checks that if someone creates a ReadyToServeHotDog, \n",
    "# it's done in a function named 'prepare_for_serving', and live in a module 'hotdog'. \n",
    "# If we create another function that returns a ReadyToServeHotDog, pylint will catch it:\n",
    "\n",
    "def create_hot_dog() -> ReadyToServeHotDog:\n",
    "    hot_dog = HotDog()\n",
    "    return ReadyToServeHotDog(hot_dog)\n"
   ]
  },
  {
   "cell_type": "markdown",
   "metadata": {},
   "source": [
    "## Other Static Analyzers\n"
   ]
  },
  {
   "cell_type": "markdown",
   "metadata": {},
   "source": [
    "### Complexity Checkers\n"
   ]
  },
  {
   "cell_type": "code",
   "execution_count": 18,
   "metadata": {},
   "outputs": [
    {
     "data": {
      "text/plain": [
       "'\\n!pip install mccabe\\n'"
      ]
     },
     "execution_count": 18,
     "metadata": {},
     "output_type": "execute_result"
    }
   ],
   "source": [
    "# Before continuing, install the 'mccabe' cyclomatic complexity checker\n",
    "\n",
    "\"\"\"\n",
    "!pip install mccabe\n",
    "\"\"\""
   ]
  },
  {
   "cell_type": "code",
   "execution_count": 24,
   "metadata": {},
   "outputs": [],
   "source": [
    "# Considet the following snippet, extracted from the mccabe library itself\n",
    "# (save the file as mccabe_snippet.py):\n",
    "\n",
    "class PathNode:\n",
    "    def __init__(self, string, look) -> None:\n",
    "        pass\n",
    "\n",
    "class PathGraphingAstVisitor:\n",
    "    def __init__(self) -> None:\n",
    "        pass\n",
    "    \n",
    "    def _subgraph_parse(self, node, pathnode, extra_blocks):\n",
    "        \"\"\"parse the body and any `else` block of `if` and `for` statements\"\"\"\n",
    "        loose_ends = []\n",
    "        self.tail = pathnode\n",
    "        self.dispatch_list(node.body)\n",
    "        loose_ends.append(self.tail)\n",
    "        for extra in extra_blocks:\n",
    "            self.tail = pathnode\n",
    "            self.dispatch_list(extra.body)\n",
    "            loose_ends.append(self.tail)\n",
    "        if node.orelse:\n",
    "            self.tail = pathnode\n",
    "            self.dispatch_list(node.orelse)\n",
    "            loose_ends.append(self.tail)\n",
    "        else:\n",
    "            loose_ends.append(pathnode)\n",
    "        if pathnode:\n",
    "            bottom = PathNode(\"\", look='point')\n",
    "        for le in loose_ends:\n",
    "            self.graph.connect(le, bottom)\n",
    "        self.tail = bottom"
   ]
  },
  {
   "cell_type": "code",
   "execution_count": 25,
   "metadata": {},
   "outputs": [
    {
     "name": "stdout",
     "output_type": "stream",
     "text": [
      "11:4: 'PathGraphingAstVisitor._subgraph_parse' 5\n"
     ]
    }
   ],
   "source": [
    "# Then we can run mccabe to find functions that has a cyclomatic complexity greater than a threshold\n",
    "# (5 in this case), as follows:\n",
    "\n",
    "!python -m mccabe --min 5 mccabe_snippet.py"
   ]
  },
  {
   "cell_type": "markdown",
   "metadata": {},
   "source": [
    "As an heuristic, higher McCabe complexity numbers mean higher code complexity, which can make it harder to maintain."
   ]
  },
  {
   "cell_type": "markdown",
   "metadata": {},
   "source": [
    "### Custom complexity checkers"
   ]
  },
  {
   "cell_type": "markdown",
   "metadata": {},
   "source": [
    "We can use whitespace checking as another complexity measure: how many levels of indentation there are in a single Python file."
   ]
  },
  {
   "cell_type": "code",
   "execution_count": 30,
   "metadata": {},
   "outputs": [],
   "source": [
    "# A simple implementation of the last concept:\n",
    "\n",
    "def get_amount_of_preceding_whitespace(line: str) -> int:\n",
    "    \"\"\"Replace tabs with 4 spaces\"\"\"\n",
    "    tab_normalized_text = line.replace(\"\\t\", \" \")\n",
    "    return len(tab_normalized_text) - len(tab_normalized_text.lstrip())\n",
    "\n",
    "def get_average_whitespace(filename: str) -> None:\n",
    "    with open(filename) as file_to_check:\n",
    "        whitespace_count = [\n",
    "            get_amount_of_preceding_whitespace(line)\n",
    "            for line in file_to_check\n",
    "            if line != \"\"\n",
    "        ]\n",
    "        average = sum(whitespace_count) / len(whitespace_count) / 4\n",
    "        print(f\"Avg indentation level for {filename}: {average}\")\n"
   ]
  }
 ],
 "metadata": {
  "interpreter": {
   "hash": "3fd673f0bd4e75da526fdef7ec84a70817605d24d0b9cc1488403ba9d379e57b"
  },
  "kernelspec": {
   "display_name": "Python 3.9.5 ('env': venv)",
   "language": "python",
   "name": "python3"
  },
  "language_info": {
   "codemirror_mode": {
    "name": "ipython",
    "version": 3
   },
   "file_extension": ".py",
   "mimetype": "text/x-python",
   "name": "python",
   "nbconvert_exporter": "python",
   "pygments_lexer": "ipython3",
   "version": "3.9.5"
  },
  "orig_nbformat": 4
 },
 "nbformat": 4,
 "nbformat_minor": 2
}

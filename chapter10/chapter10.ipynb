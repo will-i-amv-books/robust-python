{
 "cells": [
  {
   "cell_type": "markdown",
   "metadata": {},
   "source": [
    "# User-Defined Types: Classes"
   ]
  },
  {
   "cell_type": "code",
   "execution_count": 39,
   "metadata": {},
   "outputs": [],
   "source": [
    "import contextlib\n",
    "from dataclasses import dataclass\n",
    "from typing import List, Optional"
   ]
  },
  {
   "cell_type": "markdown",
   "metadata": {},
   "source": [
    "## Class anatomy"
   ]
  },
  {
   "cell_type": "code",
   "execution_count": 3,
   "metadata": {},
   "outputs": [
    {
     "name": "stdout",
     "output_type": "stream",
     "text": [
      "Hello Pat\n"
     ]
    }
   ],
   "source": [
    "# You can write a class just like a dataclass:\n",
    "\n",
    "class Person:\n",
    "    name: str = \"\"\n",
    "    years_experience: int = 0\n",
    "    address: str = \"\"\n",
    "\n",
    "pat = Person()\n",
    "pat.name = \"Pat\"\n",
    "print(f\"Hello {pat.name}\")\n"
   ]
  },
  {
   "cell_type": "code",
   "execution_count": 7,
   "metadata": {},
   "outputs": [],
   "source": [
    "# The last class can be easily writen it a different way with a dict or dataclass\n",
    "\n",
    "pat = {\n",
    "    \"name\": \"\",\n",
    "    \"years_experience\": 0,\n",
    "    \"address\": \"\"\n",
    "}\n",
    "\n",
    "@dataclass\n",
    "class Person():\n",
    "    name: str = \"\"\n",
    "    years_experience: int = 0\n",
    "    address: str = \"\"\n"
   ]
  },
  {
   "cell_type": "markdown",
   "metadata": {},
   "source": [
    "### Constructors"
   ]
  },
  {
   "cell_type": "code",
   "execution_count": 12,
   "metadata": {},
   "outputs": [],
   "source": [
    "# You define a constructor with an __init__ method:\n",
    "\n",
    "class Person:\n",
    "    def __init__(\n",
    "        self, \n",
    "        name: str, \n",
    "        years_experience: int,\n",
    "        address: str\n",
    "    ):\n",
    "        self.name = name\n",
    "        self.years_experience = years_experience\n",
    "        self.address = address\n",
    "\n",
    "pat = Person(\"Pat\", 13, \"123 Fake St.\")\n"
   ]
  },
  {
   "cell_type": "markdown",
   "metadata": {},
   "source": [
    "### Invariants"
   ]
  },
  {
   "cell_type": "markdown",
   "metadata": {},
   "source": [
    "```\n",
    "Consider the imaginary automated pizza maker again. We can encode the following invariants about it:\n",
    "• Sauce will never be put on top of toppings (cheese is a topping in this scenario).\n",
    "• Toppings may go above or below cheese.\n",
    "• Pizza will have at most only one sauce.\n",
    "• Dough radius can be only whole numbers.\n",
    "• The radius of dough may be only between 6 and 12 inches, inclusive (between 15 and 30 centimeters).\n",
    "```"
   ]
  },
  {
   "cell_type": "code",
   "execution_count": 14,
   "metadata": {},
   "outputs": [],
   "source": [
    "# The last invariants can be encoded in the constructor, as follows\n",
    "\n",
    "def is_sauce(t):\n",
    "    return \n",
    "\n",
    "class PizzaSpecification:\n",
    "    def __init__(\n",
    "        self,\n",
    "        dough_radius_in_inches: int,\n",
    "        toppings: list[str]\n",
    "    ):\n",
    "        assert 6 <= dough_radius_in_inches <= 12, 'Dough must be between 6 and 12 inches'\n",
    "        sauces = [t for t in toppings if is_sauce(t)]\n",
    "        \n",
    "        assert len(sauces) < 2, 'Can only have at most one sauce'\n",
    "        self.dough_radius_in_inches = dough_radius_in_inches\n",
    "        sauce = sauces[:1]\n",
    "        self.toppings = sauce + [t for t in toppings if not is_sauce(t)]\n"
   ]
  },
  {
   "cell_type": "code",
   "execution_count": 17,
   "metadata": {},
   "outputs": [],
   "source": [
    "# Alternatively, classes can be instantiated with a factory function, as follows\n",
    "\n",
    "class _PizzaSpecification:\n",
    "    # ... snip class\n",
    "    pass\n",
    "\n",
    "def create_pizza_spec(\n",
    "    dough_radius_in_inches: int,\n",
    "    toppings: list[str]\n",
    ") -> Optional[_PizzaSpecification]:\n",
    "    try:\n",
    "        return _PizzaSpecification()\n",
    "    except:\n",
    "        return None\n"
   ]
  },
  {
   "cell_type": "code",
   "execution_count": 18,
   "metadata": {},
   "outputs": [],
   "source": [
    "# Consider a pizza specification represented by a dictionary:\n",
    "pizzas = {\n",
    "    \"dough_radius_in_inches\": 7,\n",
    "    \"toppings\": [\"tomato sauce\", \"mozzarella\", \"pepperoni\"],\n",
    "}\n"
   ]
  },
  {
   "cell_type": "code",
   "execution_count": 22,
   "metadata": {},
   "outputs": [],
   "source": [
    "# Invariants can be communicated in class docstrings, as follows\n",
    "\n",
    "class PizzaSpecification:\n",
    "    \"\"\"\n",
    "    This class represents a Pizza Specification for use in\n",
    "    Automated Pizza Machines.\n",
    "    The pizza specification is defined by the size of the dough and\n",
    "    the toppings. Dough should be a whole number between 6 and 12\n",
    "    inches (inclusive). If anything else is passed in, an AssertionError\n",
    "    is thrown. The machinery cannot handle less than 6 inches and the\n",
    "    business case is too costly for more than 12 inches.\n",
    "    Toppings may have at most one sauce, but you may pass in toppings\n",
    "    in any order. If there is more than one sauce, an AssertionError is\n",
    "    thrown. This is done based on our research telling us that\n",
    "    consumers find two-sauced pizzas do not taste good.\n",
    "    This class will make sure that sauce is always the first topping,\n",
    "    regardless of order passed in.\n",
    "    Toppings are allowed to go above and below cheese\n",
    "    (the order of non-sauce toppings matters).\n",
    "    \"\"\"\n",
    "    def __init__(self):\n",
    "        # ... implementation goes here\n",
    "        pass\n"
   ]
  },
  {
   "cell_type": "code",
   "execution_count": 27,
   "metadata": {},
   "outputs": [],
   "source": [
    "# Invariants can be tested with the help of context managers\n",
    "# (to force code to run when a with block is exited), as follows\n",
    "\n",
    "@contextlib.contextmanager\n",
    "def create_pizza_specification(\n",
    "    dough_radius_in_inches: int,\n",
    "    toppings: list[str]\n",
    "):\n",
    "    pizza_spec = PizzaSpecification(dough_radius_in_inches, toppings)\n",
    "    yield pizza_spec\n",
    "    \n",
    "    assert 6 <= pizza_spec.dough_radius_in_inches <= 12\n",
    "    sauces = [t for t in pizza_spec.toppings if is_sauce(t)]\n",
    "    \n",
    "    assert len(sauces) < 2\n",
    "    if sauces:\n",
    "        assert pizza_spec.toppings[0] == sauces[0]\n",
    "    \n",
    "    # Check that we assert order of all non sauces.\n",
    "    # Keep in mind, no invariant is specified that we can't add\n",
    "    # toppings at a later date, so we only check against what was passed in.\n",
    "    non_sauces = [t for t in pizza_spec.toppings if t not in sauces]\n",
    "    expected_non_sauces = [t for t in toppings if t not in sauces]\n",
    "    for expected, actual in zip(expected_non_sauces, non_sauces):\n",
    "        assert expected == actual\n",
    "\n",
    "\n",
    "def test_pizza_operations():\n",
    "    with create_pizza_specification(\n",
    "        8, [\"Tomato Sauce\", \"Peppers\"]\n",
    "    ) as pizza_spec:\n",
    "        # do something with pizza_spec\n",
    "        pass\n"
   ]
  },
  {
   "cell_type": "markdown",
   "metadata": {},
   "source": [
    "### Protecting Data Access\n"
   ]
  },
  {
   "cell_type": "code",
   "execution_count": 31,
   "metadata": {},
   "outputs": [],
   "source": [
    "# Consider the class PizzaSpecification again:\n",
    "\n",
    "def is_sauce(t):\n",
    "    return \n",
    "\n",
    "class PizzaSpecification:\n",
    "    def __init__(\n",
    "        self,\n",
    "        dough_radius_in_inches: int,\n",
    "        toppings: list[str]\n",
    "    ):\n",
    "        assert 6 <= dough_radius_in_inches <= 12, 'Dough must be between 6 and 12 inches'\n",
    "        sauces = [t for t in toppings if is_sauce(t)]\n",
    "        \n",
    "        assert len(sauces) < 2, 'Can only have at most one sauce'\n",
    "        self.dough_radius_in_inches = dough_radius_in_inches\n",
    "        sauce = sauces[:1]\n",
    "        self.toppings = sauce + [t for t in toppings if not is_sauce(t)]\n",
    "\n",
    "pizza_spec = PizzaSpecification(\n",
    "    dough_radius_in_inches=8,\n",
    "    toppings=['Olive Oil', 'Garlic', 'Sliced Roma Tomatoes', 'Mozzarella']\n",
    ")\n"
   ]
  },
  {
   "cell_type": "code",
   "execution_count": 32,
   "metadata": {},
   "outputs": [
    {
     "data": {
      "text/plain": [
       "100"
      ]
     },
     "execution_count": 32,
     "metadata": {},
     "output_type": "execute_result"
    }
   ],
   "source": [
    "# Rigth now, nothing is preventing a future developer \n",
    "# from changing some invariants after the fact\n",
    "\n",
    "pizza_spec.dough_radius_in_inches = 100\n",
    "pizza_spec.dough_radius_in_inches\n"
   ]
  },
  {
   "cell_type": "code",
   "execution_count": 33,
   "metadata": {},
   "outputs": [
    {
     "data": {
      "text/plain": [
       "['Olive Oil',\n",
       " 'Garlic',\n",
       " 'Sliced Roma Tomatoes',\n",
       " 'Mozzarella',\n",
       " 'Tomato Sauce',\n",
       " 'Tomato Sauce']"
      ]
     },
     "execution_count": 33,
     "metadata": {},
     "output_type": "execute_result"
    }
   ],
   "source": [
    "pizza_spec.toppings.append('Tomato Sauce')\n",
    "pizza_spec.toppings"
   ]
  },
  {
   "cell_type": "code",
   "execution_count": 34,
   "metadata": {},
   "outputs": [],
   "source": [
    "# Consider the PizzaSpecification class again, with private members:\n",
    "\n",
    "class PizzaSpecification:\n",
    "    def __init__(\n",
    "        self,\n",
    "        dough_radius_in_inches: int,\n",
    "        toppings: list[str]\n",
    "    ):\n",
    "        assert 6 <= dough_radius_in_inches <= 12, 'Dough must be between 6 and 12 inches'\n",
    "        sauces = [t for t in toppings if is_sauce(t)]\n",
    "        \n",
    "        assert len(sauces) < 2, 'Can have at most one sauce'\n",
    "        self.__dough_radius_in_inches = dough_radius_in_inches\n",
    "        sauce = sauces[:1]\n",
    "        self.__toppings = sauce + [t for t in toppings if not is_sauce(t)]\n",
    "\n",
    "pizza_spec = PizzaSpecification(\n",
    "    dough_radius_in_inches=8,\n",
    "    toppings=['Olive Oil', 'Garlic', 'Sliced Roma Tomatoes','Mozzarella']\n",
    ")\n"
   ]
  },
  {
   "cell_type": "code",
   "execution_count": 36,
   "metadata": {},
   "outputs": [
    {
     "ename": "AttributeError",
     "evalue": "'PizzaSpecification' object has no attribute '__toppings'",
     "output_type": "error",
     "traceback": [
      "\u001b[0;31m---------------------------------------------------------------------------\u001b[0m",
      "\u001b[0;31mAttributeError\u001b[0m                            Traceback (most recent call last)",
      "\u001b[1;32m/home/william/github/will-i-amv-books/robust-python/chapter10/chapter10.ipynb Cell 20'\u001b[0m in \u001b[0;36m<cell line: 3>\u001b[0;34m()\u001b[0m\n\u001b[1;32m      <a href='vscode-notebook-cell://wsl%2Bubuntu/home/william/github/will-i-amv-books/robust-python/chapter10/chapter10.ipynb#ch0000019vscode-remote?line=0'>1</a>\u001b[0m \u001b[39m# Now, trying to update a private attribute will raise an error\u001b[39;00m\n\u001b[0;32m----> <a href='vscode-notebook-cell://wsl%2Bubuntu/home/william/github/will-i-amv-books/robust-python/chapter10/chapter10.ipynb#ch0000019vscode-remote?line=2'>3</a>\u001b[0m pizza_spec\u001b[39m.\u001b[39;49m__toppings\u001b[39m.\u001b[39mappend(\u001b[39m'\u001b[39m\u001b[39mTomato Sauce\u001b[39m\u001b[39m'\u001b[39m)\n",
      "\u001b[0;31mAttributeError\u001b[0m: 'PizzaSpecification' object has no attribute '__toppings'"
     ]
    }
   ],
   "source": [
    "# Now, trying to update a private attribute will raise an Exception\n",
    "\n",
    "pizza_spec.__toppings.append('Tomato Sauce') # OOPS\n"
   ]
  },
  {
   "cell_type": "code",
   "execution_count": 38,
   "metadata": {},
   "outputs": [
    {
     "data": {
      "text/plain": [
       "{'_PizzaSpecification__dough_radius_in_inches': 8,\n",
       " '_PizzaSpecification__toppings': ['Olive Oil',\n",
       "  'Garlic',\n",
       "  'Sliced Roma Tomatoes',\n",
       "  'Mozzarella']}"
      ]
     },
     "execution_count": 38,
     "metadata": {},
     "output_type": "execute_result"
    }
   ],
   "source": [
    "# Python does name mangling when you prefix attributes with two underscores. \n",
    "# To find out what the new attribute names are, use the __dict__ attribute\n",
    "\n",
    "pizza_spec.__dict__"
   ]
  },
  {
   "cell_type": "markdown",
   "metadata": {},
   "source": [
    "### Operations\n"
   ]
  },
  {
   "cell_type": "code",
   "execution_count": 41,
   "metadata": {},
   "outputs": [],
   "source": [
    "# Suppose that for my pizza specification, I want to be able to add a topping \n",
    "# while the pizza is queued to be made. \n",
    "# I can define a new function that adds a topping, as follows\n",
    "\n",
    "class PizzaException(Exception):\n",
    "    pass\n",
    "\n",
    "class PizzaSpecification:\n",
    "    def __init__(\n",
    "        self,\n",
    "        dough_radius_in_inches: int,\n",
    "        toppings: list[str]\n",
    "    ):\n",
    "        assert 6 <= dough_radius_in_inches <= 12, 'Dough must be between 6 and 12 inches'\n",
    "        self.__dough_radius_in_inches = dough_radius_in_inches\n",
    "        self.__toppings: list[str] = []\n",
    "        for topping in toppings:\n",
    "            self.add_topping(topping)\n",
    "\n",
    "    def add_topping(self, topping: str):\n",
    "        \"\"\"\n",
    "        Add a topping to the pizza\n",
    "        All rules for pizza construction still apply.\n",
    "        \"\"\"\n",
    "        if (\n",
    "            is_sauce(topping) and \n",
    "            any(item for item in self.__toppings if is_sauce(item))\n",
    "        ):\n",
    "            raise PizzaException('Pizza may only have one sauce')\n",
    "\n",
    "        if is_sauce(topping):\n",
    "            self.__toppings.insert(0, topping)\n",
    "        else:\n",
    "            self.__toppings.append(topping)\n"
   ]
  }
 ],
 "metadata": {
  "interpreter": {
   "hash": "3fd673f0bd4e75da526fdef7ec84a70817605d24d0b9cc1488403ba9d379e57b"
  },
  "kernelspec": {
   "display_name": "Python 3.9.5 ('env': venv)",
   "language": "python",
   "name": "python3"
  },
  "language_info": {
   "codemirror_mode": {
    "name": "ipython",
    "version": 3
   },
   "file_extension": ".py",
   "mimetype": "text/x-python",
   "name": "python",
   "nbconvert_exporter": "python",
   "pygments_lexer": "ipython3",
   "version": "3.9.5"
  },
  "orig_nbformat": 4
 },
 "nbformat": 4,
 "nbformat_minor": 2
}

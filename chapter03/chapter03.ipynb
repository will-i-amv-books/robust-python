{
 "cells": [
  {
   "cell_type": "markdown",
   "metadata": {},
   "source": [
    "# Type Annotations"
   ]
  },
  {
   "cell_type": "code",
   "execution_count": 12,
   "metadata": {},
   "outputs": [],
   "source": [
    "import datetime\n",
    "import random\n",
    "from typing import List\n"
   ]
  },
  {
   "cell_type": "markdown",
   "metadata": {},
   "source": [
    "Example of python type hints (from chapter 2)"
   ]
  },
  {
   "cell_type": "code",
   "execution_count": 13,
   "metadata": {},
   "outputs": [],
   "source": [
    "def closing_time(): pass\n",
    "def close_kitchen(): pass\n",
    "def log_time_closed(): pass\n",
    "\n",
    "def close_kitchen_if_past_close(point_in_time: datetime.datetime):\n",
    "    if point_in_time >= closing_time():\n",
    "        close_kitchen()\n",
    "        log_time_closed(point_in_time)\n"
   ]
  },
  {
   "cell_type": "markdown",
   "metadata": {},
   "source": [
    "Types reduce cognitive load and increase code maintainability"
   ]
  },
  {
   "cell_type": "code",
   "execution_count": 14,
   "metadata": {},
   "outputs": [],
   "source": [
    "# It's sometimes hard to figure out the purpose of arguments only from their names\n",
    "\n",
    "def schedule_restaurant_open(open_time,workers_needed):\n",
    "    pass"
   ]
  },
  {
   "cell_type": "code",
   "execution_count": 15,
   "metadata": {},
   "outputs": [],
   "source": [
    "# But it's much easier when arguments have types\n",
    "\n",
    "def find_workers_available_for_time(): pass\n",
    "\n",
    "def schedule_restaurant_open(\n",
    "    open_time: datetime.datetime,\n",
    "    workers_needed: int\n",
    "):\n",
    "    workers = find_workers_available_for_time(open_time)\n",
    "    # Use random.sample to pick X available workers\n",
    "    # where X is the number of workers needed.\n",
    "    for worker in random.sample(workers, workers_needed):\n",
    "        worker.schedule(open_time)\n"
   ]
  },
  {
   "cell_type": "markdown",
   "metadata": {},
   "source": [
    "Type hints can also be used in return values with the syntax `-> <type>`"
   ]
  },
  {
   "cell_type": "code",
   "execution_count": 16,
   "metadata": {},
   "outputs": [],
   "source": [
    "worker_database = ''\n",
    "OWNER = ''\n",
    "\n",
    "def is_available(x): pass\n",
    "def get_emergency_workers(): pass\n",
    "\n",
    "def find_workers_available_for_time(open_time: datetime.datetime) -> List[str]:\n",
    "    workers = worker_database.get_all_workers()\n",
    "    available_workers = [worker for worker in workers if is_available(worker)]\n",
    "    \n",
    "    if available_workers:\n",
    "        return available_workers\n",
    "    \n",
    "    # Fall back to workers who listed they are available in an emergency\n",
    "    emergency_workers = [\n",
    "        worker \n",
    "        for worker in get_emergency_workers() \n",
    "        if is_available(worker)\n",
    "    ]\n",
    "    if emergency_workers:\n",
    "        return emergency_workers\n",
    "    \n",
    "    # Schedule the owner to open, they will find someone else\n",
    "    return [OWNER]\n",
    "    "
   ]
  },
  {
   "cell_type": "markdown",
   "metadata": {},
   "source": [
    "Individual variables can also be annootated"
   ]
  },
  {
   "cell_type": "code",
   "execution_count": 20,
   "metadata": {},
   "outputs": [],
   "source": [
    "workers: list[str] = ['a', 'b', 'c']\n",
    "numbers: list[int] = [1, 2, 3]\n"
   ]
  },
  {
   "cell_type": "markdown",
   "metadata": {},
   "source": [
    "But don't abuse it (Python is not Java)"
   ]
  },
  {
   "cell_type": "code",
   "execution_count": 21,
   "metadata": {},
   "outputs": [],
   "source": [
    "class Worker:\n",
    "    pass\n",
    "\n",
    "number: int = 0\n",
    "text: str = \"useless\"\n",
    "values: list[float] = [1.2, 3.4, 6.0]\n",
    "worker: Worker = Worker()\n"
   ]
  },
  {
   "cell_type": "markdown",
   "metadata": {},
   "source": [
    "## Typecheckers"
   ]
  },
  {
   "cell_type": "markdown",
   "metadata": {},
   "source": [
    "The most populat typechecker in Python is 'mypy', which can be installed as follows"
   ]
  },
  {
   "cell_type": "code",
   "execution_count": 24,
   "metadata": {},
   "outputs": [
    {
     "data": {
      "text/plain": [
       "'\\n!pip install mypy\\n'"
      ]
     },
     "execution_count": 24,
     "metadata": {},
     "output_type": "execute_result"
    }
   ],
   "source": [
    "\"\"\"\n",
    "% pip install mypy\n",
    "\"\"\""
   ]
  },
  {
   "cell_type": "markdown",
   "metadata": {},
   "source": [
    "mypy in action"
   ]
  },
  {
   "cell_type": "code",
   "execution_count": 28,
   "metadata": {},
   "outputs": [],
   "source": [
    "# Create a file invalid_type.py with the following contents\n",
    "\n",
    "a: int = 5\n",
    "a = 'string'"
   ]
  },
  {
   "cell_type": "code",
   "execution_count": 29,
   "metadata": {},
   "outputs": [
    {
     "name": "stdout",
     "output_type": "stream",
     "text": [
      "invalid_type.py:2: \u001b[1m\u001b[31merror:\u001b[m Incompatible types in assignment (expression has type \u001b[m\u001b[1m\"str\"\u001b[m, variable has type \u001b[m\u001b[1m\"int\"\u001b[m)\u001b[m\n",
      "\u001b[1m\u001b[31mFound 1 error in 1 file (checked 1 source file)\u001b[m\n"
     ]
    }
   ],
   "source": [
    "# Then run mypy against the last file. It will display a type error\n",
    "\n",
    "!mypy invalid_type.py"
   ]
  },
  {
   "cell_type": "code",
   "execution_count": 30,
   "metadata": {},
   "outputs": [],
   "source": [
    "# Create another file invalid_example1.py with the following contents\n",
    "\n",
    "def read_file_and_reverse_it(filename: str) -> str:\n",
    "    with open(filename) as f:        \n",
    "        return f.read().encode(\"utf-8\")[::-1] # Should be 'decode()' instead of 'encode()'\n"
   ]
  },
  {
   "cell_type": "code",
   "execution_count": 31,
   "metadata": {},
   "outputs": [
    {
     "name": "stdout",
     "output_type": "stream",
     "text": [
      "invalid_example1.py:3: \u001b[1m\u001b[31merror:\u001b[m Incompatible return value type (got \u001b[m\u001b[1m\"bytes\"\u001b[m, expected \u001b[m\u001b[1m\"str\"\u001b[m)\u001b[m\n",
      "\u001b[1m\u001b[31mFound 1 error in 1 file (checked 1 source file)\u001b[m\n"
     ]
    }
   ],
   "source": [
    "# Then run mypy again. It will display a type error in the return statement\n",
    "\n",
    "!mypy invalid_example1.py"
   ]
  },
  {
   "cell_type": "code",
   "execution_count": 33,
   "metadata": {},
   "outputs": [],
   "source": [
    "# Create another file invalid_example2.py with the following contents\n",
    "\n",
    "def add_doubled_values(my_list: list[int]):\n",
    "    \"\"\"\n",
    "    Takes a list and adds the doubled values to the end\n",
    "    [1,2,3] => [1,2,3,2,4,6]\n",
    "    \"\"\"\n",
    "    my_list.update([x*2 for x in my_list]) # Should be 'extend()' instead of 'update()'\n"
   ]
  },
  {
   "cell_type": "code",
   "execution_count": 35,
   "metadata": {},
   "outputs": [
    {
     "name": "stdout",
     "output_type": "stream",
     "text": [
      "invalid_example2.py:6: \u001b[1m\u001b[31merror:\u001b[m \u001b[m\u001b[1m\"List[int]\"\u001b[m has no attribute \u001b[m\u001b[1m\"update\"\u001b[m\u001b[m\n",
      "\u001b[1m\u001b[31mFound 1 error in 1 file (checked 1 source file)\u001b[m\n"
     ]
    }
   ],
   "source": [
    "# Then run mypy again. It will display a type error in the return statement\n",
    "\n",
    "!mypy invalid_example2.py\n"
   ]
  },
  {
   "cell_type": "code",
   "execution_count": 40,
   "metadata": {},
   "outputs": [],
   "source": [
    "# Create another file invalid_example3.py with the following contents\n",
    "\n",
    "ITALY_CITIES: List = []\n",
    "GERMANY_CITIES: List = []\n",
    "US_CITIES: List = []\n",
    "\n",
    "def get_restaurant_name(city: str) -> str:\n",
    "    if city in ITALY_CITIES:\n",
    "        return \"Trattoria Viafore\"\n",
    "    if city in GERMANY_CITIES:\n",
    "        return \"Pat's Kantine\"\n",
    "    if city in US_CITIES:\n",
    "        return \"Pat's Place\"\n",
    "    return None\n",
    "\n",
    "if get_restaurant_name('Boston'):\n",
    "    print(\"Location Found\")"
   ]
  },
  {
   "cell_type": "code",
   "execution_count": 41,
   "metadata": {},
   "outputs": [
    {
     "name": "stdout",
     "output_type": "stream",
     "text": [
      "invalid_example3.py:16: \u001b[1m\u001b[31merror:\u001b[m Incompatible return value type (got \u001b[m\u001b[1m\"None\"\u001b[m, expected \u001b[m\u001b[1m\"str\"\u001b[m)\u001b[m\n",
      "\u001b[1m\u001b[31mFound 1 error in 1 file (checked 1 source file)\u001b[m\n"
     ]
    }
   ],
   "source": [
    "# Then run mypy again. It will display a type error in the last 'return None' statement\n",
    "\n",
    "!mypy invalid_example3.py\n"
   ]
  }
 ],
 "metadata": {
  "interpreter": {
   "hash": "3fd673f0bd4e75da526fdef7ec84a70817605d24d0b9cc1488403ba9d379e57b"
  },
  "kernelspec": {
   "display_name": "Python 3.9.5 ('env': venv)",
   "language": "python",
   "name": "python3"
  },
  "language_info": {
   "codemirror_mode": {
    "name": "ipython",
    "version": 3
   },
   "file_extension": ".py",
   "mimetype": "text/x-python",
   "name": "python",
   "nbconvert_exporter": "python",
   "pygments_lexer": "ipython3",
   "version": "3.9.5"
  },
  "orig_nbformat": 4
 },
 "nbformat": 4,
 "nbformat_minor": 2
}

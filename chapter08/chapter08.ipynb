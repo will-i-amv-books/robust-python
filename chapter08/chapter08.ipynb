{
 "cells": [
  {
   "cell_type": "markdown",
   "metadata": {},
   "source": [
    "# User-Defined Types: Enums"
   ]
  },
  {
   "cell_type": "code",
   "execution_count": 111,
   "metadata": {},
   "outputs": [],
   "source": [
    "from decimal import Decimal\n",
    "from enum import auto, Enum, Flag, IntEnum, unique\n",
    "from typing import Set, Literal\n",
    "\n"
   ]
  },
  {
   "cell_type": "code",
   "execution_count": 55,
   "metadata": {},
   "outputs": [],
   "source": [
    "# A simple function that calculates a total with tax, \n",
    "# using built-in types\n",
    "\n",
    "def tax_lookup(x):\n",
    "    return \n",
    "\n",
    "def calculate_total_with_tax(\n",
    "    restaurant: tuple[str, str, str, int],\n",
    "    subtotal: float\n",
    ") -> float:\n",
    "    return subtotal * (1 + tax_lookup[restaurant[2]])\n"
   ]
  },
  {
   "cell_type": "code",
   "execution_count": 56,
   "metadata": {},
   "outputs": [],
   "source": [
    "# A simple function that calculates a total with tax, \n",
    "# using user-defined types\n",
    "\n",
    "class Restaurant:\n",
    "    pass\n",
    "\n",
    "def calculate_total_with_tax(\n",
    "    restaurant: Restaurant,\n",
    "    subtotal: Decimal\n",
    ") -> Decimal:\n",
    "    return subtotal * (1 + tax_lookup[restaurant.zip_code])\n"
   ]
  },
  {
   "cell_type": "markdown",
   "metadata": {},
   "source": [
    "## Enumerations (Enums)"
   ]
  },
  {
   "cell_type": "code",
   "execution_count": 57,
   "metadata": {},
   "outputs": [],
   "source": [
    "# Consider the following tuple of french sauces\n",
    "\n",
    "MOTHER_SAUCES = (\"Béchamel\", \"Velouté\", \"Espagnole\", \"Tomato\", \"Hollandaise\")\n"
   ]
  },
  {
   "cell_type": "markdown",
   "metadata": {},
   "source": [
    "```\n",
    "The tuple communicates to other developers that:\n",
    "• This collection is immutable.\n",
    "• They can iterate over this collection to get all the sauces.\n",
    "• They can retrieve a specific element through static indexing.\n",
    "```"
   ]
  },
  {
   "cell_type": "code",
   "execution_count": 58,
   "metadata": {},
   "outputs": [],
   "source": [
    "# We can improve the intent of the code with aliases for each of the sauces\n",
    "\n",
    "BECHAMEL = \"Bechamel\"\n",
    "VELOUTE = \"Veloute\"\n",
    "ESPAGNOLE = \"Espagnole\"\n",
    "TOMATO = \"Tomato\"\n",
    "HOLLANDAISE = \"Hollandaise\"\n",
    "MOTHER_SAUCES = (BECHAMEL, VELOUTE, ESPAGNOLE, TOMATO, HOLLANDAISE)\n"
   ]
  },
  {
   "cell_type": "code",
   "execution_count": 59,
   "metadata": {},
   "outputs": [],
   "source": [
    "# We can improve the intent of the code even more replacing \n",
    "# the tuple of salads with a Python's enumeration:\n",
    "\n",
    "class MotherSauce(Enum):\n",
    "    BECHAMEL = \"Bechamel\"\n",
    "    VELOUTE = \"Veloute\"\n",
    "    ESPAGNOLE = \"Espagnole\"\n",
    "    TOMATO = \"Tomato\"\n",
    "    HOLLANDAISE = \"Hollandaise\"\n"
   ]
  },
  {
   "cell_type": "code",
   "execution_count": 60,
   "metadata": {},
   "outputs": [
    {
     "data": {
      "text/plain": [
       "<MotherSauce.HOLLANDAISE: 'Hollandaise'>"
      ]
     },
     "execution_count": 60,
     "metadata": {},
     "output_type": "execute_result"
    }
   ],
   "source": [
    "# With Enums, you cannot accidentally create a MotherSauce \n",
    "# with an unexpected value\n",
    "\n",
    "MotherSauce(\"Hollandaise\") # Success\n"
   ]
  },
  {
   "cell_type": "code",
   "execution_count": 61,
   "metadata": {},
   "outputs": [
    {
     "ename": "ValueError",
     "evalue": "'Alabama White BBQ Sauce' is not a valid MotherSauce",
     "output_type": "error",
     "traceback": [
      "\u001b[0;31m---------------------------------------------------------------------------\u001b[0m",
      "\u001b[0;31mValueError\u001b[0m                                Traceback (most recent call last)",
      "\u001b[1;32m/home/william/github/will-i-amv-books/robust-python/chapter08/chapter08.ipynb Cell 11'\u001b[0m in \u001b[0;36m<cell line: 1>\u001b[0;34m()\u001b[0m\n\u001b[0;32m----> <a href='vscode-notebook-cell://wsl%2Bubuntu/home/william/github/will-i-amv-books/robust-python/chapter08/chapter08.ipynb#ch0000013vscode-remote?line=0'>1</a>\u001b[0m MotherSauce(\u001b[39m\"\u001b[39;49m\u001b[39mAlabama White BBQ Sauce\u001b[39;49m\u001b[39m\"\u001b[39;49m)\n",
      "File \u001b[0;32m~/miniconda3/lib/python3.9/enum.py:360\u001b[0m, in \u001b[0;36mEnumMeta.__call__\u001b[0;34m(cls, value, names, module, qualname, type, start)\u001b[0m\n\u001b[1;32m    <a href='file:///home/william/miniconda3/lib/python3.9/enum.py?line=334'>335</a>\u001b[0m \u001b[39m\"\"\"\u001b[39;00m\n\u001b[1;32m    <a href='file:///home/william/miniconda3/lib/python3.9/enum.py?line=335'>336</a>\u001b[0m \u001b[39mEither returns an existing member, or creates a new enum class.\u001b[39;00m\n\u001b[1;32m    <a href='file:///home/william/miniconda3/lib/python3.9/enum.py?line=336'>337</a>\u001b[0m \n\u001b[0;32m   (...)\u001b[0m\n\u001b[1;32m    <a href='file:///home/william/miniconda3/lib/python3.9/enum.py?line=356'>357</a>\u001b[0m \u001b[39m`type`, if set, will be mixed in as the first base class.\u001b[39;00m\n\u001b[1;32m    <a href='file:///home/william/miniconda3/lib/python3.9/enum.py?line=357'>358</a>\u001b[0m \u001b[39m\"\"\"\u001b[39;00m\n\u001b[1;32m    <a href='file:///home/william/miniconda3/lib/python3.9/enum.py?line=358'>359</a>\u001b[0m \u001b[39mif\u001b[39;00m names \u001b[39mis\u001b[39;00m \u001b[39mNone\u001b[39;00m:  \u001b[39m# simple value lookup\u001b[39;00m\n\u001b[0;32m--> <a href='file:///home/william/miniconda3/lib/python3.9/enum.py?line=359'>360</a>\u001b[0m     \u001b[39mreturn\u001b[39;00m \u001b[39mcls\u001b[39;49m\u001b[39m.\u001b[39;49m\u001b[39m__new__\u001b[39;49m(\u001b[39mcls\u001b[39;49m, value)\n\u001b[1;32m    <a href='file:///home/william/miniconda3/lib/python3.9/enum.py?line=360'>361</a>\u001b[0m \u001b[39m# otherwise, functional API: we're creating a new Enum type\u001b[39;00m\n\u001b[1;32m    <a href='file:///home/william/miniconda3/lib/python3.9/enum.py?line=361'>362</a>\u001b[0m \u001b[39mreturn\u001b[39;00m \u001b[39mcls\u001b[39m\u001b[39m.\u001b[39m_create_(\n\u001b[1;32m    <a href='file:///home/william/miniconda3/lib/python3.9/enum.py?line=362'>363</a>\u001b[0m         value,\n\u001b[1;32m    <a href='file:///home/william/miniconda3/lib/python3.9/enum.py?line=363'>364</a>\u001b[0m         names,\n\u001b[0;32m   (...)\u001b[0m\n\u001b[1;32m    <a href='file:///home/william/miniconda3/lib/python3.9/enum.py?line=367'>368</a>\u001b[0m         start\u001b[39m=\u001b[39mstart,\n\u001b[1;32m    <a href='file:///home/william/miniconda3/lib/python3.9/enum.py?line=368'>369</a>\u001b[0m         )\n",
      "File \u001b[0;32m~/miniconda3/lib/python3.9/enum.py:678\u001b[0m, in \u001b[0;36mEnum.__new__\u001b[0;34m(cls, value)\u001b[0m\n\u001b[1;32m    <a href='file:///home/william/miniconda3/lib/python3.9/enum.py?line=675'>676</a>\u001b[0m ve_exc \u001b[39m=\u001b[39m \u001b[39mValueError\u001b[39;00m(\u001b[39m\"\u001b[39m\u001b[39m%r\u001b[39;00m\u001b[39m is not a valid \u001b[39m\u001b[39m%s\u001b[39;00m\u001b[39m\"\u001b[39m \u001b[39m%\u001b[39m (value, \u001b[39mcls\u001b[39m\u001b[39m.\u001b[39m\u001b[39m__qualname__\u001b[39m))\n\u001b[1;32m    <a href='file:///home/william/miniconda3/lib/python3.9/enum.py?line=676'>677</a>\u001b[0m \u001b[39mif\u001b[39;00m result \u001b[39mis\u001b[39;00m \u001b[39mNone\u001b[39;00m \u001b[39mand\u001b[39;00m exc \u001b[39mis\u001b[39;00m \u001b[39mNone\u001b[39;00m:\n\u001b[0;32m--> <a href='file:///home/william/miniconda3/lib/python3.9/enum.py?line=677'>678</a>\u001b[0m     \u001b[39mraise\u001b[39;00m ve_exc\n\u001b[1;32m    <a href='file:///home/william/miniconda3/lib/python3.9/enum.py?line=678'>679</a>\u001b[0m \u001b[39melif\u001b[39;00m exc \u001b[39mis\u001b[39;00m \u001b[39mNone\u001b[39;00m:\n\u001b[1;32m    <a href='file:///home/william/miniconda3/lib/python3.9/enum.py?line=679'>680</a>\u001b[0m     exc \u001b[39m=\u001b[39m \u001b[39mTypeError\u001b[39;00m(\n\u001b[1;32m    <a href='file:///home/william/miniconda3/lib/python3.9/enum.py?line=680'>681</a>\u001b[0m             \u001b[39m'\u001b[39m\u001b[39merror in \u001b[39m\u001b[39m%s\u001b[39;00m\u001b[39m._missing_: returned \u001b[39m\u001b[39m%r\u001b[39;00m\u001b[39m instead of None or a valid member\u001b[39m\u001b[39m'\u001b[39m\n\u001b[1;32m    <a href='file:///home/william/miniconda3/lib/python3.9/enum.py?line=681'>682</a>\u001b[0m             \u001b[39m%\u001b[39m (\u001b[39mcls\u001b[39m\u001b[39m.\u001b[39m\u001b[39m__name__\u001b[39m, result)\n\u001b[1;32m    <a href='file:///home/william/miniconda3/lib/python3.9/enum.py?line=682'>683</a>\u001b[0m             )\n",
      "\u001b[0;31mValueError\u001b[0m: 'Alabama White BBQ Sauce' is not a valid MotherSauce"
     ]
    }
   ],
   "source": [
    "MotherSauce(\"Alabama White BBQ Sauce\") # Error\n"
   ]
  },
  {
   "cell_type": "code",
   "execution_count": 62,
   "metadata": {},
   "outputs": [
    {
     "name": "stdout",
     "output_type": "stream",
     "text": [
      "Option 1: Bechamel\n",
      "Option 2: Veloute\n",
      "Option 3: Espagnole\n",
      "Option 4: Tomato\n",
      "Option 5: Hollandaise\n"
     ]
    }
   ],
   "source": [
    "# Enums can be iterated as follows:\n",
    "\n",
    "for option_number, sauce in enumerate(MotherSauce, start=1):\n",
    "    print(f\"Option {option_number}: {sauce.value}\")\n"
   ]
  },
  {
   "cell_type": "code",
   "execution_count": 63,
   "metadata": {},
   "outputs": [],
   "source": [
    "# Consider the following function that creates a daughter sauce\n",
    "# from the tuple of salads\n",
    "\n",
    "def create_daughter_sauce(\n",
    "    mother_sauce: str,\n",
    "    extra_ingredients: list[str]\n",
    "):\n",
    "    return\n"
   ]
  },
  {
   "cell_type": "code",
   "execution_count": 64,
   "metadata": {},
   "outputs": [],
   "source": [
    "# You can modify the function signature to use the new Enum, \n",
    "# to communicate better your intent:\n",
    "\n",
    "def create_daughter_sauce(\n",
    "    mother_sauce: MotherSauce,\n",
    "    extra_ingredients: list[str]\n",
    "):\n",
    "    return\n",
    "\n"
   ]
  },
  {
   "cell_type": "markdown",
   "metadata": {},
   "source": [
    "Automatic Values\n"
   ]
  },
  {
   "cell_type": "code",
   "execution_count": 69,
   "metadata": {},
   "outputs": [
    {
     "data": {
      "text/plain": [
       "[<MotherSauceAuto.BECHAMEL: 1>,\n",
       " <MotherSauceAuto.VELOUTE: 2>,\n",
       " <MotherSauceAuto.ESPAGNOLE: 3>,\n",
       " <MotherSauceAuto.TOMATO: 4>,\n",
       " <MotherSauceAuto.HOLLANDAISE: 5>]"
      ]
     },
     "execution_count": 69,
     "metadata": {},
     "output_type": "execute_result"
    }
   ],
   "source": [
    "# For some Enums, you can specify that you don’t care about \n",
    "# the value that the enumeration is tied to. \n",
    "\n",
    "class MotherSauceAuto(Enum):\n",
    "    BECHAMEL = auto()\n",
    "    VELOUTE = auto()\n",
    "    ESPAGNOLE = auto()\n",
    "    TOMATO = auto()\n",
    "    HOLLANDAISE = auto()\n",
    "\n",
    "list(MotherSauceAuto)\n"
   ]
  },
  {
   "cell_type": "markdown",
   "metadata": {},
   "source": [
    "Enums versus Literals"
   ]
  },
  {
   "cell_type": "code",
   "execution_count": 66,
   "metadata": {},
   "outputs": [
    {
     "data": {
      "text/plain": [
       "'Hollandaise'"
      ]
     },
     "execution_count": 66,
     "metadata": {},
     "output_type": "execute_result"
    }
   ],
   "source": [
    "# The following literal\n",
    "\n",
    "sauce: Literal['Béchamel', 'Velouté', 'Espagnole', 'Tomato', 'Hollandaise'] = 'Hollandaise'\n",
    "sauce\n"
   ]
  },
  {
   "cell_type": "code",
   "execution_count": 68,
   "metadata": {},
   "outputs": [
    {
     "data": {
      "text/plain": [
       "'Hollandaise'"
      ]
     },
     "execution_count": 68,
     "metadata": {},
     "output_type": "execute_result"
    }
   ],
   "source": [
    "# Is equivalent to the following Enum\n",
    "\n",
    "sauce2: MotherSauce = MotherSauce.HOLLANDAISE\n",
    "sauce2.value\n"
   ]
  },
  {
   "cell_type": "markdown",
   "metadata": {},
   "source": [
    "Flags"
   ]
  },
  {
   "cell_type": "code",
   "execution_count": 81,
   "metadata": {},
   "outputs": [],
   "source": [
    "# Consider the following Enum that represents allergy information for each dish\n",
    "\n",
    "class Allergen(Enum):\n",
    "    FISH = auto()\n",
    "    SHELLFISH = auto()\n",
    "    TREE_NUTS = auto()\n",
    "    PEANUTS = auto()\n",
    "    GLUTEN = auto()\n",
    "    SOY = auto()\n",
    "    DAIRY = auto()\n"
   ]
  },
  {
   "cell_type": "code",
   "execution_count": 83,
   "metadata": {},
   "outputs": [],
   "source": [
    "# For a specific recipe, you can track the list of allergens with a set, as follows\n",
    "\n",
    "allergens: Set[Allergen] = {Allergen.FISH, Allergen.SOY} \n",
    "\n",
    "# Using a set tells readers that a collection of allergens will be unique, \n",
    "# and that there might be zero, one, or many allergens.\n"
   ]
  },
  {
   "cell_type": "code",
   "execution_count": 84,
   "metadata": {},
   "outputs": [],
   "source": [
    "# But a better way to express intent, instead of using a set, \n",
    "# is with an Enum derived from the Flag class, as follows\n",
    "\n",
    "class Allergen(Flag):\n",
    "    FISH = auto()\n",
    "    SHELLFISH = auto()\n",
    "    TREE_NUTS = auto()\n",
    "    PEANUTS = auto()\n",
    "    GLUTEN = auto()\n",
    "    SOY = auto()\n",
    "    DAIRY = auto()\n"
   ]
  },
  {
   "cell_type": "code",
   "execution_count": 99,
   "metadata": {},
   "outputs": [
    {
     "data": {
      "text/plain": [
       "<Allergen.SHELLFISH|FISH: 3>"
      ]
     },
     "execution_count": 99,
     "metadata": {},
     "output_type": "execute_result"
    }
   ],
   "source": [
    "# This lets us perform bitwise operations to combine allergens \n",
    "\n",
    "seafood = Allergen.FISH | Allergen.SHELLFISH\n",
    "seafood\n",
    "\n"
   ]
  },
  {
   "cell_type": "code",
   "execution_count": 98,
   "metadata": {},
   "outputs": [
    {
     "name": "stdout",
     "output_type": "stream",
     "text": [
      "This recipe contains fish.\n"
     ]
    }
   ],
   "source": [
    "# Or check if certain allergens are present:\n",
    "\n",
    "if seafood & Allergen.FISH:\n",
    "    print(\"This recipe contains fish.\")\n"
   ]
  },
  {
   "cell_type": "markdown",
   "metadata": {},
   "source": [
    "Integer conversion"
   ]
  },
  {
   "cell_type": "code",
   "execution_count": 100,
   "metadata": {},
   "outputs": [
    {
     "data": {
      "text/plain": [
       "False"
      ]
     },
     "execution_count": 100,
     "metadata": {},
     "output_type": "execute_result"
    }
   ],
   "source": [
    "# By default, you can't compare enum values with integers\n",
    "\n",
    "class ImperialLiquidMeasure(Enum):\n",
    "    CUP = 8\n",
    "    PINT = 16\n",
    "    QUART = 32\n",
    "    GALLON = 128\n",
    "\n",
    "ImperialLiquidMeasure.CUP == 8"
   ]
  },
  {
   "cell_type": "code",
   "execution_count": 103,
   "metadata": {},
   "outputs": [
    {
     "data": {
      "text/plain": [
       "True"
      ]
     },
     "execution_count": 103,
     "metadata": {},
     "output_type": "execute_result"
    }
   ],
   "source": [
    "# Instead, you need to derive from IntEnum to allow integer comparison\n",
    "\n",
    "class ImperialLiquidMeasure(IntEnum):\n",
    "    CUP = 8\n",
    "    PINT = 16\n",
    "    QUART = 32\n",
    "    GALLON = 128\n",
    "\n",
    "ImperialLiquidMeasure.CUP == 8"
   ]
  },
  {
   "cell_type": "code",
   "execution_count": 105,
   "metadata": {},
   "outputs": [],
   "source": [
    "# But IntEnum have drawbacks. Consider the following one:\n",
    "\n",
    "class Kitchenware(IntEnum):\n",
    "    \"\"\"\n",
    "    Note to future programmers: these numbers are customer-defined\n",
    "    and apt to change\n",
    "    \"\"\"\n",
    "    PLATE = 7\n",
    "    CUP = 8\n",
    "    UTENSILS = 9\n"
   ]
  },
  {
   "cell_type": "code",
   "execution_count": 108,
   "metadata": {},
   "outputs": [],
   "source": [
    "# And suppose somebody were to mistakenly do the following:\n",
    "\n",
    "def pour_into_smaller_vessel(): return\n",
    "\n",
    "def pour_into_larger_vessel(): return\n",
    "\n",
    "def pour_liquid(volume: ImperialLiquidMeasure):\n",
    "    if volume == Kitchenware.CUP:\n",
    "        pour_into_smaller_vessel()\n",
    "    \n",
    "    pour_into_larger_vessel()\n"
   ]
  },
  {
   "cell_type": "markdown",
   "metadata": {},
   "source": [
    "```\n",
    "Issues with the last snippet:\n",
    "* But the Kitchenware enumeration may change \n",
    "  (for example, it adds a BOWL into value 8 and moves CUP to 10), \n",
    "* Then Kitchenware.CUP is no longer the same as an ImperialLiquidMeasure.CUP \n",
    "* Then the code will now do the exact opposite of what it was supposed to, \n",
    "  it’ll start pouring into larger vessels instead of smaller vessels\n",
    "\n",
    "In summary, Avoid IntEnum and IntFlag unless absolutely necessary for system interoperability.\n",
    "```"
   ]
  },
  {
   "cell_type": "markdown",
   "metadata": {},
   "source": [
    "Unique"
   ]
  },
  {
   "cell_type": "code",
   "execution_count": 114,
   "metadata": {},
   "outputs": [],
   "source": [
    "# Enums can have aliases for the same value, as long as there are no duplicate keys:\n",
    "\n",
    "class MotherSauce(Enum):\n",
    "    BÉCHAMEL = \"Béchamel\"\n",
    "    BECHAMEL = \"Béchamel\"\n",
    "    VELOUTÉ = \"Velouté\"\n",
    "    VELOUTE = \"Velouté\"\n",
    "    ESPAGNOLE = \"Espagnole\"\n",
    "    TOMATO = \"Tomato\"\n",
    "    HOLLANDAISE = \"Hollandaise\"\n"
   ]
  },
  {
   "cell_type": "code",
   "execution_count": 116,
   "metadata": {},
   "outputs": [],
   "source": [
    "# But you can force the use of unique values with the @unique decorator\n",
    "\n",
    "@unique\n",
    "class MotherSauce(Enum):\n",
    "    BÉCHAMEL = \"Béchamel\"\n",
    "    VELOUTÉ = \"Velouté\"\n",
    "    ESPAGNOLE = \"Espagnole\"\n",
    "    TOMATO = \"Tomato\"\n",
    "    HOLLANDAISE = \"Hollandaise\"\n"
   ]
  }
 ],
 "metadata": {
  "interpreter": {
   "hash": "3fd673f0bd4e75da526fdef7ec84a70817605d24d0b9cc1488403ba9d379e57b"
  },
  "kernelspec": {
   "display_name": "Python 3.9.5 ('env': venv)",
   "language": "python",
   "name": "python3"
  },
  "language_info": {
   "codemirror_mode": {
    "name": "ipython",
    "version": 3
   },
   "file_extension": ".py",
   "mimetype": "text/x-python",
   "name": "python",
   "nbconvert_exporter": "python",
   "pygments_lexer": "ipython3",
   "version": "3.9.5"
  },
  "orig_nbformat": 4
 },
 "nbformat": 4,
 "nbformat_minor": 2
}

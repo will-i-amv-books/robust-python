{
 "cells": [
  {
   "cell_type": "markdown",
   "metadata": {},
   "source": [
    "# Testing Strategy\n"
   ]
  },
  {
   "cell_type": "markdown",
   "metadata": {},
   "source": [
    "## Defining Your Test Strategy\n"
   ]
  },
  {
   "cell_type": "markdown",
   "metadata": {},
   "source": [
    "Example of a test strategy for a calorie-counting app:\n",
    "\n",
    "```\n",
    "Does my system function as expected?\n",
    "Tests to write (automated - run daily):\n",
    "    Acceptance tests: Adding calories to the daily count\n",
    "    Acceptance tests: Resetting calories on daily boundaries\n",
    "    Acceptance tests: Aggregating calories over a time period\n",
    "    Unit tests: Corner Cases\n",
    "    Unit tests: Happy Path\n",
    "\n",
    "Will this application be usable by a large user base?\n",
    "Tests to write (automated - run weekly):\n",
    "    Interoperability tests: Phones (Apple, Android, etc.)\n",
    "    Interoperability tests: Tablets\n",
    "    Interoperability tests: Smart Fridge\n",
    "\n",
    "Is it hard to use maliciously?\n",
    "Tests to write: (ongoing audit by security engineer)\n",
    "    Security tests: Device Interactions\n",
    "    Security tests: Network Interactions\n",
    "    Security tests: Backend Vulnerability Scanning (automated)\n",
    "```"
   ]
  },
  {
   "cell_type": "markdown",
   "metadata": {},
   "source": [
    "## Reducing Test Cost\n"
   ]
  },
  {
   "cell_type": "code",
   "execution_count": 4,
   "metadata": {},
   "outputs": [],
   "source": [
    "# Before continuing, install the 'pytest' library:\n",
    "\"\"\"\n",
    "!pip install pytest\n",
    "\"\"\"\n",
    "import pytest\n"
   ]
  },
  {
   "cell_type": "code",
   "execution_count": 8,
   "metadata": {},
   "outputs": [],
   "source": [
    "# In pytest, test functions and modules are prefixed with test_FUNCTION, as follows:\n",
    "\n",
    "def get_calorie_count(meal):\n",
    "    calories = {\n",
    "        \"Bacon Cheeseburger w/ Fries\": 1200,\n",
    "        \"Veggie burger\": 400,\n",
    "    }\n",
    "    return calories[meal]\n",
    "\n",
    "def test_get_calorie_count():\n",
    "    assert get_calorie_count(\"Bacon Cheeseburger w/ Fries\") == 1200\n",
    "\n",
    "test_get_calorie_count()"
   ]
  },
  {
   "cell_type": "markdown",
   "metadata": {},
   "source": [
    "### AAA (Arrange-Act-Assert) Testing\n"
   ]
  },
  {
   "cell_type": "markdown",
   "metadata": {},
   "source": [
    "Arrange"
   ]
  },
  {
   "cell_type": "code",
   "execution_count": 2,
   "metadata": {},
   "outputs": [],
   "source": [
    "# The following tests implement the AAA pattern:\n",
    "\n",
    "def add_ingredient_to_database():\n",
    "    return \n",
    "\n",
    "def set_ingredients():\n",
    "    return \n",
    "\n",
    "def get_calories():\n",
    "    return \n",
    "\n",
    "def cleanup_database():\n",
    "    return \n",
    "\n",
    "def test_calorie_calculation():\n",
    "    # Arrange (set up everything the test needs to run)\n",
    "    for ingredient, calories_per_pounf in zip(\n",
    "        [\"Ground Beef\", \"Bacon\", \"Cheese\"],\n",
    "        [1500, 2400, 1800]\n",
    "    ):\n",
    "        add_ingredient_to_database(ingredient, calories_per_pounf)\n",
    "\n",
    "    set_ingredients(\"Bacon Cheeseburger w/ Fries\", ingredients=[\"Ground Beef\", \"Bacon\" ])\n",
    "    \n",
    "    # Act (the thing getting tested)\n",
    "    calories = get_calories(\"Bacon Cheeseburger w/ Fries\")\n",
    "    \n",
    "    # Assert (verify some property about the program)\n",
    "    assert calories == 3900\n",
    "    \n",
    "    # Annihilate (cleanup any resources that were allocated)\n",
    "    cleanup_database()\n"
   ]
  },
  {
   "cell_type": "code",
   "execution_count": 6,
   "metadata": {},
   "outputs": [],
   "source": [
    "# We can specify initialization and teardown code for tests with a pytest fixture:\n",
    "\n",
    "def setup_bacon_cheeseburger():\n",
    "    return\n",
    "\n",
    "@pytest.fixture\n",
    "def db_creation(database):\n",
    "    # Set up local sqlite database\n",
    "    return database\n",
    "\n",
    "@pytest.fixture\n",
    "def test_database(database):\n",
    "    # Add all ingredients and meals\n",
    "    return database\n",
    "\n",
    "def test_calorie_calculation_bacon_cheeseburger(test_database):\n",
    "    test_database.add_ingredient(\"Bacon\", calories_per_pound=2400)\n",
    "    setup_bacon_cheeseburger(bacon=\"Bacon\")\n",
    "    calories = get_calories(\"Bacon Cheeseburger w/ Fries\")\n",
    "    assert calories == 1200\n",
    "    test_database.cleanup()\n"
   ]
  },
  {
   "cell_type": "markdown",
   "metadata": {},
   "source": [
    "Mocking"
   ]
  },
  {
   "cell_type": "code",
   "execution_count": 7,
   "metadata": {},
   "outputs": [],
   "source": [
    "# Consider a class that handles database connections:\n",
    "\n",
    "class DatabaseHandler:\n",
    "    def __init__(self):\n",
    "        # ... snip complex setup\n",
    "        return\n",
    "\n",
    "    def add_ingredient(self, ingredient):\n",
    "        # ... snip complex queries\n",
    "        return\n",
    "\n",
    "    def get_calories_for_ingredient(self, ingredient):\n",
    "        # ... snip complex queries\n",
    "        return\n"
   ]
  },
  {
   "cell_type": "code",
   "execution_count": null,
   "metadata": {},
   "outputs": [],
   "source": [
    "# If the database setup is too complex, we can create a mock class that \n",
    "# has the same interface as the database handler but returns dummy data, as follows:\n",
    "\n",
    "class MockDatabaseHandler:\n",
    "    def __init__(self):\n",
    "        self.data = {\n",
    "            \"Ground Beef\": 1500,\n",
    "            \"Bacon\": 2400,\n",
    "            # ... snip ...\n",
    "        }\n",
    "\n",
    "    def add_ingredient(self, ingredient):\n",
    "        name, calories = ingredient\n",
    "        self.data[name] = calories\n",
    "\n",
    "    def get_calories_for_ingredient(self, ingredient):\n",
    "        return self.data[ingredient]\n"
   ]
  },
  {
   "cell_type": "markdown",
   "metadata": {},
   "source": [
    "Annihilate"
   ]
  },
  {
   "cell_type": "code",
   "execution_count": 9,
   "metadata": {},
   "outputs": [],
   "source": [
    "# Considet the following test function again. It has a subtle bug: \n",
    "# if the asserion fails, an exception is raised and cleanup_database() never executes\n",
    "\n",
    "def add_base_ingredients_to_database():\n",
    "    return \n",
    "\n",
    "def test_calorie_calculation_bacon_cheeseburger():\n",
    "    add_base_ingredients_to_database()\n",
    "    add_ingredient_to_database(\"Bacon\", calories_per_pound=2400)\n",
    "    \n",
    "    setup_bacon_cheeseburger(bacon=\"Bacon\")\n",
    "    calories = get_calories(\"Bacon Cheeseburger w/ Fries\")\n",
    "    assert calories == 1200 # Possible bug source\n",
    "    cleanup_database()"
   ]
  },
  {
   "cell_type": "code",
   "execution_count": null,
   "metadata": {},
   "outputs": [],
   "source": [
    "# We can remove the last bug by using a context manager, as follows:\n",
    "\n",
    "def construct_test_database():\n",
    "    return \n",
    "\n",
    "def test_calorie_calculation_bacon_cheeseburger():\n",
    "    with construct_test_database() as db:\n",
    "        db.add_ingredient(\"Bacon\", calories_per_pound=2400)\n",
    "        setup_bacon_cheeseburger(bacon=\"Bacon\")\n",
    "        calories = get_calories(\"Bacon Cheeseburger w/ Fries\")\n",
    "        assert calories == 1200\n"
   ]
  },
  {
   "cell_type": "markdown",
   "metadata": {},
   "source": [
    "Act"
   ]
  },
  {
   "cell_type": "code",
   "execution_count": 10,
   "metadata": {},
   "outputs": [],
   "source": [
    "# We can test same action with different input data and assertions\n",
    "# by parameterizing our tests, as follows:\n",
    "\n",
    "def setup_dish_ingredients():\n",
    "    return\n",
    "\n",
    "@pytest.mark.parametrize(\n",
    "    \"extra_ingredients,dish_name,expected_calories\",\n",
    "    [\n",
    "        ([\"Bacon\", 2400], \"Bacon Cheeseburger\", 900),\n",
    "        ([], \"Cobb Salad\", 1000),\n",
    "        ([], \"Buffalo Wings\", 800),\n",
    "        ([], \"Garlicky Brussels Sprouts\", 200),\n",
    "        ([], \"Mashed Potatoes\", 400)\n",
    "    ]\n",
    ")\n",
    "def test_calorie_calculation_bacon_cheeseburger(\n",
    "    extra_ingredients,\n",
    "    dish_name,\n",
    "    expected_calories,\n",
    "    test_database\n",
    "):\n",
    "    for ingredient in extra_ingredients:\n",
    "        test_database.add_ingredient(ingredient)\n",
    "\n",
    "    # Assume this function can set up any dish,\n",
    "    # or dish ingredients could be passed in as a test parameter\n",
    "    setup_dish_ingredients(dish_name)\n",
    "    calories = get_calories(dish_name)\n",
    "    assert calories == expected_calories\n"
   ]
  },
  {
   "cell_type": "markdown",
   "metadata": {},
   "source": [
    "Assert"
   ]
  },
  {
   "cell_type": "code",
   "execution_count": 11,
   "metadata": {},
   "outputs": [],
   "source": [
    "# In the assertions, supply a meaningful text message in case of AssertionError \n",
    "# to help with debugging, as follows:\n",
    "\n",
    "def test_calorie_calculation_bacon_cheeseburger(test_database):\n",
    "    test_database.add_ingredient(\"Bacon\", calories_per_pound=2400)\n",
    "    setup_bacon_cheeseburger(bacon=\"Bacon\")\n",
    "    calories = get_calories(\"Bacon Cheeseburger w/ Fries\")\n",
    "\n",
    "    assert calories == 1200, \"Incorrect calories for Bacon Cheeseburger w/ Fries\"\n"
   ]
  },
  {
   "cell_type": "code",
   "execution_count": 14,
   "metadata": {},
   "outputs": [
    {
     "data": {
      "text/plain": [
       "'\\n!pip install pyhamcrest\\n'"
      ]
     },
     "execution_count": 14,
     "metadata": {},
     "output_type": "execute_result"
    }
   ],
   "source": [
    "# Before continuing, install the 'pyhamcrest' library:\n",
    "\n",
    "\"\"\"\n",
    "!pip install pyhamcrest\n",
    "\"\"\"\n"
   ]
  },
  {
   "cell_type": "code",
   "execution_count": null,
   "metadata": {},
   "outputs": [],
   "source": [
    "# For more complex assertions, the 'hamcrest' library provides a number\n",
    "# of built-in 'matchers', as follows:\n",
    "\n",
    "from hamcrest import assert_that, matches_regexp, is_, empty, equal_to\n",
    "\n",
    "def find_owned_restaurants_in():\n",
    "    return\n",
    "\n",
    "def create_menu():\n",
    "    return\n",
    "\n",
    "def test_all_menu_items_are_alphanumeric():\n",
    "    menu = create_menu()\n",
    "    for item in menu:\n",
    "        assert_that(item, matches_regexp(r'[a-zA-Z0-9]'))\n",
    "\n",
    "def test_getting_calories():\n",
    "    dish = \"Bacon Cheeseburger w/ Fries\"\n",
    "    calories = get_calories(dish)\n",
    "    \n",
    "    assert_that(calories, is_(equal_to(1200)))\n",
    "\n",
    "def test_no_restaurant_found_in_non_matching_areas():\n",
    "    city = \"Huntsville, AL\"\n",
    "    restaurants = find_owned_restaurants_in(city)\n",
    "    assert_that(restaurants, is_(empty()))\n"
   ]
  },
  {
   "cell_type": "code",
   "execution_count": 17,
   "metadata": {},
   "outputs": [],
   "source": [
    "# We can even create our own custom matchers. For example, \n",
    "# we can create a matcher for checking if a dish is vegan as follows:\n",
    "\n",
    "from hamcrest.core.base_matcher import BaseMatcher\n",
    "from hamcrest.core.helpers.hasmethod import hasmethod\n",
    "from hamcrest import assert_that, is_\n",
    "\n",
    "def create_dish():\n",
    "    return\n",
    "\n",
    "def is_vegan(ingredient: str) -> bool:\n",
    "    return ingredient not in [\"Beef Burger\"]\n",
    "\n",
    "class IsVegan(BaseMatcher):\n",
    "    def _matches(self, dish):\n",
    "        if not hasmethod(dish, \"ingredients\"):\n",
    "            return False\n",
    "        return all(is_vegan(ingredient) for ingredient in dish.ingredients())\n",
    "    \n",
    "    def describe_to(self, description):\n",
    "        description.append_text(\"Expected dish to be vegan\")\n",
    "    \n",
    "    def describe_mismatch(self, dish, description):\n",
    "        message = f\"the following ingredients are not vegan: \"\n",
    "        message += \", \".join(ing for ing in dish.ingredients() if not is_vegan(ing))\n",
    "        description.append_text(message)\n",
    "\n",
    "def vegan():\n",
    "    return IsVegan()\n",
    "\n",
    "\n",
    "def test_vegan_substitution():\n",
    "    dish = create_dish(\"Hamburger and Fries\")\n",
    "    dish.make_vegan()\n",
    "    assert_that(dish, is_(vegan()))\n"
   ]
  }
 ],
 "metadata": {
  "interpreter": {
   "hash": "3fd673f0bd4e75da526fdef7ec84a70817605d24d0b9cc1488403ba9d379e57b"
  },
  "kernelspec": {
   "display_name": "Python 3.9.5 ('env': venv)",
   "language": "python",
   "name": "python3"
  },
  "language_info": {
   "codemirror_mode": {
    "name": "ipython",
    "version": 3
   },
   "file_extension": ".py",
   "mimetype": "text/x-python",
   "name": "python",
   "nbconvert_exporter": "python",
   "pygments_lexer": "ipython3",
   "version": "3.9.5"
  },
  "orig_nbformat": 4
 },
 "nbformat": 4,
 "nbformat_minor": 2
}

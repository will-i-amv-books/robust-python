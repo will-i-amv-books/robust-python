{
 "cells": [
  {
   "cell_type": "markdown",
   "metadata": {},
   "source": [
    "# Constraining Types\n"
   ]
  },
  {
   "cell_type": "code",
   "execution_count": 27,
   "metadata": {},
   "outputs": [],
   "source": [
    "from typing import Optional, Union, Literal, Annotated, Final, NewType\n",
    "from dataclasses import dataclass\n"
   ]
  },
  {
   "cell_type": "markdown",
   "metadata": {},
   "source": [
    "## Optional type"
   ]
  },
  {
   "cell_type": "markdown",
   "metadata": {},
   "source": [
    "Consider the function below. Every step in the function can throw None"
   ]
  },
  {
   "cell_type": "code",
   "execution_count": 2,
   "metadata": {},
   "outputs": [],
   "source": [
    "def dispense_bun(): return\n",
    "def dispense_frank(): return\n",
    "def dispense_mustard(): return\n",
    "def dispense_ketchup(): return\n",
    "def dispense_hot_dog_to_customer(): return\n",
    "\n",
    "\n",
    "def create_hot_dog():\n",
    "    bun = dispense_bun()\n",
    "    frank = dispense_frank()\n",
    "    hot_dog = bun.add_frank(frank)\n",
    "    ketchup = dispense_frank()\n",
    "    mustard = dispense_mustard()\n",
    "    hot_dog.add_condiments(ketchup, mustard)\n",
    "    dispense_hot_dog_to_customer(hot_dog)\n",
    "\n"
   ]
  },
  {
   "cell_type": "markdown",
   "metadata": {},
   "source": [
    "To protect from None, we need to code defensively, as follows"
   ]
  },
  {
   "cell_type": "code",
   "execution_count": 3,
   "metadata": {},
   "outputs": [],
   "source": [
    "def print_error_code(): return\n",
    "\n",
    "def create_hot_dog():\n",
    "    bun = dispense_bun()\n",
    "    if bun is None:\n",
    "        print_error_code(\"Bun unavailable. Check for bun\")\n",
    "        return\n",
    "    \n",
    "    frank = dispense_frank()\n",
    "    if frank is None:\n",
    "        print_error_code(\"Frank was not properly dispensed\")\n",
    "        return\n",
    "    \n",
    "    hot_dog = bun.add_frank(frank)\n",
    "    if hot_dog is None:\n",
    "        print_error_code(\"Hot Dog unavailable. Check for Hot Dog\")\n",
    "        return\n",
    "    \n",
    "    ketchup = dispense_ketchup()\n",
    "    mustard = dispense_mustard()\n",
    "    if ketchup is None or mustard is None:\n",
    "        print_error_code(\"Check for invalid catsup\")\n",
    "        return\n",
    "    \n",
    "    hot_dog.add_condiments(ketchup, mustard)\n",
    "    dispense_hot_dog_to_customer(hot_dog)\n"
   ]
  },
  {
   "cell_type": "markdown",
   "metadata": {},
   "source": [
    "To guard against None, you can use Optional types, as follows"
   ]
  },
  {
   "cell_type": "code",
   "execution_count": 4,
   "metadata": {},
   "outputs": [
    {
     "data": {
      "text/plain": [
       "'abcdef'"
      ]
     },
     "execution_count": 4,
     "metadata": {},
     "output_type": "execute_result"
    }
   ],
   "source": [
    "maybe_a_string: Optional[str] = \"abcdef\" # This has a value\n",
    "maybe_a_string\n"
   ]
  },
  {
   "cell_type": "code",
   "execution_count": 5,
   "metadata": {},
   "outputs": [],
   "source": [
    "maybe_a_string: Optional[str] = None # This is the absence of a value\n",
    "maybe_a_string"
   ]
  },
  {
   "cell_type": "markdown",
   "metadata": {},
   "source": [
    "The Optional type is especially useful in return types, as follows"
   ]
  },
  {
   "cell_type": "code",
   "execution_count": 6,
   "metadata": {},
   "outputs": [],
   "source": [
    "# Create a file dispense_bun.py with the following contents\n",
    "\n",
    "def are_buns_available():\n",
    "    return\n",
    "\n",
    "class Bun:\n",
    "    def __init__(self) -> None:\n",
    "        pass\n",
    "    \n",
    "    def add_frank(self, x):\n",
    "        pass\n",
    "\n",
    "def dispense_bun() -> Bun:\n",
    "    if not are_buns_available():\n",
    "        return None\n",
    "    return Bun()\n"
   ]
  },
  {
   "cell_type": "code",
   "execution_count": 7,
   "metadata": {},
   "outputs": [
    {
     "name": "stdout",
     "output_type": "stream",
     "text": [
      "\u001b[1m\u001b[32mSuccess: no issues found in 1 source file\u001b[m\n"
     ]
    }
   ],
   "source": [
    "# Then run mypy against the file. It will warn that the None case was not covered\n",
    "\n",
    "!mypy dispense_bun.py\n"
   ]
  },
  {
   "cell_type": "code",
   "execution_count": 8,
   "metadata": {},
   "outputs": [],
   "source": [
    "# To correct the last error, modify the signature of 'dispense_bun()' as follows\n",
    "\n",
    "def dispense_bun() -> Optional[Bun]:\n",
    "    if not are_buns_available():\n",
    "        return None\n",
    "    return Bun()\n"
   ]
  },
  {
   "cell_type": "code",
   "execution_count": 9,
   "metadata": {},
   "outputs": [
    {
     "name": "stdout",
     "output_type": "stream",
     "text": [
      "\u001b[1m\u001b[32mSuccess: no issues found in 1 source file\u001b[m\n"
     ]
    }
   ],
   "source": [
    "# Then run mypy against the file. Now the code will typecheck successfully\n",
    "\n",
    "!mypy dispense_bun.py\n"
   ]
  },
  {
   "cell_type": "markdown",
   "metadata": {},
   "source": [
    "The calling code also benefits from the Optional type, as follows\n"
   ]
  },
  {
   "cell_type": "code",
   "execution_count": 10,
   "metadata": {},
   "outputs": [],
   "source": [
    "# Create a file hotdog.py with the following contents\n",
    "\n",
    "from dispense_bun import dispense_bun\n",
    "\n",
    "\n",
    "def dispense_frank(): return\n",
    "def dispense_mustard(): return\n",
    "def dispense_ketchup(): return\n",
    "def dispense_hot_dog_to_customer(x): return\n",
    "\n",
    "\n",
    "def create_hot_dog() -> None:\n",
    "    bun = dispense_bun()\n",
    "    frank = dispense_frank()\n",
    "    hot_dog = bun.add_frank(frank)\n",
    "    ketchup = dispense_frank()\n",
    "    mustard = dispense_mustard()\n",
    "    hot_dog.add_condiments(ketchup, mustard)\n",
    "    dispense_hot_dog_to_customer(hot_dog)\n"
   ]
  },
  {
   "cell_type": "code",
   "execution_count": 20,
   "metadata": {},
   "outputs": [
    {
     "name": "stdout",
     "output_type": "stream",
     "text": [
      "hotdog_invalid.py:13: \u001b[1m\u001b[31merror:\u001b[m Item \u001b[m\u001b[1m\"Bun\"\u001b[m of \u001b[m\u001b[1m\"Optional[Bun]\"\u001b[m has no attribute \u001b[m\u001b[1m\"add_frank\"\u001b[m\u001b[m\n",
      "hotdog_invalid.py:13: \u001b[1m\u001b[31merror:\u001b[m Item \u001b[m\u001b[1m\"None\"\u001b[m of \u001b[m\u001b[1m\"Optional[Bun]\"\u001b[m has no attribute \u001b[m\u001b[1m\"add_frank\"\u001b[m\u001b[m\n",
      "\u001b[1m\u001b[31mFound 2 errors in 1 file (checked 1 source file)\u001b[m\n"
     ]
    }
   ],
   "source": [
    "# Then run mypy against the file. It will warn that \n",
    "# the None case is not covered in the calling code\n",
    "\n",
    "!mypy hotdog.py\n"
   ]
  },
  {
   "cell_type": "code",
   "execution_count": null,
   "metadata": {},
   "outputs": [],
   "source": [
    "# To correct the last warning, modify the return type to handle the None case\n",
    "\n",
    "def print_error_code(x): return\n",
    "\n",
    "def create_hot_dog() -> None:\n",
    "    bun = dispense_bun()\n",
    "    if bun is None:\n",
    "        print_error_code(\"Bun could not be dispensed\")\n",
    "        return\n",
    "\n",
    "    frank = dispense_frank()\n",
    "    hot_dog = bun.add_frank(frank)\n",
    "    ketchup = dispense_frank()\n",
    "    mustard = dispense_mustard()\n",
    "    hot_dog.add_condiments(ketchup, mustard)\n",
    "    dispense_hot_dog_to_customer(hot_dog)\n"
   ]
  },
  {
   "cell_type": "code",
   "execution_count": 26,
   "metadata": {},
   "outputs": [
    {
     "name": "stdout",
     "output_type": "stream",
     "text": [
      "\u001b[1m\u001b[32mSuccess: no issues found in 1 source file\u001b[m\n"
     ]
    }
   ],
   "source": [
    "# Then run mypy against the file. Now the code will typecheck successfully\n",
    "\n",
    "!mypy hotdog.py\n"
   ]
  },
  {
   "cell_type": "markdown",
   "metadata": {},
   "source": [
    "## Union Types"
   ]
  },
  {
   "cell_type": "markdown",
   "metadata": {},
   "source": [
    "A simple function with only 1 return type"
   ]
  },
  {
   "cell_type": "code",
   "execution_count": 32,
   "metadata": {},
   "outputs": [],
   "source": [
    "def are_ingredients_available(): return\n",
    "def order_interrupted(): return\n",
    "\n",
    "class HotDog:\n",
    "    pass\n",
    "\n",
    "class Pretzel:\n",
    "    pass\n",
    "\n",
    "def dispense_snack() -> HotDog:\n",
    "    if not are_ingredients_available():\n",
    "        raise RuntimeError(\"Not all ingredients available\")\n",
    "    if order_interrupted():\n",
    "        raise RuntimeError(\"Order interrupted\")\n",
    "    return create_hot_dog()\n"
   ]
  },
  {
   "cell_type": "markdown",
   "metadata": {},
   "source": [
    "Functions that return more than 1 type can be annotated with Union, as follows"
   ]
  },
  {
   "cell_type": "code",
   "execution_count": 33,
   "metadata": {},
   "outputs": [],
   "source": [
    "def dispense_hot_dog(): return\n",
    "def dispense_pretzel(): return\n",
    "\n",
    "def dispense_snack(user_input: str) -> Union[HotDog, Pretzel]:\n",
    "    if user_input == \"Hot Dog\":\n",
    "        return dispense_hot_dog()\n",
    "    elif user_input == \"Pretzel\":\n",
    "        return dispense_pretzel()\n",
    "    raise RuntimeError(\n",
    "        \"Should never reach this code, as an invalid input has been entered\"\n",
    "    )\n"
   ]
  },
  {
   "cell_type": "markdown",
   "metadata": {},
   "source": [
    "Union types can also detect type errors in the calling code, as follows"
   ]
  },
  {
   "cell_type": "code",
   "execution_count": null,
   "metadata": {},
   "outputs": [],
   "source": [
    "# Create a file union_hotdog.py with the following contents\n",
    "\n",
    "def get_order(): return\n",
    "\n",
    "def place_order() -> Optional[HotDog]:\n",
    "    order = get_order()\n",
    "    result = dispense_snack(order.name) # This returns Union[HotDog, Pretzel]\n",
    "    if result is None:\n",
    "        print_error_code(\"An error occurred\" + result)\n",
    "        return None\n",
    "    return result # Return our HotDog"
   ]
  },
  {
   "cell_type": "code",
   "execution_count": 34,
   "metadata": {},
   "outputs": [
    {
     "name": "stdout",
     "output_type": "stream",
     "text": [
      "union_hotdog.py:30: \u001b[1m\u001b[31merror:\u001b[m Incompatible return value type (got \u001b[m\u001b[1m\"Union[HotDog, Pretzel]\"\u001b[m, expected \u001b[m\u001b[1m\"Optional[HotDog]\"\u001b[m)\u001b[m\n",
      "\u001b[1m\u001b[31mFound 1 error in 1 file (checked 1 source file)\u001b[m\n"
     ]
    }
   ],
   "source": [
    "# Then run mypy against the file. It will warn that there's a mismatch\n",
    "# between the return type of 'result' and the return type of 'place_order()'\n",
    "\n",
    "!mypy union_hotdog.py\n"
   ]
  },
  {
   "cell_type": "code",
   "execution_count": null,
   "metadata": {},
   "outputs": [],
   "source": [
    "# To correct the last warning, modify the return type to handle the None case\n",
    "\n",
    "def place_order() -> Optional[Union[HotDog, Pretzel]]:\n",
    "    order = get_order()\n",
    "    result = dispense_snack(order.name)\n",
    "    if result is None:\n",
    "        print_error_code(\"An error occurred\" + result)\n",
    "        return None\n",
    "    return result # Return our HotDog"
   ]
  },
  {
   "cell_type": "code",
   "execution_count": 35,
   "metadata": {},
   "outputs": [
    {
     "name": "stdout",
     "output_type": "stream",
     "text": [
      "\u001b[1m\u001b[32mSuccess: no issues found in 1 source file\u001b[m\n"
     ]
    }
   ],
   "source": [
    "# Then run mypy against the file. Now the code will typecheck successfully\n",
    "\n",
    "!mypy union_hotdog.py\n"
   ]
  },
  {
   "cell_type": "markdown",
   "metadata": {},
   "source": [
    "### Product and Sum Types\n"
   ]
  },
  {
   "cell_type": "markdown",
   "metadata": {},
   "source": [
    "As an example of product types, consider the following dataclass"
   ]
  },
  {
   "cell_type": "code",
   "execution_count": 38,
   "metadata": {},
   "outputs": [
    {
     "data": {
      "text/plain": [
       "Snack(name='Hotdog', condiments={'Ketchup', 'Mustard'}, error_code=5, disposed_of=False)"
      ]
     },
     "execution_count": 38,
     "metadata": {},
     "output_type": "execute_result"
    }
   ],
   "source": [
    "@dataclass\n",
    "class Snack:\n",
    "    name: str\n",
    "    condiments: set[str]\n",
    "    error_code: int\n",
    "    disposed_of: bool\n",
    "\n",
    "Snack(\"Hotdog\", {\"Mustard\", \"Ketchup\"}, 5, False)\n"
   ]
  },
  {
   "cell_type": "markdown",
   "metadata": {},
   "source": [
    "```\n",
    "Assuming the following about the possible field values of Snack:\n",
    "• The name can be one of three values: hotdog, pretzel, or veggie burger\n",
    "• The condiments can be empty, mustard, ketchup, or both.\n",
    "• There are six error codes (0–5); 0 indicates success).\n",
    "• disposed_of is only True or False.\n",
    "\n",
    "The number of values that can be represented in this combination of fields is 144: \n",
    "• 3 possible values for name × \n",
    "• 3 possible values for condiments × \n",
    "• 6 possible values for error_code x\n",
    "• 2 possible values for disposed_of = 3×4×6×2 = 144\n",
    "```"
   ]
  },
  {
   "cell_type": "markdown",
   "metadata": {},
   "source": [
    "But with union types, the number of (possible invalid) states can be reduced drastically"
   ]
  },
  {
   "cell_type": "code",
   "execution_count": 39,
   "metadata": {},
   "outputs": [],
   "source": [
    "@dataclass\n",
    "class Error:\n",
    "    error_code: int\n",
    "    disposed_of: bool\n",
    "\n",
    "@dataclass\n",
    "class Snack:\n",
    "    name: str\n",
    "    condiments: set[str]\n"
   ]
  },
  {
   "cell_type": "code",
   "execution_count": 42,
   "metadata": {},
   "outputs": [
    {
     "data": {
      "text/plain": [
       "Snack(name='Hotdog', condiments={'Ketchup', 'Mustard'})"
      ]
     },
     "execution_count": 42,
     "metadata": {},
     "output_type": "execute_result"
    }
   ],
   "source": [
    "snack: Union[Snack, Error] = Snack(\"Hotdog\", {\"Mustard\", \"Ketchup\"})\n",
    "snack"
   ]
  },
  {
   "cell_type": "code",
   "execution_count": 41,
   "metadata": {},
   "outputs": [
    {
     "data": {
      "text/plain": [
       "Error(error_code=5, disposed_of=True)"
      ]
     },
     "execution_count": 41,
     "metadata": {},
     "output_type": "execute_result"
    }
   ],
   "source": [
    "snack = Error(5, True)\n",
    "snack"
   ]
  },
  {
   "cell_type": "markdown",
   "metadata": {},
   "source": [
    "```\n",
    "In this case, snack can be either:\n",
    "• a Snack (a name and condiments), with 3 names and 4 list values, so 12 representable states. \n",
    "• an Error (a number and a boolean), with 5 values for the error code (the 0 can be removed, since that was only for success) and 2 values for so 10 representable states.  \n",
    "\n",
    "Since the Union is an either/or construct, the number of representable states is 22.\n",
    "```"
   ]
  },
  {
   "cell_type": "markdown",
   "metadata": {},
   "source": [
    "## Literal Types\n"
   ]
  },
  {
   "cell_type": "markdown",
   "metadata": {},
   "source": [
    "The last 2 classes can be expressed in terms of the Literal type"
   ]
  },
  {
   "cell_type": "code",
   "execution_count": 10,
   "metadata": {},
   "outputs": [
    {
     "data": {
      "text/plain": [
       "Snack(name='Pretzel', condiments={'Relish', 'Mustard'})"
      ]
     },
     "execution_count": 10,
     "metadata": {},
     "output_type": "execute_result"
    }
   ],
   "source": [
    "# Create a file literals.py with the following contents\n",
    "\n",
    "# The modified data classes\n",
    "\n",
    "@dataclass\n",
    "class Error:\n",
    "    error_code: Literal[1, 2 ,3, 4, 5]\n",
    "    disposed_of: bool\n",
    "\n",
    "@dataclass\n",
    "class Snack:\n",
    "    name: Literal[\"Pretzel\", \"Hot Dog\", \"Veggie Burger\"]\n",
    "    condiments: set[Literal[\"Mustard\", \"Ketchup\"]]\n",
    "\n",
    "# Trying to instantiate the data classes with wrong values will raise type errors\n",
    "\n",
    "Error(0, False)\n",
    "Snack(\"Invalid\", set())\n",
    "Snack(\"Pretzel\", {\"Mustard\", \"Relish\"})\n"
   ]
  },
  {
   "cell_type": "code",
   "execution_count": 11,
   "metadata": {},
   "outputs": [
    {
     "name": "stdout",
     "output_type": "stream",
     "text": [
      "literals.py:17: \u001b[1m\u001b[31merror:\u001b[m Argument 1 to \u001b[m\u001b[1m\"Error\"\u001b[m has incompatible type \u001b[m\u001b[1m\"Literal[0]\"\u001b[m; expected \u001b[m\u001b[1m\"Literal[1, 2, 3, 4, 5]\"\u001b[m\u001b[m\n",
      "literals.py:18: \u001b[1m\u001b[31merror:\u001b[m Argument 1 to \u001b[m\u001b[1m\"Snack\"\u001b[m has incompatible type \u001b[m\u001b[1m\"Literal['Invalid']\"\u001b[m; expected \u001b[m\u001b[1m\"Literal['Pretzel', 'Hot Dog', 'Veggie Burger']\"\u001b[m\u001b[m\n",
      "literals.py:19: \u001b[1m\u001b[31merror:\u001b[m Argument 2 to <set> has incompatible type \u001b[m\u001b[1m\"Literal['Relish']\"\u001b[m; expected \u001b[m\u001b[1m\"Literal['Mustard', 'Ketchup']\"\u001b[m\u001b[m\n",
      "\u001b[1m\u001b[31mFound 3 errors in 1 file (checked 1 source file)\u001b[m\n"
     ]
    }
   ],
   "source": [
    "# Then run mypy against the file. It will warn that there are invalid values \n",
    "# in the dataclass instantiations\n",
    "\n",
    "!mypy literals.py\n"
   ]
  },
  {
   "cell_type": "markdown",
   "metadata": {},
   "source": [
    "## Annotated Types\n"
   ]
  },
  {
   "cell_type": "markdown",
   "metadata": {},
   "source": [
    "With Annotated, you can specify arbitrary metadata alongside the type annotation\n"
   ]
  },
  {
   "cell_type": "code",
   "execution_count": 16,
   "metadata": {},
   "outputs": [],
   "source": [
    "# ValueRange and MatchesRegex are not built-in types; they are arbitrary expressions\n",
    "\n",
    "class ValueRange:\n",
    "    def __init__(self, start, stop):\n",
    "        pass\n",
    "\n",
    "class MatchesRegex:\n",
    "    def __init__(self, pattern):\n",
    "        pass\n",
    "\n",
    "# Annotated is best served as a communication method, \n",
    "# since there are no tools that will typecheck this for you. \n",
    "\n",
    "x: Annotated[int, ValueRange(3,5)]\n",
    "y: Annotated[str, MatchesRegex('[0-9]{4}')]\n",
    "\n"
   ]
  },
  {
   "cell_type": "markdown",
   "metadata": {},
   "source": [
    "## NewType\n"
   ]
  },
  {
   "cell_type": "code",
   "execution_count": 17,
   "metadata": {},
   "outputs": [],
   "source": [
    "class HotDog:\n",
    "    # ... snip hot dog class implementation ...\n",
    "    pass\n",
    "\n",
    "def dispense_to_customer(hot_dog: HotDog):\n",
    "    # note, this should only accept ready-to-serve hot dogs.\n",
    "    # ...\n",
    "    return"
   ]
  },
  {
   "cell_type": "code",
   "execution_count": 23,
   "metadata": {},
   "outputs": [],
   "source": [
    "# NewType is useful when you want some of your functions to operate only on valid hot dogs. \n",
    "\n",
    "class HotDog:\n",
    "    ''' Used to represent an unservable hot dog'''\n",
    "    # ... snip hot dog class implementation ...\n",
    "    pass\n",
    "\n",
    "# Valid hot dogs are created with NewType\n",
    "\n",
    "ReadyToServeHotDog = NewType(\"ReadyToServeHotDog\", HotDog)\n",
    "\n",
    "def dispense_to_customer(hot_dog: ReadyToServeHotDog):\n",
    "    # ...\n",
    "    return\n"
   ]
  },
  {
   "cell_type": "code",
   "execution_count": 24,
   "metadata": {},
   "outputs": [],
   "source": [
    "# It is important to notify users that the only way to create your new type \n",
    "# is through a set of 'blessed' functions. \n",
    "\n",
    "def prepare_for_serving(hot_dog: HotDog) -> ReadyToServeHotDog:\n",
    "    assert not hot_dog.is_plated(), \"Hot dog should not already be plated\"\n",
    "    hot_dog.put_on_plate()\n",
    "    hot_dog.add_napkins()\n",
    "    return ReadyToServeHotDog(hot_dog)\n",
    "\n",
    "def serve_to_customer(x: ReadyToServeHotDog):\n",
    "    return\n",
    "\n",
    "def make_snack():\n",
    "    hotdog = HotDog()\n",
    "    valid_hotdog = prepare_for_serving(hotdog)\n",
    "    serve_to_customer(valid_hotdog)\n"
   ]
  },
  {
   "cell_type": "code",
   "execution_count": 25,
   "metadata": {},
   "outputs": [],
   "source": [
    "# Unfortunately, Python has no great way of telling users this, other than a comment.\n",
    "\n",
    "ReadyToServeHotDog = NewType(\"ReadyToServeHotDog\", HotDog) # NOTE: Only create ReadyToServeHotDog using prepare_for_serving method.\n"
   ]
  },
  {
   "cell_type": "markdown",
   "metadata": {},
   "source": [
    "## Type Aliases\n"
   ]
  },
  {
   "cell_type": "code",
   "execution_count": 26,
   "metadata": {},
   "outputs": [],
   "source": [
    "# A type alias provides another name for a type and \n",
    "# is completely interchangeable with the old type\n",
    "\n",
    "class User:\n",
    "    pass\n",
    "\n",
    "IdOrName = Union[str, int]\n",
    "\n",
    "IDOrNameLookup =  Union[\n",
    "    dict[int, User], list[dict[str, User]]\n",
    "]\n"
   ]
  },
  {
   "cell_type": "markdown",
   "metadata": {},
   "source": [
    "## Final types"
   ]
  },
  {
   "cell_type": "markdown",
   "metadata": {},
   "source": [
    "Final types indicate to a typechecker that a variable cannot be bound to another value."
   ]
  },
  {
   "cell_type": "code",
   "execution_count": 28,
   "metadata": {},
   "outputs": [],
   "source": [
    "# Create a file final.py with the following contents\n",
    "\n",
    "VENDOR_NAME: Final = \"Viafore's Auto-Dog\"\n",
    "\n",
    "def display_vendor_information():\n",
    "    vendor_info = \"Auto-Dog v1.0\"\n",
    "    VENDOR_NAME += VENDOR_NAME # This code should be vendor_info += VENDOR_NAME\n",
    "    print(vendor_info)\n"
   ]
  },
  {
   "cell_type": "code",
   "execution_count": 29,
   "metadata": {},
   "outputs": [
    {
     "name": "stdout",
     "output_type": "stream",
     "text": [
      "final.py:8: \u001b[1m\u001b[31merror:\u001b[m Cannot assign to final name \u001b[m\u001b[1m\"VENDOR_NAME\"\u001b[m\u001b[m\n",
      "\u001b[1m\u001b[31mFound 1 error in 1 file (checked 1 source file)\u001b[m\n"
     ]
    }
   ],
   "source": [
    "# Then run mypy against the file. It will warn that \n",
    "# a function is trying to modify a final type\n",
    "\n",
    "!mypy final.py\n"
   ]
  }
 ],
 "metadata": {
  "interpreter": {
   "hash": "3fd673f0bd4e75da526fdef7ec84a70817605d24d0b9cc1488403ba9d379e57b"
  },
  "kernelspec": {
   "display_name": "Python 3.9.5 ('env': venv)",
   "language": "python",
   "name": "python3"
  },
  "language_info": {
   "codemirror_mode": {
    "name": "ipython",
    "version": 3
   },
   "file_extension": ".py",
   "mimetype": "text/x-python",
   "name": "python",
   "nbconvert_exporter": "python",
   "pygments_lexer": "ipython3",
   "version": "3.9.5"
  },
  "orig_nbformat": 4
 },
 "nbformat": 4,
 "nbformat_minor": 2
}

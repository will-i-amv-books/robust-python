{
 "cells": [
  {
   "cell_type": "markdown",
   "metadata": {},
   "source": [
    "# Protocols"
   ]
  },
  {
   "cell_type": "code",
   "execution_count": 34,
   "metadata": {},
   "outputs": [],
   "source": [
    "import math\n",
    "from typing import Union, Iterator, MutableSequence, Protocol, runtime_checkable, Any\n",
    "from random import shuffle\n",
    "\n"
   ]
  },
  {
   "cell_type": "markdown",
   "metadata": {},
   "source": [
    "## Tension Between Typing Systems\n"
   ]
  },
  {
   "cell_type": "markdown",
   "metadata": {},
   "source": [
    "Consider an automated lunch shop's digital menu system:\n",
    "* The restaurant has a variety of entries that are \"splittable,\" meaning you can get a half order.\n",
    "* Entries like deli sandwiches, wraps, and soups can be split.\n",
    "* Entries like drinks and hamburgers cannot be split.\n"
   ]
  },
  {
   "cell_type": "code",
   "execution_count": 1,
   "metadata": {},
   "outputs": [],
   "source": [
    "# We can represent some entries of the last restaurant description as follows\n",
    "\n",
    "class BLTSandwich:\n",
    "    def __init__(self):\n",
    "        self.cost = 6.95\n",
    "        self.name = 'BLT'\n",
    "        # This class handles a fully constructed BLT sandwich\n",
    "        # ...\n",
    "\n",
    "    def split_in_half(self) -> tuple['BLTSandwich', 'BLTSandwich']:\n",
    "        # Instructions for how to split a sandwich in half\n",
    "        # Cut along diagonal, wrap separately, etc.\n",
    "        # Return two sandwiches in return\n",
    "        return\n",
    "\n",
    "class Chili:\n",
    "    def __init__(self):\n",
    "        self.cost = 4.95\n",
    "        self.name = 'Chili'\n",
    "        # This class handles a fully loaded chili\n",
    "        # ...\n",
    "\n",
    "    def split_in_half(self) -> tuple['Chili', 'Chili']:\n",
    "        # Instructions for how to split chili in half\n",
    "        # Ladle into new container, add toppings\n",
    "        # Return two cups of chili in return\n",
    "        # ...\n",
    "        return \n",
    "\n",
    "class BaconCheeseburger:\n",
    "    def __init__(self):\n",
    "        self.cost = 11.95\n",
    "        self.name = 'Bacon Cheeseburger'\n",
    "        # This class handles a delicious Bacon Cheeseburger\n",
    "        # ...\n",
    "        # NOTE! no split_in_half method\n"
   ]
  },
  {
   "cell_type": "code",
   "execution_count": 5,
   "metadata": {},
   "outputs": [],
   "source": [
    "# The split method might look something like this\n",
    "\n",
    "def split_dish(dish):\n",
    "    dishes = dish.split_in_half()\n",
    "    assert len(dishes) == 2\n",
    "    for half_dish in dishes:\n",
    "        half_dish.cost = math.ceil(half_dish.cost) / 2\n",
    "        half_dish.name = \"1/2 \" + half_dish.name\n",
    "    return dishes\n"
   ]
  },
  {
   "cell_type": "code",
   "execution_count": 7,
   "metadata": {},
   "outputs": [
    {
     "data": {
      "text/plain": [
       "'\\ndef split_dish(dish: ???) -> ???:\\n    return\\n'"
      ]
     },
     "execution_count": 7,
     "metadata": {},
     "output_type": "execute_result"
    }
   ],
   "source": [
    "# But what about the type signature of the last function?\n",
    "\n",
    "\"\"\"\n",
    "def split_dish(dish: ???) -> ???:\n",
    "    return\n",
    "\"\"\""
   ]
  },
  {
   "cell_type": "code",
   "execution_count": 10,
   "metadata": {},
   "outputs": [],
   "source": [
    "# We can use Any, but this conveys no intent to future developers\n",
    "\n",
    "def split_dish(dish: Any) -> Any:\n",
    "    return"
   ]
  },
  {
   "cell_type": "code",
   "execution_count": 13,
   "metadata": {},
   "outputs": [],
   "source": [
    "# We can use a Union, but we are hardcoding classes into the type signature\n",
    "\n",
    "def split_dish(dish: Union[BLTSandwich, Chili]):\n",
    "    \"\"\"\n",
    "    Every time somebody needs to add a class that can be splittable, \n",
    "    they have to remember to update this function\n",
    "    \"\"\"\n",
    "    return"
   ]
  },
  {
   "cell_type": "markdown",
   "metadata": {},
   "source": [
    "### Using Inheritance\n"
   ]
  },
  {
   "cell_type": "code",
   "execution_count": 14,
   "metadata": {},
   "outputs": [],
   "source": [
    "# We can create a base class with the methods we want to implement,\n",
    "# and have the entries inherit from that base class\n",
    "\n",
    "class Splittable:\n",
    "    def __init__(self, cost, name):\n",
    "        self.cost = cost\n",
    "        self.name = name\n",
    "\n",
    "    def split_in_half(self) -> tuple['Splittable', 'Splittable']:\n",
    "        raise NotImplementedError(\"Must implement split in half\")\n",
    "\n",
    "class BLTSandwich(Splittable):\n",
    "    pass\n",
    "\n",
    "class Chili(Splittable):\n",
    "    pass\n"
   ]
  },
  {
   "cell_type": "code",
   "execution_count": 15,
   "metadata": {},
   "outputs": [],
   "source": [
    "# And the signature of split_dish() will be as follows\n",
    "\n",
    "def split_dish(dish: Splittable) -> tuple[Splittable, Splittable]:\n",
    "    return\n"
   ]
  },
  {
   "cell_type": "markdown",
   "metadata": {},
   "source": [
    "But this doesn't scale when the number of classes grows"
   ]
  },
  {
   "cell_type": "markdown",
   "metadata": {},
   "source": [
    "### Using Mixins"
   ]
  },
  {
   "cell_type": "code",
   "execution_count": 16,
   "metadata": {},
   "outputs": [],
   "source": [
    "# We can add custom behavior to a class without an inheritance hierarchy with mixins.\n",
    "\n",
    "class Shareable:\n",
    "    pass\n",
    "\n",
    "class PickUppable:\n",
    "    pass\n",
    "\n",
    "class Substitutable:\n",
    "    pass\n",
    "\n",
    "class BLTSandwich(Shareable, PickUppable, Substitutable, Splittable):\n",
    "    \"\"\"\n",
    "    If we want my BLTSandwich to be Shareable, PickUppable, Substitutable, and Splittable, \n",
    "    then we don't have to modify anything else besides BLTSandwich.\n",
    "    \"\"\"\n",
    "    pass"
   ]
  },
  {
   "cell_type": "markdown",
   "metadata": {},
   "source": [
    "But changing existing classes just for the sake of typechecking feels very unpythonic. It should be a better way."
   ]
  },
  {
   "cell_type": "markdown",
   "metadata": {},
   "source": [
    "### Using Protocols"
   ]
  },
  {
   "cell_type": "code",
   "execution_count": 23,
   "metadata": {},
   "outputs": [],
   "source": [
    "# As an example of a protocol, the iterator protocol is a set of behaviors that objects may implement. \n",
    "# If an object implements these behaviors, you can loop over the object\n",
    "\n",
    "class ShuffleIterator:\n",
    "    def __init__(self, sequence: MutableSequence):\n",
    "        self.sequence = list(sequence)\n",
    "        shuffle(self.sequence)\n",
    "\n",
    "    def __iter__(self):\n",
    "        return self\n",
    "\n",
    "    def __next__(self):\n",
    "        if not self.sequence:\n",
    "            raise StopIteration\n",
    "        return self.sequence.pop(0)\n"
   ]
  },
  {
   "cell_type": "code",
   "execution_count": 27,
   "metadata": {},
   "outputs": [
    {
     "name": "stdout",
     "output_type": "stream",
     "text": [
      "2\n",
      "4\n",
      "3\n",
      "1\n"
     ]
    }
   ],
   "source": [
    "iterator: Iterator = ShuffleIterator([1, 2, 3, 4])\n",
    "for num in iterator:\n",
    "    print(num)\n"
   ]
  },
  {
   "cell_type": "code",
   "execution_count": 29,
   "metadata": {},
   "outputs": [],
   "source": [
    "# The last class implements built-in methods (__iter__ and __next__).\n",
    "# We can define a custom protocol, with arbitrary methods, as follows\n",
    "\n",
    "class Splittable(Protocol):\n",
    "    cost: int\n",
    "    name: str\n",
    "\n",
    "    def split_in_half(self) -> tuple['Splittable', 'Splittable']:\n",
    "        \"\"\" No implementation needed \"\"\"\n",
    "        return\n"
   ]
  },
  {
   "cell_type": "code",
   "execution_count": 30,
   "metadata": {},
   "outputs": [],
   "source": [
    "# To have the BLTSandwich be splittable, we just implement the split_in_half() method. \n",
    "# There is no subclassing needed\n",
    "\n",
    "class BLTSandwich:\n",
    "    def __init__(self):\n",
    "        self.cost = 6.95\n",
    "        self.name = 'BLT'\n",
    "        # This class handles a fully constructed BLT sandwich\n",
    "        # ...\n",
    "    \n",
    "    def split_in_half(self) -> tuple['BLTSandwich', 'BLTSandwich']:\n",
    "        # Instructions for how to split a sandwich in half\n",
    "        # Cut along diagonal, wrap separately, etc.\n",
    "        # Return two sandwiches in return\n",
    "        return\n"
   ]
  },
  {
   "cell_type": "code",
   "execution_count": 31,
   "metadata": {},
   "outputs": [],
   "source": [
    "# And the signature of split_dish() will be as follows\n",
    "\n",
    "def split_dish(order: Splittable) -> tuple[Splittable, Splittable]:\n",
    "    return "
   ]
  },
  {
   "cell_type": "markdown",
   "metadata": {},
   "source": [
    "With protocols, we can simplify class hierarchies immensely"
   ]
  },
  {
   "cell_type": "markdown",
   "metadata": {},
   "source": [
    "## Advanced Usage of Protocols"
   ]
  },
  {
   "cell_type": "markdown",
   "metadata": {},
   "source": [
    "### Composite Protocols\n"
   ]
  },
  {
   "cell_type": "markdown",
   "metadata": {},
   "source": [
    "What if most of the entries are Splittable, Shareable, Substitutable, and PickUppable?"
   ]
  },
  {
   "cell_type": "code",
   "execution_count": 32,
   "metadata": {},
   "outputs": [],
   "source": [
    "# We can write a type alias, but this will match anything that satisfies \n",
    "# at least one protocol, not all four:\n",
    "\n",
    "StandardLunchEntry = Union[Splittable, Shareable, Substitutable, PickUppable]\n",
    "\n"
   ]
  },
  {
   "cell_type": "code",
   "execution_count": 33,
   "metadata": {},
   "outputs": [],
   "source": [
    "# We need to match all 4 protocols, so we  need to use a composite protocol:\n",
    "\n",
    "class Shareable(Protocol):\n",
    "    pass\n",
    "\n",
    "class Substitutable(Protocol):\n",
    "    pass\n",
    "\n",
    "class PickUppable(Protocol):\n",
    "    pass\n",
    "\n",
    "class StandardLunchEntry(Splittable, Shareable, Substitutable, PickUppable, Protocol):\n",
    "    \"\"\"\n",
    "    # There's no need to explicitly subclass from the protocol, we do so here for clarity's sake\n",
    "    \"\"\"\n",
    "    pass\n",
    "\n",
    "class BLTSandwich(StandardLunchEntry):\n",
    "    # ... snip ..\n",
    "    pass"
   ]
  },
  {
   "cell_type": "markdown",
   "metadata": {},
   "source": [
    "### Runtime Checkable Protocols\n"
   ]
  },
  {
   "cell_type": "code",
   "execution_count": 37,
   "metadata": {},
   "outputs": [],
   "source": [
    "# We can make protocols runtime-checkable (can be used as arg of isinstance() for example) \n",
    "# with the 'runtime_checkable' decorator, as follows\n",
    "\n",
    "@runtime_checkable\n",
    "class Splittable(Protocol):\n",
    "    cost: int\n",
    "    name: str\n",
    "\n",
    "    def split_in_half(self) -> tuple['Splittable', 'Splittable']:\n",
    "        #...\n",
    "        return\n",
    "\n",
    "class BLTSandwich:\n",
    "    def __init__(self):\n",
    "        self.cost = 6.95\n",
    "        self.name = 'BLT'\n",
    "        # This class handles a fully constructed BLT sandwich\n",
    "        # ...\n",
    "    \n",
    "    def split_in_half(self) -> tuple['BLTSandwich', 'BLTSandwich']:\n",
    "        # Instructions for how to split a sandwich in half\n",
    "        # Cut along diagonal, wrap separately, etc.\n",
    "        # Return two sandwiches in return\n",
    "        return\n",
    "\n",
    "\n",
    "assert isinstance(BLTSandwich(), Splittable)\n"
   ]
  }
 ],
 "metadata": {
  "interpreter": {
   "hash": "3fd673f0bd4e75da526fdef7ec84a70817605d24d0b9cc1488403ba9d379e57b"
  },
  "kernelspec": {
   "display_name": "Python 3.9.5 ('env': venv)",
   "language": "python",
   "name": "python3"
  },
  "language_info": {
   "codemirror_mode": {
    "name": "ipython",
    "version": 3
   },
   "file_extension": ".py",
   "mimetype": "text/x-python",
   "name": "python",
   "nbconvert_exporter": "python",
   "pygments_lexer": "ipython3",
   "version": "3.9.5"
  },
  "orig_nbformat": 4
 },
 "nbformat": 4,
 "nbformat_minor": 2
}

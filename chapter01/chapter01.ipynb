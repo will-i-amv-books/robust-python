{
 "cells": [
  {
   "cell_type": "markdown",
   "metadata": {},
   "source": [
    "# Introduction to Robust Python"
   ]
  },
  {
   "cell_type": "markdown",
   "metadata": {},
   "source": [
    "## What’s Your Intent?"
   ]
  },
  {
   "cell_type": "markdown",
   "metadata": {},
   "source": [
    "A code block from a hypothetical legacy system"
   ]
  },
  {
   "cell_type": "code",
   "execution_count": 1,
   "metadata": {},
   "outputs": [],
   "source": [
    "def adjust_recipe(recipe, servings):\n",
    "    \"\"\"\n",
    "    Take a meal recipe and change the number of servings by adjusting each ingredient.\n",
    "    A recipe's first element is the number of servings, and the remainder\n",
    "    of elements is (name, amount, unit), such as (\"flour\", 1.5, \"cup\")\n",
    "    \"\"\"\n",
    "    new_recipe = [servings]\n",
    "    old_servings = recipe[0]\n",
    "    factor = servings / old_servings\n",
    "    recipe.pop(0)\n",
    "    while recipe:\n",
    "        ingredient, amount, unit = recipe.pop(0)\n",
    "        new_recipe.append((ingredient, amount * factor, unit)) # please only use numbers that will be easily measurable\n",
    "    return new_recipe\n"
   ]
  },
  {
   "cell_type": "markdown",
   "metadata": {},
   "source": [
    "You maw want to refactor like this"
   ]
  },
  {
   "cell_type": "code",
   "execution_count": 2,
   "metadata": {},
   "outputs": [],
   "source": [
    "def adjust_recipe(recipe, servings):\n",
    "    old_servings = recipe.pop(0)\n",
    "    factor = servings / old_servings\n",
    "    new_recipe = {\n",
    "        ingredient: (amount*factor, unit)\n",
    "        for ingredient, amount, unit in recipe\n",
    "    }\n",
    "    new_recipe[\"servings\"] = servings\n",
    "    return new_recipe\n"
   ]
  },
  {
   "cell_type": "markdown",
   "metadata": {},
   "source": [
    "```\n",
    "Now the following changes may introduce 3 subtle bugs:\n",
    "• In the original code, the original recipe was cleared out. Now it's not.\n",
    "• By returning a dictionary, the ability to have duplicate ingredients in a list was removed. \n",
    "• If any of the ingredients are named “servings”, a collision with naming occurs.\n",
    "```\n"
   ]
  },
  {
   "cell_type": "markdown",
   "metadata": {},
   "source": [
    "What if the original author made use of better naming patterns and better type usage?. The code would look like this"
   ]
  },
  {
   "cell_type": "code",
   "execution_count": 3,
   "metadata": {},
   "outputs": [],
   "source": [
    "class Recipe:\n",
    "    pass\n",
    "\n",
    "class Fraction:\n",
    "    pass\n",
    "\n",
    "def adjust_recipe(recipe, servings):\n",
    "    \"\"\"\n",
    "    Take a meal recipe and change the number of servings\n",
    "\n",
    "    :param recipe: a `Recipe` indicating what needs to be adjusted\n",
    "    :param servings: the number of servings\n",
    "    :return Recipe: a recipe with serving size and ingredients adjusted for the new servings\n",
    "    \"\"\"\n",
    "    # create a copy of the ingredients\n",
    "    new_ingredients = list(recipe.get_ingredients())\n",
    "    recipe.clear_ingredients()\n",
    "    for ingredient in new_ingredients:\n",
    "        ingredient.adjust_propoprtion(Fraction(servings, recipe.servings))\n",
    "    return Recipe(servings, new_ingredients)\n"
   ]
  },
  {
   "cell_type": "markdown",
   "metadata": {},
   "source": [
    "## Examples of Intent in Python\n"
   ]
  },
  {
   "cell_type": "markdown",
   "metadata": {},
   "source": [
    "### Collections"
   ]
  },
  {
   "cell_type": "code",
   "execution_count": 4,
   "metadata": {},
   "outputs": [],
   "source": [
    "class Cookbook:\n",
    "    pass\n",
    "\n",
    "def create_author_count_mapping(cookbooks: list[Cookbook]):\n",
    "    counter = {}\n",
    "    for cookbook in cookbooks:\n",
    "        if cookbook.author not in counter:\n",
    "            counter[cookbook.author] = 0\n",
    "        counter[cookbook.author] += 1\n",
    "    return counter\n"
   ]
  },
  {
   "cell_type": "markdown",
   "metadata": {},
   "source": [
    "```\n",
    "Based on the current usage of collections, here’s what can be assumed:\n",
    "• A list of cookbooks is passed as arg, so there may be duplicate cookbooks in this list.\n",
    "• A dictionary is returned, so no need to worry about duplicate authors in the returned collection.\n",
    "```"
   ]
  },
  {
   "cell_type": "markdown",
   "metadata": {},
   "source": [
    "DefaultDict"
   ]
  },
  {
   "cell_type": "markdown",
   "metadata": {},
   "source": [
    "The last snippet can be rewritten with the DefaultDict collection, as follows\n"
   ]
  },
  {
   "cell_type": "code",
   "execution_count": 5,
   "metadata": {},
   "outputs": [],
   "source": [
    "from typing import List\n",
    "from collections import defaultdict\n",
    "\n",
    "def create_author_count_mapping(cookbooks: List[Cookbook]):\n",
    "    counter = defaultdict(lambda: 0)\n",
    "    for cookbook in cookbooks:\n",
    "        counter[cookbook.author] += 1\n",
    "    return counter\n"
   ]
  },
  {
   "cell_type": "markdown",
   "metadata": {},
   "source": [
    "Counter\n"
   ]
  },
  {
   "cell_type": "markdown",
   "metadata": {},
   "source": [
    "The last snippet can be rewritten with the Counter collection, as follows\n"
   ]
  },
  {
   "cell_type": "code",
   "execution_count": 6,
   "metadata": {},
   "outputs": [],
   "source": [
    "from collections import Counter\n",
    "\n",
    "def create_author_count_mapping(cookbooks: List[Cookbook]):\n",
    "    return Counter(book.author for book in cookbooks)\n"
   ]
  },
  {
   "cell_type": "markdown",
   "metadata": {},
   "source": [
    "### Iteration"
   ]
  },
  {
   "cell_type": "markdown",
   "metadata": {},
   "source": [
    "Printing each character of a string (unpythonic way)"
   ]
  },
  {
   "cell_type": "code",
   "execution_count": 12,
   "metadata": {},
   "outputs": [
    {
     "name": "stdout",
     "output_type": "stream",
     "text": [
      "T-h-i-s- -i-s- -s-o-m-e- -g-e-n-e-r-i-c- -t-e-x-t-"
     ]
    }
   ],
   "source": [
    "text = \"This is some generic text\"\n",
    "index = 0\n",
    "while index < len(text):\n",
    "    print(text[index], end='-')\n",
    "    index += 1\n"
   ]
  },
  {
   "cell_type": "markdown",
   "metadata": {},
   "source": [
    "Printing each character of a string (pythonic way)"
   ]
  },
  {
   "cell_type": "code",
   "execution_count": 13,
   "metadata": {},
   "outputs": [
    {
     "name": "stdout",
     "output_type": "stream",
     "text": [
      "T-h-i-s- -i-s- -s-o-m-e- -g-e-n-e-r-i-c- -t-e-x-t-"
     ]
    }
   ],
   "source": [
    "for character in text:\n",
    "    print(character, end='-')\n"
   ]
  },
  {
   "cell_type": "markdown",
   "metadata": {},
   "source": [
    "Use for loops for iterating over a collection or range and performing an action/side effect."
   ]
  },
  {
   "cell_type": "code",
   "execution_count": null,
   "metadata": {},
   "outputs": [],
   "source": [
    "cookbooks = []\n",
    "for cookbook in cookbooks:\n",
    "    print(cookbook)"
   ]
  },
  {
   "cell_type": "markdown",
   "metadata": {},
   "source": [
    "Use while loops for iterating as long as a certain condition is true.\n"
   ]
  },
  {
   "cell_type": "code",
   "execution_count": 20,
   "metadata": {},
   "outputs": [],
   "source": [
    "def narrate(x): \n",
    "    pass\n",
    "\n",
    "def is_cookbook_open(x): \n",
    "    pass\n",
    "\n",
    "cookbook = False\n",
    "\n",
    "while is_cookbook_open(cookbook):\n",
    "    narrate(cookbook)\n"
   ]
  },
  {
   "cell_type": "markdown",
   "metadata": {},
   "source": [
    "Use comprehensions when transforming collections without side effects"
   ]
  },
  {
   "cell_type": "code",
   "execution_count": 14,
   "metadata": {},
   "outputs": [],
   "source": [
    "cookbooks = []\n",
    "authors = [cookbook.author for cookbook in cookbooks]"
   ]
  },
  {
   "cell_type": "markdown",
   "metadata": {},
   "source": [
    "Use recursion when the substructure of a collection is identical to the structure of a collection "
   ]
  },
  {
   "cell_type": "code",
   "execution_count": 15,
   "metadata": {},
   "outputs": [],
   "source": [
    "class PreparedIngredient:\n",
    "    pass\n",
    "\n",
    "def list_ingredients(item):\n",
    "    if isinstance(item, PreparedIngredient):\n",
    "        list_ingredients(item)\n",
    "    else:\n",
    "        print(item)\n"
   ]
  },
  {
   "cell_type": "code",
   "execution_count": null,
   "metadata": {},
   "outputs": [],
   "source": [
    "u"
   ]
  }
 ],
 "metadata": {
  "interpreter": {
   "hash": "3fd673f0bd4e75da526fdef7ec84a70817605d24d0b9cc1488403ba9d379e57b"
  },
  "kernelspec": {
   "display_name": "Python 3.9.5 ('env': venv)",
   "language": "python",
   "name": "python3"
  },
  "language_info": {
   "codemirror_mode": {
    "name": "ipython",
    "version": 3
   },
   "file_extension": ".py",
   "mimetype": "text/x-python",
   "name": "python",
   "nbconvert_exporter": "python",
   "pygments_lexer": "ipython3",
   "version": "3.9.5"
  },
  "orig_nbformat": 4
 },
 "nbformat": 4,
 "nbformat_minor": 2
}

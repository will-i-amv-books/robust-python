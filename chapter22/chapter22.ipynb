{
 "cells": [
  {
   "cell_type": "markdown",
   "metadata": {},
   "source": [
    "# Acceptance Testing\n"
   ]
  },
  {
   "cell_type": "markdown",
   "metadata": {},
   "source": [
    "### Behavior-driven development"
   ]
  },
  {
   "cell_type": "markdown",
   "metadata": {},
   "source": [
    "In the Gherkin specification language, every requirement is organized as follows:\n",
    "\n",
    "```\n",
    "Feature: Name of test suite\n",
    "    Scenario: A test case\n",
    "        Given some precondition\n",
    "        When I take some action\n",
    "        Then I expect this result\n",
    "```"
   ]
  },
  {
   "cell_type": "markdown",
   "metadata": {},
   "source": [
    "To capture a requirement that checks for vegan substitution of a dish, we can write it as follows:\n",
    "\n",
    "```\n",
    "Feature: Vegan-friendly menu\n",
    "    Scenario: Can substitute for vegan alternative\n",
    "        Given an order containing a Cheeseburger with Fries\n",
    "        When I ask for vegan substitutions\n",
    "        Then I receive the meal with no animal products\n",
    "```\n"
   ]
  },
  {
   "cell_type": "markdown",
   "metadata": {},
   "source": [
    "To capture a requirement that checks that certain dishes can't be made vegan, we can write it as follows:\n",
    "\n",
    "```\n",
    "Scenario: Cannot substitute vegan alternatives for certain meals\n",
    "    Given an order containing Meatloaf\n",
    "        When I ask for vegan substitutions\n",
    "        Then an error shows up stating the meal is not vegan substitutable\n",
    "```"
   ]
  },
  {
   "cell_type": "markdown",
   "metadata": {},
   "source": [
    "### Executable Specifcations"
   ]
  },
  {
   "cell_type": "code",
   "execution_count": 1,
   "metadata": {},
   "outputs": [],
   "source": [
    "# Before continuing, install and import the 'behave' library:\n",
    "\n",
    "\"\"\"\n",
    "!pip install behave\n",
    "\"\"\"\n",
    "from behave import given, when, then\n",
    "from behave.runner import Context\n",
    "from behave import use_step_matcher\n"
   ]
  },
  {
   "cell_type": "markdown",
   "metadata": {},
   "source": [
    "Consider the following requirement again:\n",
    "\n",
    "```\n",
    "Feature: Vegan-friendly menu\n",
    "    Scenario: Can substitute for vegan alternative\n",
    "        Given an order containing a Cheeseburger with Fries\n",
    "        When I ask for vegan substitutions\n",
    "        Then I receive the meal with no animal products\n",
    "```"
   ]
  },
  {
   "cell_type": "code",
   "execution_count": 2,
   "metadata": {},
   "outputs": [
    {
     "data": {
      "text/plain": [
       "'\\ncontext = Context()\\nsetup_order(context)\\nsubstitute_vegan(context)\\ncheck_all_vegan(context)\\n'"
      ]
     },
     "execution_count": 2,
     "metadata": {},
     "output_type": "execute_result"
    }
   ],
   "source": [
    "# With behave, we can write code that maps to each of these GWT statements:\n",
    "\n",
    "@given(\"an order containing a Cheeseburger with Fries\")\n",
    "def setup_order(ctx):\n",
    "    ctx.dish = CheeseburgerWithFries()\n",
    "\n",
    "@when(\"I ask for vegan substitutions\")\n",
    "def substitute_vegan(ctx):\n",
    "    ctx.dish.substitute_vegan_ingredients()\n",
    "\n",
    "@then(\"I receive the meal with no animal products\")\n",
    "def check_all_vegan(ctx):\n",
    "    assert all(is_vegan(ing) for ing in ctx.dish.ingredients())\n",
    "\n",
    "\"\"\"\n",
    "context = Context()\n",
    "setup_order(context)\n",
    "substitute_vegan(context)\n",
    "check_all_vegan(context)\n",
    "\"\"\""
   ]
  },
  {
   "cell_type": "code",
   "execution_count": 3,
   "metadata": {},
   "outputs": [
    {
     "data": {
      "text/plain": [
       "'\\n!behave YOUT_FILE.py\\n'"
      ]
     },
     "execution_count": 3,
     "metadata": {},
     "output_type": "execute_result"
    }
   ],
   "source": [
    "# Then, we can run behave on the target file, as follows:\n",
    "\n",
    "\"\"\"\n",
    "!behave YOUT_FILE.py\n",
    "\"\"\"\n"
   ]
  },
  {
   "cell_type": "markdown",
   "metadata": {},
   "source": [
    "### Additional behave Features\n"
   ]
  },
  {
   "cell_type": "markdown",
   "metadata": {},
   "source": [
    "Parameterized Steps\n"
   ]
  },
  {
   "cell_type": "code",
   "execution_count": 4,
   "metadata": {},
   "outputs": [
    {
     "data": {
      "text/plain": [
       "'\\nGiven an order containing Meatloaf...\\n'"
      ]
     },
     "execution_count": 4,
     "metadata": {},
     "output_type": "execute_result"
    }
   ],
   "source": [
    "# Consider the 2 similar requirements:\n",
    "\n",
    "\"\"\"\n",
    "Given an order containing a Cheeseburger with Fries...\n",
    "\"\"\"\n",
    "\n",
    "\"\"\"\n",
    "Given an order containing Meatloaf...\n",
    "\"\"\""
   ]
  },
  {
   "cell_type": "code",
   "execution_count": 5,
   "metadata": {},
   "outputs": [],
   "source": [
    "# We can parameterize the steps to avoid writing multiple steps, as follows:\n",
    "\n",
    "@given(\"an order containing {dish_name}\")\n",
    "def setup_order_2(ctx, dish_name):\n",
    "    if dish_name == \"a Cheeseburger with Fries\":\n",
    "        ctx.dish = CheeseburgerWithFries()\n",
    "    elif dish_name == \"Meatloaf\":\n",
    "        ctx.dish = Meatloaf()\n",
    "\n",
    "# Or stack clauses on a function, as follows:\n",
    "\n",
    "@given(\"another order containing a Cheeseburger with Fries\")\n",
    "@given(\"a typical drive-thru order\")\n",
    "def setup_order_3(ctx):\n",
    "    ctx.dish = CheeseBurgerWithFries()\n",
    "\n"
   ]
  },
  {
   "cell_type": "markdown",
   "metadata": {},
   "source": [
    "Step Matching"
   ]
  },
  {
   "cell_type": "code",
   "execution_count": 6,
   "metadata": {},
   "outputs": [],
   "source": [
    "#  We can use regular expression parsing in your decorators, as follows\n",
    "\n",
    "use_step_matcher(\"re\")\n",
    "\n",
    "@given(\"and another order containing [a|an]?(?P<dish_name>.*)\")\n",
    "def setup_order(ctx, dish_name):\n",
    "    ctx.dish = create_dish(dish_name)\n"
   ]
  },
  {
   "cell_type": "markdown",
   "metadata": {},
   "source": [
    "Customizing the test lifecycle"
   ]
  },
  {
   "cell_type": "code",
   "execution_count": 8,
   "metadata": {},
   "outputs": [],
   "source": [
    "# To run code before or after your tests run, we can call specific functions \n",
    "# in a file named environment.py, as follows:\n",
    "\n",
    "def before_all(ctx):\n",
    "    ctx.database = setup_database()\n",
    "\n",
    "def before_feature(ctx, feature):\n",
    "    ctx.database.empty_tables()\n",
    "\n",
    "def after_all(ctx):\n",
    "    ctx.database.cleanup()\n"
   ]
  }
 ],
 "metadata": {
  "interpreter": {
   "hash": "3fd673f0bd4e75da526fdef7ec84a70817605d24d0b9cc1488403ba9d379e57b"
  },
  "kernelspec": {
   "display_name": "Python 3.9.5 ('env': venv)",
   "language": "python",
   "name": "python3"
  },
  "language_info": {
   "codemirror_mode": {
    "name": "ipython",
    "version": 3
   },
   "file_extension": ".py",
   "mimetype": "text/x-python",
   "name": "python",
   "nbconvert_exporter": "python",
   "pygments_lexer": "ipython3",
   "version": "3.9.5"
  },
  "orig_nbformat": 4
 },
 "nbformat": 4,
 "nbformat_minor": 2
}

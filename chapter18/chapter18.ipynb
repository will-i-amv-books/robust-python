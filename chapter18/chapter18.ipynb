{
 "cells": [
  {
   "cell_type": "markdown",
   "metadata": {},
   "source": [
    "# Event-Driven Architecture"
   ]
  },
  {
   "cell_type": "code",
   "execution_count": 1,
   "metadata": {},
   "outputs": [],
   "source": [
    "from typing import Callable"
   ]
  },
  {
   "cell_type": "markdown",
   "metadata": {},
   "source": [
    "## Simple Events\n"
   ]
  },
  {
   "cell_type": "markdown",
   "metadata": {},
   "source": [
    "### Using a message broker"
   ]
  },
  {
   "cell_type": "code",
   "execution_count": 2,
   "metadata": {},
   "outputs": [],
   "source": [
    "# Before continuing, install and import the 'pypubsub' library,\n",
    "# which implements a pub/sub architecture, as follows\n",
    "\n",
    "\"\"\"\n",
    "!pip install pypubsub\n",
    "\"\"\"\n",
    "from pubsub import pub\n"
   ]
  },
  {
   "cell_type": "code",
   "execution_count": 3,
   "metadata": {},
   "outputs": [
    {
     "data": {
      "text/plain": [
       "(<pubsub.core.listener.Listener at 0x7f56713629a0>, True)"
      ]
     },
     "execution_count": 3,
     "metadata": {},
     "output_type": "execute_result"
    }
   ],
   "source": [
    "# To subscribe to a topic, we specify the topic \n",
    "# and the function to be called, as follows:\n",
    "\n",
    "class Order:\n",
    "    pass\n",
    "\n",
    "def notify_customer_that_meal_is_done(order: Order):\n",
    "    # ... snip ...\n",
    "    return\n",
    "\n",
    "pub.subscribe(notify_customer_that_meal_is_done, \"meal-done\")\n"
   ]
  },
  {
   "cell_type": "code",
   "execution_count": 4,
   "metadata": {},
   "outputs": [],
   "source": [
    "# To publish to a topic, we do the following:\n",
    "\n",
    "def complete_order(order: Order):\n",
    "    packge_order(order)\n",
    "    pub.publish(\"meal-done\", order)\n"
   ]
  },
  {
   "cell_type": "code",
   "execution_count": 5,
   "metadata": {},
   "outputs": [
    {
     "data": {
      "text/plain": [
       "(<pubsub.core.listener.Listener at 0x7f5671362e50>, True)"
      ]
     },
     "execution_count": 5,
     "metadata": {},
     "output_type": "execute_result"
    }
   ],
   "source": [
    "# We can add additional subscribers to a topic is easy, \n",
    "# just by adding new functions to the topic, as follows:\n",
    "\n",
    "def schedule_pick_up_for_meal(order: Order):\n",
    "    '''Schedule a drone pick-up'''\n",
    "    # ... snip ...\n",
    "    return\n",
    "    \n",
    "pub.subscribe(schedule_pick_up_for_meal, \"meal-done\")"
   ]
  },
  {
   "cell_type": "markdown",
   "metadata": {},
   "source": [
    "### The Observer Pattern\n"
   ]
  },
  {
   "cell_type": "code",
   "execution_count": 6,
   "metadata": {},
   "outputs": [],
   "source": [
    "# We can rewrite the previous publisher function example\n",
    "# to use the Observer Pattern, as follows:\n",
    "\n",
    "def complete_order(order: Order, observers: list[Callable]):\n",
    "    package_order(order)\n",
    "    for observer_func in observers:\n",
    "        observer_func(order)\n"
   ]
  },
  {
   "cell_type": "markdown",
   "metadata": {},
   "source": [
    "## Streaming events"
   ]
  },
  {
   "cell_type": "code",
   "execution_count": 7,
   "metadata": {},
   "outputs": [],
   "source": [
    "# Before continuing, install and import the 'rx' library,\n",
    "# which suports reactive programming, as follows\n",
    "\n",
    "\"\"\"\n",
    "!pip install rx\n",
    "\"\"\"\n",
    "import rx\n"
   ]
  },
  {
   "cell_type": "code",
   "execution_count": 11,
   "metadata": {},
   "outputs": [
    {
     "data": {
      "text/plain": [
       "<rx.core.observable.observable.Observable at 0x7f56712fd220>"
      ]
     },
     "execution_count": 11,
     "metadata": {},
     "output_type": "execute_result"
    }
   ],
   "source": [
    "# With the RxPy library, we  define a stream of data \n",
    "# (an observable, in RxPY parlance) as follows: \n",
    "\n",
    "class LocationData:\n",
    "    def __init__(self, x, y, z) -> None:\n",
    "        pass\n",
    "\n",
    "class BatteryLevel:\n",
    "    def __init__(self, percent) -> None:\n",
    "        pass\n",
    "\n",
    "observable = rx.of(\n",
    "    LocationData(x=3, y=12, z=40),\n",
    "    BatteryLevel(percent=95),\n",
    ")\n",
    "observable"
   ]
  },
  {
   "cell_type": "code",
   "execution_count": 9,
   "metadata": {},
   "outputs": [
    {
     "data": {
      "text/plain": [
       "<rx.disposable.disposable.Disposable at 0x7f56715466d0>"
      ]
     },
     "execution_count": 9,
     "metadata": {},
     "output_type": "execute_result"
    }
   ],
   "source": [
    "# Once we have an observable, observers can subscribe to it, \n",
    "# similar to the pub/sub mechanism:\n",
    "\n",
    "def handle_drone_data(value):\n",
    "    # ... snip handle drone data ...\n",
    "    return\n",
    "\n",
    "observable.subscribe(handle_drone_data)"
   ]
  },
  {
   "cell_type": "code",
   "execution_count": 15,
   "metadata": {},
   "outputs": [],
   "source": [
    "# But unlike pub/sub patterns, RxPY allows us to pipe operations together, as follows:\n",
    "\n",
    "class CurrentWeight:\n",
    "    pass \n",
    "\n",
    "get_average_weight = observable.pipe(\n",
    "    rx.operators.filter(lambda data: isinstance(data, CurrentWeight)),\n",
    "    rx.operators.map(lambda cw: cw.grams),\n",
    "    rx.operators.average()\n",
    ")\n",
    "\n",
    "def save_average_weight():\n",
    "    \"\"\"\n",
    "    Does something with the final data \n",
    "    (e.g. save to database, print to screen, etc.)\n",
    "    \"\"\"\n",
    "    return\n",
    "\n",
    "# get_average_weight.subscribe(save_average_weight)\n"
   ]
  }
 ],
 "metadata": {
  "interpreter": {
   "hash": "3fd673f0bd4e75da526fdef7ec84a70817605d24d0b9cc1488403ba9d379e57b"
  },
  "kernelspec": {
   "display_name": "Python 3.9.5 ('env': venv)",
   "language": "python",
   "name": "python3"
  },
  "language_info": {
   "codemirror_mode": {
    "name": "ipython",
    "version": 3
   },
   "file_extension": ".py",
   "mimetype": "text/x-python",
   "name": "python",
   "nbconvert_exporter": "python",
   "pygments_lexer": "ipython3",
   "version": "3.9.5"
  },
  "orig_nbformat": 4
 },
 "nbformat": 4,
 "nbformat_minor": 2
}

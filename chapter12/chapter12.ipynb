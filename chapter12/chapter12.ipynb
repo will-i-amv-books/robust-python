{
 "cells": [
  {
   "cell_type": "markdown",
   "metadata": {},
   "source": [
    "# Subtyping"
   ]
  },
  {
   "cell_type": "code",
   "execution_count": 1,
   "metadata": {},
   "outputs": [],
   "source": [
    "from dataclasses import dataclass\n",
    "from enum import auto, Enum\n"
   ]
  },
  {
   "cell_type": "markdown",
   "metadata": {},
   "source": [
    "## Inheritance"
   ]
  },
  {
   "cell_type": "markdown",
   "metadata": {},
   "source": [
    "```\n",
    "Let's suppose we have an app that helps owners of restaurants organize operations, with the following behaviors:\n",
    "\n",
    "• Its attributes are: name, location, list of employees and their schedules, inventory, menu, and current finances. All of these attributes are mutable.\n",
    "• An owner can own multiple restaurants.\n",
    "• Employees can be moved from one restaurant to another, but they cannot work at two restaurants at the same time.\n",
    "• When a dish is ordered, the ingredients used are removed from the inventory.\n",
    "• When a specific item is depleted in the inventory, any dish requiring the ingredient is no longer available through the menu.\n",
    "• Whenever a menu item is sold, the restaurant’s funds increase. \n",
    "• Whenever new inventory is purchased, the restaurant’s funds decrease. \n",
    "• For every hour that an employee works at that restaurant, the restaurant’s funds decrease according to the employee’s salary\n",
    "```"
   ]
  },
  {
   "cell_type": "code",
   "execution_count": 2,
   "metadata": {},
   "outputs": [],
   "source": [
    "# The first version of the class, to represent the restaurant's behavior described in the last paragraph\n",
    "\n",
    "class ops(Enum):\n",
    "    Employee = auto()\n",
    "    Ingredient = auto()\n",
    "    Menu = auto()\n",
    "    Finances = auto()\n",
    "    Dish = auto()\n",
    "    RestaurantData = auto()\n",
    "\n",
    "class geo(Enum):\n",
    "    Coordinates = auto()\n",
    "\n",
    "class Restaurant:\n",
    "    def __init__(\n",
    "        self,\n",
    "        name: str,\n",
    "        location: geo.Coordinates,\n",
    "        employees: list[ops.Employee],\n",
    "        inventory: list[ops.Ingredient],\n",
    "        menu: ops.Menu,\n",
    "        finances: ops.Finances\n",
    "    ) -> None:\n",
    "        # ... snip ...\n",
    "        # note that location refers to where the restaurant is located when\n",
    "        # serving food\n",
    "        pass\n",
    "\n",
    "    def transfer_employees(\n",
    "        self,\n",
    "        employees: list[ops.Employee],\n",
    "        restaurant: 'Restaurant'\n",
    "    ):\n",
    "        # ... snip ...\n",
    "        return \n",
    "\n",
    "    def order_dish(self, dish: ops.Dish):\n",
    "        # ... snip ..\n",
    "        return \n",
    "\n",
    "    def add_inventory(\n",
    "        self, \n",
    "        ingredients: list[ops.Ingredient],\n",
    "        cost_in_cents: int\n",
    "    ):\n",
    "        # ... snip ...\n",
    "        return \n",
    "\n",
    "    def register_hours_employee_worked(\n",
    "        self,\n",
    "        employee: ops.Employee,\n",
    "        minutes_worked: int\n",
    "    ):\n",
    "        # ... snip ...\n",
    "        return \n",
    "\n",
    "    def get_restaurant_data(self) -> ops.RestaurantData:\n",
    "        # ... snip ...\n",
    "        return \n",
    "\n",
    "    def change_menu(self, menu: ops.Menu):\n",
    "        self.__menu = menu\n",
    "\n",
    "    def move_location(self, new_location: geo.Coordinates):\n",
    "        # ... snip ...\n",
    "        return \n"
   ]
  },
  {
   "cell_type": "markdown",
   "metadata": {},
   "source": [
    "In addition to a \"standard\" restaurant, there are \"specialized\" restaurants: a food truck and a pop-up stall."
   ]
  },
  {
   "cell_type": "code",
   "execution_count": 3,
   "metadata": {},
   "outputs": [],
   "source": [
    "# We can use inheritance to represent the 2 specialized restaurants, as follows\n",
    "\n",
    "class FoodTruck(Restaurant):\n",
    "    #... snip ...\n",
    "    pass\n",
    "\n",
    "class PopUpStall(Restaurant):\n",
    "    # ... snip ..\n",
    "    pass"
   ]
  },
  {
   "cell_type": "code",
   "execution_count": 4,
   "metadata": {},
   "outputs": [
    {
     "data": {
      "text/plain": [
       "'\\nfood_truck = FoodTruck(\"Pat\\'s Food Truck\", location, employees, inventory, menu, finances)\\nfood_truck.order_dish(Dish(\\'Pasta with Sausage\\'))\\nfood_truck.move_location(geo.find_coordinates(\\'Huntsville, Alabama\\'))\\n'"
      ]
     },
     "execution_count": 4,
     "metadata": {},
     "output_type": "execute_result"
    }
   ],
   "source": [
    "# This means that if you were to instantiate a 'FoodTruck' class, you can use all the methods of 'Restaurant'.\n",
    "\n",
    "\"\"\"\n",
    "food_truck = FoodTruck(\"Pat's Food Truck\", location, employees, inventory, menu, finances)\n",
    "food_truck.order_dish(Dish('Pasta with Sausage'))\n",
    "food_truck.move_location(geo.find_coordinates('Huntsville, Alabama'))\n",
    "\"\"\"\n"
   ]
  },
  {
   "cell_type": "code",
   "execution_count": 5,
   "metadata": {},
   "outputs": [
    {
     "data": {
      "text/plain": [
       "'\\nrestaurants: list[Restaurant] = [food_truck]\\nfor restaurant in restaurants:\\n    display_restaurant_data(restaurant)\\n'"
      ]
     },
     "execution_count": 5,
     "metadata": {},
     "output_type": "execute_result"
    }
   ],
   "source": [
    "# Also, an instance of 'FoodTruck'can be passed to a function expecting a 'Restaurant' class \n",
    "\n",
    "def display_restaurant_data(restaurant: Restaurant):\n",
    "    data = restaurant.get_restaurant_data()\n",
    "    # ... snip drawing code here ...\n",
    "\n",
    "\"\"\"\n",
    "restaurants: list[Restaurant] = [food_truck]\n",
    "for restaurant in restaurants:\n",
    "    display_restaurant_data(restaurant)\n",
    "\"\"\""
   ]
  },
  {
   "cell_type": "code",
   "execution_count": 6,
   "metadata": {},
   "outputs": [],
   "source": [
    "# With inheritance, we can override attributes and methods as follows\n",
    "\n",
    "def initialize_gps():\n",
    "    return \n",
    "\n",
    "def schedule_auto_driving_task(location):\n",
    "    return \n",
    "\n",
    "class FoodTruck(Restaurant):\n",
    "    def __init__(\n",
    "        self,\n",
    "        name: str,\n",
    "        location: geo.Coordinates,\n",
    "        employees: list[ops.Employee],\n",
    "        inventory: list[ops.Ingredient],\n",
    "        menu: ops.Menu,\n",
    "        finances: ops.Finances,\n",
    "    ):\n",
    "        super().__init__(name, location, employees,inventory, menu, finances) # Initializing the base class\n",
    "        self.__gps = initialize_gps()\n",
    "\n",
    "    def move_location(self, new_location: geo.Coordinates):\n",
    "        # schedule a task to drive us to our new location\n",
    "        schedule_auto_driving_task(new_location)\n",
    "        super().move_location(new_location)\n",
    "\n",
    "    def get_current_location(self) -> geo.Coordinates:\n",
    "        return self.__gps.get_coordinates()\n"
   ]
  },
  {
   "cell_type": "markdown",
   "metadata": {},
   "source": [
    "### Multiple inheritance"
   ]
  },
  {
   "cell_type": "code",
   "execution_count": 7,
   "metadata": {},
   "outputs": [],
   "source": [
    "from socketserver import TCPServer, ThreadingMixIn\n"
   ]
  },
  {
   "cell_type": "markdown",
   "metadata": {},
   "source": [
    "In general, avoid multiple inheritance, except in one case: mixins"
   ]
  },
  {
   "cell_type": "code",
   "execution_count": 8,
   "metadata": {},
   "outputs": [],
   "source": [
    "# A standard single inheritance\n",
    "\n",
    "class Server(TCPServer):\n",
    "    # ... snip ...\n",
    "    pass\n"
   ]
  },
  {
   "cell_type": "code",
   "execution_count": 9,
   "metadata": {},
   "outputs": [],
   "source": [
    "# If wou want to inherit behavior from 2 or more classes, use mixins as follows\n",
    "\n",
    "class Server(TCPServer, ThreadingMixIn):\n",
    "    # ... snip ...\n",
    "    pass"
   ]
  },
  {
   "cell_type": "markdown",
   "metadata": {},
   "source": [
    "### Substitutability"
   ]
  },
  {
   "cell_type": "code",
   "execution_count": 10,
   "metadata": {},
   "outputs": [],
   "source": [
    "# If we were to create a function that could display relevant restaurant data:\n",
    "\n",
    "def display_restaurant(restaurant: Restaurant):\n",
    "    # ... snip ...\n",
    "    return\n",
    "\n",
    "# We should be able to pass a Restaurant, a FoodTruck, or a PopUpStall, \n",
    "# and the function should work just fine.\n"
   ]
  },
  {
   "cell_type": "code",
   "execution_count": 12,
   "metadata": {},
   "outputs": [],
   "source": [
    "# Consider a Rectangle class\n",
    "\n",
    "class Rectangle:\n",
    "    def __init__(self, height: int, width: int):\n",
    "        self._height = height\n",
    "        self._width = width\n",
    "\n",
    "    def get_width(self) -> int:\n",
    "        return self._width\n",
    "\n",
    "    def get_height(self) -> int:\n",
    "        return self._height\n",
    "\n",
    "    def set_width(self, new_width):\n",
    "        self._width = new_width\n",
    "\n",
    "    def set_height(self, new_height):\n",
    "        self._height = new_height\n",
    "\n",
    "# From elemental geometry, we know that a square IS A rectangle, \n",
    "# so we can create a new class Square that inherits from Rectangle\n",
    "\n",
    "class Square(Rectangle):\n",
    "    def __init__(self, length: int):\n",
    "        super().__init__(length, length)\n",
    "    \n",
    "    def set_side_length(self, new_length):\n",
    "        super().set_width(new_length)\n",
    "        super().set_height(new_length)\n",
    "    \n",
    "    def set_width(self, new_width):\n",
    "        self.set_side_length(new_width)\n",
    "    \n",
    "    def set_height(self, new_height):\n",
    "        self.set_side_length(new_height)\n"
   ]
  },
  {
   "cell_type": "code",
   "execution_count": 26,
   "metadata": {},
   "outputs": [],
   "source": [
    "# But suppose we have a function that doubles the width of the rectangle, as follows\n",
    "\n",
    "def double_width(rectangle: Rectangle):\n",
    "    old_height = rectangle.get_height()\n",
    "    rectangle.set_width(rectangle.get_width() * 2)\n",
    "\n",
    "    # Check that the height is unchanged\n",
    "    assert rectangle.get_height() == old_height, \"Heigth was modified!!\""
   ]
  },
  {
   "cell_type": "code",
   "execution_count": 27,
   "metadata": {},
   "outputs": [
    {
     "data": {
      "text/plain": [
       "8"
      ]
     },
     "execution_count": 27,
     "metadata": {},
     "output_type": "execute_result"
    }
   ],
   "source": [
    "# The last function will work wirh rectangles\n",
    "\n",
    "rect = Rectangle(3, 4)\n",
    "\n",
    "double_width(rect)\n",
    "rect.get_width()"
   ]
  },
  {
   "cell_type": "code",
   "execution_count": 28,
   "metadata": {},
   "outputs": [
    {
     "ename": "AssertionError",
     "evalue": "Heigth was modified!!",
     "output_type": "error",
     "traceback": [
      "\u001b[0;31m---------------------------------------------------------------------------\u001b[0m",
      "\u001b[0;31mAssertionError\u001b[0m                            Traceback (most recent call last)",
      "\u001b[1;32m/home/william/github/will-i-amv-books/robust-python/chapter12/chapter12.ipynb Cell 21'\u001b[0m in \u001b[0;36m<cell line: 5>\u001b[0;34m()\u001b[0m\n\u001b[1;32m      <a href='vscode-notebook-cell://wsl%2Bubuntu/home/william/github/will-i-amv-books/robust-python/chapter12/chapter12.ipynb#ch0000020vscode-remote?line=0'>1</a>\u001b[0m \u001b[39m# But with a square, the assertion in 'double_width()' will fail!!\u001b[39;00m\n\u001b[1;32m      <a href='vscode-notebook-cell://wsl%2Bubuntu/home/william/github/will-i-amv-books/robust-python/chapter12/chapter12.ipynb#ch0000020vscode-remote?line=2'>3</a>\u001b[0m sq \u001b[39m=\u001b[39m Square(\u001b[39m2\u001b[39m)\n\u001b[0;32m----> <a href='vscode-notebook-cell://wsl%2Bubuntu/home/william/github/will-i-amv-books/robust-python/chapter12/chapter12.ipynb#ch0000020vscode-remote?line=4'>5</a>\u001b[0m double_width(sq)\n\u001b[1;32m      <a href='vscode-notebook-cell://wsl%2Bubuntu/home/william/github/will-i-amv-books/robust-python/chapter12/chapter12.ipynb#ch0000020vscode-remote?line=5'>6</a>\u001b[0m sq\u001b[39m.\u001b[39mget_width()\n",
      "\u001b[1;32m/home/william/github/will-i-amv-books/robust-python/chapter12/chapter12.ipynb Cell 19'\u001b[0m in \u001b[0;36mdouble_width\u001b[0;34m(rectangle)\u001b[0m\n\u001b[1;32m      <a href='vscode-notebook-cell://wsl%2Bubuntu/home/william/github/will-i-amv-books/robust-python/chapter12/chapter12.ipynb#ch0000018vscode-remote?line=4'>5</a>\u001b[0m rectangle\u001b[39m.\u001b[39mset_width(rectangle\u001b[39m.\u001b[39mget_width() \u001b[39m*\u001b[39m \u001b[39m2\u001b[39m)\n\u001b[1;32m      <a href='vscode-notebook-cell://wsl%2Bubuntu/home/william/github/will-i-amv-books/robust-python/chapter12/chapter12.ipynb#ch0000018vscode-remote?line=6'>7</a>\u001b[0m \u001b[39m# Check that the height is unchanged\u001b[39;00m\n\u001b[0;32m----> <a href='vscode-notebook-cell://wsl%2Bubuntu/home/william/github/will-i-amv-books/robust-python/chapter12/chapter12.ipynb#ch0000018vscode-remote?line=7'>8</a>\u001b[0m \u001b[39massert\u001b[39;00m rectangle\u001b[39m.\u001b[39mget_height() \u001b[39m==\u001b[39m old_height, \u001b[39m\"\u001b[39m\u001b[39mHeigth was modified!!\u001b[39m\u001b[39m\"\u001b[39m\n",
      "\u001b[0;31mAssertionError\u001b[0m: Heigth was modified!!"
     ]
    }
   ],
   "source": [
    "# But with a square, the assertion in 'double_width()' will fail!!\n",
    "\n",
    "sq = Square(2)\n",
    "\n",
    "double_width(sq)\n",
    "sq.get_width()\n"
   ]
  },
  {
   "cell_type": "markdown",
   "metadata": {},
   "source": [
    "```\n",
    "Invariants\n",
    "* When subtyping from other types, the subtypes must preserve all invariants. \n",
    "* When we subtyped Square from Rectangle, we violated the invariant that heights and widths can be set independent of one another.\n",
    "```\n"
   ]
  },
  {
   "cell_type": "code",
   "execution_count": 29,
   "metadata": {},
   "outputs": [],
   "source": [
    "# Consider a franchise of restaurants, where franchisees are allowed to create \n",
    "# their own menu, but must always have a common set of dishes.\n",
    "# A first implementation looks as follows\n",
    "\n",
    "class RestrictedMenuRestaurant(Restaurant):\n",
    "    def __init__(\n",
    "        self,\n",
    "        name: str,\n",
    "        location: geo.Coordinates,\n",
    "        employees: list[ops.Employee],\n",
    "        inventory: list[ops.Ingredient],\n",
    "        menu: ops.Menu,\n",
    "        finances: ops.Finances,\n",
    "        restricted_items: list[ops.Ingredient]\n",
    "    ):\n",
    "        super().__init__(name, location, employees, inventory, menu, finances)\n",
    "        self.__restricted_items = restricted_items\n",
    "    \n",
    "    def change_menu(self, menu: ops.Menu):\n",
    "        if any(\n",
    "            not menu.contains(ingredient)\n",
    "            for ingredient in self.__restricted_items\n",
    "        ):\n",
    "            # new menus MUST contain restricted ingredients\n",
    "            return super().change_menu(menu)\n"
   ]
  },
  {
   "cell_type": "markdown",
   "metadata": {},
   "source": [
    "```\n",
    "The last class RestrictedMenuRestaurant violated the pre and post conditions of Restaurant:\n",
    "\n",
    "Preconditions\n",
    "* A precondition is anything that must be true before interacting with a type's property. \n",
    "* If the supertype defines preconditions that happen, the subtype must not be more restrictive.\n",
    "* When we subtyped RestrictedMenuRestaurant from Restaurant, we added an extra precondition \n",
    "  that certain ingredients were mandatory when changing the menu. \n",
    "\n",
    "Postcondition\n",
    "* A postcondition is anything that must be true after interacting with a type's property. \n",
    "* If a supertype defines postconditions, the subtype must not weaken those postconditions. \n",
    "* When we subtyped RestrictedMenuRestaurant from Restaurant and returned early \n",
    "  instead of changing the menu, we violated a postcondition. \n",
    "```"
   ]
  },
  {
   "cell_type": "markdown",
   "metadata": {},
   "source": [
    "### Subtyping Outside Inheritance\n"
   ]
  },
  {
   "cell_type": "code",
   "execution_count": 30,
   "metadata": {},
   "outputs": [],
   "source": [
    "# Duck typing is an example of a subtype/supertype relationship without involving inheritance\n",
    "\n",
    "def double_value(x):\n",
    "    return x + x\n"
   ]
  },
  {
   "cell_type": "code",
   "execution_count": 31,
   "metadata": {},
   "outputs": [
    {
     "data": {
      "text/plain": [
       "6"
      ]
     },
     "execution_count": 31,
     "metadata": {},
     "output_type": "execute_result"
    }
   ],
   "source": [
    "double_value(3)\n"
   ]
  },
  {
   "cell_type": "code",
   "execution_count": 32,
   "metadata": {},
   "outputs": [
    {
     "data": {
      "text/plain": [
       "'abcabc'"
      ]
     },
     "execution_count": 32,
     "metadata": {},
     "output_type": "execute_result"
    }
   ],
   "source": [
    "double_value(\"abc\")\n"
   ]
  },
  {
   "cell_type": "markdown",
   "metadata": {},
   "source": [
    "Duck typing is a form of subtyping; all the last guidelines about invariants, preconditions and postconditions apply."
   ]
  }
 ],
 "metadata": {
  "interpreter": {
   "hash": "3fd673f0bd4e75da526fdef7ec84a70817605d24d0b9cc1488403ba9d379e57b"
  },
  "kernelspec": {
   "display_name": "Python 3.9.5 ('env': venv)",
   "language": "python",
   "name": "python3"
  },
  "language_info": {
   "codemirror_mode": {
    "name": "ipython",
    "version": 3
   },
   "file_extension": ".py",
   "mimetype": "text/x-python",
   "name": "python",
   "nbconvert_exporter": "python",
   "pygments_lexer": "ipython3",
   "version": "3.9.5"
  },
  "orig_nbformat": 4
 },
 "nbformat": 4,
 "nbformat_minor": 2
}

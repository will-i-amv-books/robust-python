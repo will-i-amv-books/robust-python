{
 "cells": [
  {
   "cell_type": "markdown",
   "metadata": {},
   "source": [
    "# Property-based testing"
   ]
  },
  {
   "cell_type": "code",
   "execution_count": 32,
   "metadata": {},
   "outputs": [],
   "source": [
    "from functools import reduce\n",
    "from typing import Tuple, Dict"
   ]
  },
  {
   "cell_type": "markdown",
   "metadata": {},
   "source": [
    "### Property-Based Testing with Hypothesis\n"
   ]
  },
  {
   "cell_type": "code",
   "execution_count": 33,
   "metadata": {},
   "outputs": [],
   "source": [
    "# Before continuing, install and import the 'hypothesis' library\n",
    "\n",
    "\"\"\"\n",
    "!pip install hypothesis\n",
    "\"\"\"\n",
    "from hypothesis import given, example\n",
    "from hypothesis.strategies import integers, text, dictionaries, composite\n",
    "from hypothesis.stateful import Bundle, RuleBasedStateMachine, invariant, rule\n"
   ]
  },
  {
   "cell_type": "code",
   "execution_count": 34,
   "metadata": {},
   "outputs": [],
   "source": [
    "# Consider the following example-based unit test\n",
    "\n",
    "def test_meal_recommendation_under_specific_calories():\n",
    "    calories = 900\n",
    "    meals = get_recommended_meal(Recommendation.BY_CALORIES, calories)\n",
    "    assert meals == [\n",
    "        Meal(\"Spring Roll\", 120),\n",
    "        Meal(\"Green Papaya Salad\", 230),\n",
    "        Meal(\"Larb Chicken\", 500)\n",
    "    ]\n"
   ]
  },
  {
   "cell_type": "code",
   "execution_count": 35,
   "metadata": {},
   "outputs": [],
   "source": [
    "# Instead of testing specific examples, we can test properties \n",
    "# about our system, as follows:\n",
    "\n",
    "def test_meal_recommendation_under_specific_calories():\n",
    "    calories = 900\n",
    "    meals = get_recommended_meal(Recommendation.BY_CALORIES, calories)\n",
    "    assert len(meals) == 3\n",
    "    assert is_appetizer(meals[0])\n",
    "    assert is_salad(meals[1])\n",
    "    assert is_main_dish(meals[2])\n",
    "    assert sum(meal.calories for meal in meals) < calories\n"
   ]
  },
  {
   "cell_type": "code",
   "execution_count": 36,
   "metadata": {},
   "outputs": [],
   "source": [
    "# In the last test, we can use the 'given' decorator from hypothesis \n",
    "# to generate input data as integers, as follows:\n",
    "\n",
    "@given(integers())\n",
    "def test_meal_recommendation_under_specific_calories(calories):\n",
    "    meals = get_recommended_meal(Recommendation.BY_CALORIES, calories)\n",
    "    assert len(meals) == 3\n",
    "    assert is_appetizer(meals[0])\n",
    "    assert is_salad(meals[1])\n",
    "    assert is_main_dish(meals[2])\n",
    "    assert sum(meal.calories for meal in meals) < calories\n"
   ]
  },
  {
   "cell_type": "code",
   "execution_count": 37,
   "metadata": {},
   "outputs": [],
   "source": [
    "# We can also specify the minimum value of integers, as follows:\n",
    "\n",
    "@given(integers(min_value=900))\n",
    "def test_meal_recommendation_under_specific_calories(calories):\n",
    "    meals = get_recommended_meal(Recommendation.BY_CALORIES, calories)\n",
    "    assert len(meals) == 3\n",
    "    assert is_appetizer(meals[0])\n",
    "    assert is_salad(meals[1])\n",
    "    assert is_main_dish(meals[2])\n",
    "    assert sum(meal.calories for meal in meals) < calories\n"
   ]
  },
  {
   "cell_type": "code",
   "execution_count": 38,
   "metadata": {},
   "outputs": [],
   "source": [
    "# We can test specific cases with the 'example' decorator, as follows:\n",
    "\n",
    "@example(5001)\n",
    "@given(integers(min_value=900))\n",
    "def test_meal_recommendation_under_specific_calories(calories):\n",
    "    meals = get_recommended_meal(Recommendation.BY_CALORIES, calories)\n",
    "    assert len(meals) == 3\n",
    "    assert is_appetizer(meals[0])\n",
    "    assert is_salad(meals[1])\n",
    "    assert is_main_dish(meals[2])\n",
    "    assert sum(meal.calories for meal in meals) < calories\n",
    "\n"
   ]
  },
  {
   "cell_type": "markdown",
   "metadata": {},
   "source": [
    "### Getting the Most Out of Hypothesis"
   ]
  },
  {
   "cell_type": "markdown",
   "metadata": {},
   "source": [
    "Hypothesis Strategies\n"
   ]
  },
  {
   "cell_type": "code",
   "execution_count": 39,
   "metadata": {},
   "outputs": [],
   "source": [
    "# We can create strategies that compose other strategies together, \n",
    "# such as building dictionaries of strategies:\n",
    "\n",
    "@given(dictionaries(text(), integers(min_value=100, max_value=2000)))\n",
    "def test_calorie_count(ingredient_to_calorie_mapping : Dict[str, int]):\n",
    "    # ... snip ...\n",
    "    return\n"
   ]
  },
  {
   "cell_type": "code",
   "execution_count": 40,
   "metadata": {},
   "outputs": [],
   "source": [
    "# For example, to create a strategy that creates three-course meals,\n",
    "# we can use the 'composite' decorator to define a custom strategy, as follows:\n",
    "\n",
    "class Dish:\n",
    "    pass\n",
    "\n",
    "ThreeCourseMeal = Tuple[Dish, Dish, Dish]\n",
    "\n",
    "@composite\n",
    "def three_course_meals(draw) -> ThreeCourseMeal:\n",
    "    appetizer_calories = integers(min_value=100, max_value=900)\n",
    "    main_dish_calories = integers(min_value=550, max_value=1800)\n",
    "    dessert_calories = integers(min_value=500, max_value=1000)\n",
    "    return (\n",
    "        Dish(\"Appetizer\", draw(appetizer_calories)),\n",
    "        Dish(\"Main Dish\", draw(main_dish_calories)),\n",
    "        Dish(\"Dessert\", draw(dessert_calories))\n",
    "    )\n",
    "\n",
    "@given(three_course_meals)\n",
    "def test_three_course_meal_substitutions(three_course_meal: ThreeCourseMeal):\n",
    "    # ... do something with three_course_meal\n",
    "    return\n"
   ]
  },
  {
   "cell_type": "markdown",
   "metadata": {},
   "source": [
    "Generating Algorithms"
   ]
  },
  {
   "cell_type": "markdown",
   "metadata": {},
   "source": [
    "Consider the following properties to assert about the system in a meal recommendation system:\n",
    "```\n",
    "• The meal recommendation system always returns 3 meal options.\n",
    "• All 3 meal options are unique.\n",
    "• The meal options are ordered based on the most recent filter applied. In the case of ties, the next most recent filter is used.\n",
    "• New filters replace old filters of the same type. \n",
    "```"
   ]
  },
  {
   "cell_type": "code",
   "execution_count": 41,
   "metadata": {},
   "outputs": [],
   "source": [
    "# Instead of writing lots of test cases, we can represent the last properties \n",
    "# with a class derived from 'RuleBasedStateMachine', as follows: \n",
    "\n",
    "class MealRecommendationEngine():\n",
    "    pass\n",
    "\n",
    "class RecommendationChecker(RuleBasedStateMachine):\n",
    "    def __init__(self):\n",
    "        super().__init__()\n",
    "        self.recommender = MealRecommendationEngine()\n",
    "        self.filters = []\n",
    "\n",
    "    @rule(price_limit=integers(min_value=6, max_value=200))\n",
    "    def filter_by_price(self, price_limit):\n",
    "        self.recommender.apply_price_filter(price_limit)\n",
    "        self.filters = [f for f in self.filters if f[0] != \"price\"]\n",
    "        self.filters.append((\"price\", lambda m: m.price))\n",
    "\n",
    "    @rule(calorie_limit=integers(min_value=500, max_value=2000))\n",
    "    def filter_by_calories(self, calorie_limit):\n",
    "        self.recommender.apply_calorie_filter(calorie_limit)\n",
    "        self.filters = [f for f in self.filters if f[0] != \"calorie\"]\n",
    "        self.filters.append((\"calorie\", lambda m: m.calories))\n",
    "\n",
    "    @rule(distance_limit=integers(max_value=100))\n",
    "    def filter_by_distance(self, distance_limit):\n",
    "        self.recommender.apply_distance_filter(distance_limit)\n",
    "        self.filters = [f for f in self.filters if f[0] != \"distance\"]\n",
    "        self.filters.append((\"distance\", lambda m: m.distance))\n",
    "\n",
    "    @invariant()\n",
    "    def recommender_provides_three_unique_meals(self):\n",
    "        assert len(self.recommender.get_meals()) == 3\n",
    "        assert len(set(self.recommender.get_meals())) == 3\n",
    "\n",
    "    @invariant()\n",
    "    def meals_are_appropriately_ordered(self):\n",
    "        meals = self.recommender.get_meals()\n",
    "        ordered_meals = reduce(\n",
    "            lambda meals, f: sorted(meals, key=f[1]),\n",
    "            self.filters,\n",
    "            meals\n",
    "        )\n",
    "        assert ordered_meals == meals\n"
   ]
  },
  {
   "cell_type": "code",
   "execution_count": 42,
   "metadata": {},
   "outputs": [],
   "source": [
    "# Then save the test class in a variable prefixed with 'Test',\n",
    "# so pytest can discover the stateful Hypothesis test:\n",
    "\n",
    "TestRecommender = RecommendationChecker.TestCase\n"
   ]
  }
 ],
 "metadata": {
  "interpreter": {
   "hash": "3fd673f0bd4e75da526fdef7ec84a70817605d24d0b9cc1488403ba9d379e57b"
  },
  "kernelspec": {
   "display_name": "Python 3.9.5 ('env': venv)",
   "language": "python",
   "name": "python3"
  },
  "language_info": {
   "codemirror_mode": {
    "name": "ipython",
    "version": 3
   },
   "file_extension": ".py",
   "mimetype": "text/x-python",
   "name": "python",
   "nbconvert_exporter": "python",
   "pygments_lexer": "ipython3",
   "version": "3.9.5"
  },
  "orig_nbformat": 4
 },
 "nbformat": 4,
 "nbformat_minor": 2
}

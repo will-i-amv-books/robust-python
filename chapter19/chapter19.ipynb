{
 "cells": [
  {
   "cell_type": "markdown",
   "metadata": {},
   "source": [
    "# Pluggable Python\n"
   ]
  },
  {
   "cell_type": "code",
   "execution_count": 47,
   "metadata": {},
   "outputs": [],
   "source": [
    "import itertools\n",
    "from dataclasses import dataclass\n",
    "from typing import runtime_checkable, Protocol, Callable\n",
    "from abc import abstractmethod\n",
    "from setuptools import setup\n",
    "\n"
   ]
  },
  {
   "cell_type": "markdown",
   "metadata": {},
   "source": [
    "## The Template Method Pattern\n"
   ]
  },
  {
   "cell_type": "code",
   "execution_count": 6,
   "metadata": {},
   "outputs": [],
   "source": [
    "# Consider the first implementation of a pizza maker function, as follows:\n",
    "\n",
    "@dataclass\n",
    "class PizzaCreationFunctions:\n",
    "    prepare_ingredients: Callable\n",
    "    add_pre_bake_toppings: Callable\n",
    "    add_post_bake_toppings: Callable\n",
    "\n",
    "def roll_out_pizza_base():\n",
    "    return\n",
    "\n",
    "def bake_pizza():\n",
    "    return\n",
    "\n",
    "def create_pizza(pizza_creation_functions: PizzaCreationFunctions):\n",
    "    pizza_creation_functions.prepare_ingredients()\n",
    "    roll_out_pizza_base()\n",
    "    pizza_creation_functions.add_pre_bake_toppings()\n",
    "    bake_pizza()\n",
    "    pizza_creation_functions.add_post_bake_toppings()\n"
   ]
  },
  {
   "cell_type": "code",
   "execution_count": 7,
   "metadata": {},
   "outputs": [],
   "source": [
    "# Now, to create a specific pizza type, we you just pass in the custom functions:\n",
    "\n",
    "def mix_zaatar(): \n",
    "    return\n",
    "\n",
    "def add_meat_and_halloumi(): \n",
    "    return\n",
    "\n",
    "def drizzle_olive_oil(): \n",
    "    return\n",
    "\n",
    "pizza_creation_functions = PizzaCreationFunctions(\n",
    "    prepare_ingredients=mix_zaatar,\n",
    "    add_pre_bake_toppings=add_meat_and_halloumi,\n",
    "    add_post_bake_toppings=drizzle_olive_oil\n",
    ")\n",
    "\n",
    "create_pizza(pizza_creation_functions)\n"
   ]
  },
  {
   "cell_type": "markdown",
   "metadata": {},
   "source": [
    "## The Strategy Pattern\n"
   ]
  },
  {
   "cell_type": "code",
   "execution_count": 18,
   "metadata": {},
   "outputs": [],
   "source": [
    "# Suppose the Ultimate Kitchen Assistant has numbered bins to put ingredients in. \n",
    "# For example, code specialized in 'Tex-Mex' cuisine will be similar to this:\n",
    "\n",
    "@dataclass\n",
    "class TexMexIngredients:\n",
    "    corn_tortilla_bin: int\n",
    "    flour_tortilla_bin: int\n",
    "    salsa_bin: int\n",
    "    ground_beef_bin: int\n",
    "    shredded_cheese_bin: int\n",
    "\n",
    "def get_available_ingredients(ingredient):\n",
    "    return\n",
    "    \n",
    "def prepare_tex_mex_dish(tex_mex_recipe_maker: Callable):\n",
    "    tex_mex_ingredients = get_available_ingredients(\"Tex-Mex\")\n",
    "    dish = tex_mex_recipe_maker(tex_mex_ingredients)\n",
    "    serve(dish)\n"
   ]
  },
  {
   "cell_type": "code",
   "execution_count": 29,
   "metadata": {},
   "outputs": [
    {
     "data": {
      "text/plain": [
       "'\\nprepare_tex_mex_dish(make_soft_taco)\\n'"
      ]
     },
     "execution_count": 29,
     "metadata": {},
     "output_type": "execute_result"
    }
   ],
   "source": [
    "# And a function that prepares a specific Tex-Mex based dish will be something like this:\n",
    "\n",
    "\"\"\"\n",
    "import tex_mex_module as tmm\n",
    "\"\"\"\n",
    "\n",
    "def make_soft_taco(ingredients: TexMexIngredients) -> tmm.Dish:\n",
    "    tortilla = tmm.get_ingredient_from_bin(ingredients.flour_tortilla_bin)\n",
    "    beef = tmm.get_ingredient_from_bin(ingredients.ground_beef_bin)\n",
    "    dish = tmm.get_plate()\n",
    "    dish.lay_on_dish(tortilla)\n",
    "    tmm.season(beef, tmm.CHILE_POWDER_BLEND)\n",
    "\n",
    "\"\"\"\n",
    "prepare_tex_mex_dish(make_soft_taco)\n",
    "\"\"\"\n"
   ]
  },
  {
   "cell_type": "code",
   "execution_count": 28,
   "metadata": {},
   "outputs": [],
   "source": [
    "# If we want to provide support for a different dish, we just write a new function:\n",
    "\n",
    "def make_chimichanga(ingredients: TexMexIngredients):\n",
    "    # ... snip\n",
    "    return"
   ]
  },
  {
   "cell_type": "markdown",
   "metadata": {},
   "source": [
    "## Plug-in Architectures\n"
   ]
  },
  {
   "cell_type": "code",
   "execution_count": 43,
   "metadata": {},
   "outputs": [],
   "source": [
    "# Before continuing, install and import the 'stevedore' library, as follows\n",
    "\n",
    "\"\"\"\n",
    "!pip install stevedore\n",
    "\"\"\"\n",
    "import stevedore\n"
   ]
  },
  {
   "cell_type": "code",
   "execution_count": 38,
   "metadata": {},
   "outputs": [],
   "source": [
    "# Consider the following Ultimate Kitchen Assistant abstract class:\n",
    "\n",
    "class Ingredient:\n",
    "    pass\n",
    "\n",
    "class Recipe:\n",
    "    pass\n",
    "\n",
    "class Amount:\n",
    "    pass\n",
    "\n",
    "class Dish:\n",
    "    pass\n",
    "\n",
    "\n",
    "@runtime_checkable\n",
    "class UltimateKitchenAssistantModule(Protocol):\n",
    "    ingredients: list[Ingredient]\n",
    "    \n",
    "    @abstractmethod\n",
    "    def get_recipes() -> list[Recipe]:\n",
    "        raise NotImplementedError\n",
    "    \n",
    "    @abstractmethod\n",
    "    def prepare_dish(\n",
    "        inventory: dict[Ingredient, Amount],\n",
    "        recipe: Recipe\n",
    "    ) -> Dish:\n",
    "        raise NotImplementedError\n"
   ]
  },
  {
   "cell_type": "code",
   "execution_count": 39,
   "metadata": {},
   "outputs": [],
   "source": [
    "# To create a new plug-in, we just create a class that inherits from the base class:\n",
    "\n",
    "class PastaModule(UltimateKitchenAssistantModule):\n",
    "    def __init__(self):\n",
    "        self.ingredients = [\"Linguine\", \"Spaghetti\" ]\n",
    "    \n",
    "    def get_recipes(self) -> list[Recipe]:\n",
    "        # ... snip returning all possible recipes ...\n",
    "        return \n",
    "\n",
    "    def prepare_dish(\n",
    "        self, \n",
    "        inventory: dict[Ingredient, Amount],\n",
    "        recipe: Recipe\n",
    "    ) -> Dish:\n",
    "        # interact with Ultimate Kitchen Assistant to make recipe\n",
    "        return \n"
   ]
  },
  {
   "cell_type": "code",
   "execution_count": 45,
   "metadata": {},
   "outputs": [
    {
     "data": {
      "text/plain": [
       "\"\\nsetup(\\n    name='ultimate_kitchen_assistant',\\n    version='1.0',\\n    #.... snip ....\\n    entry_points={\\n        'ultimate_kitchen_assistant.recipe_maker': [\\n            'pasta_maker = ultimate_kitchen_assistant.pasta_maker:PastaModule',\\n            'tex_mex = ultimate_kitchen_assistant.tex_mex:TexMexModule'\\n        ],\\n    },\\n)\\n\""
      ]
     },
     "execution_count": 45,
     "metadata": {},
     "output_type": "execute_result"
    }
   ],
   "source": [
    "# Once the plug-in ha been created,  we need to register plug-ins \n",
    "# with the help of setuptools and setup.py, as follows:\n",
    "\n",
    "\"\"\"\n",
    "setup(\n",
    "    name='ultimate_kitchen_assistant',\n",
    "    version='1.0',\n",
    "    #.... snip ....\n",
    "    entry_points={\n",
    "        'ultimate_kitchen_assistant.recipe_maker': [\n",
    "            'pasta_maker = ultimate_kitchen_assistant.pasta_maker:PastaModule',\n",
    "            'tex_mex = ultimate_kitchen_assistant.tex_mex:TexMexModule'\n",
    "        ],\n",
    "    },\n",
    ")\n",
    "\"\"\""
   ]
  },
  {
   "cell_type": "code",
   "execution_count": 48,
   "metadata": {},
   "outputs": [],
   "source": [
    "# Once the plug-ins are registered, we can use 'stevedore' to load them at runtime. \n",
    "# For example, we can collect all recipes from all plugins as follows:\n",
    "\n",
    "class Recipe:\n",
    "    pass\n",
    "\n",
    "\n",
    "def get_all_recipes() -> list[Recipe]:\n",
    "    mgr = stevedore.extension.ExtensionManager(\n",
    "        namespace='ultimate_kitchen_assistant.recipe_maker',\n",
    "        invoke_on_load=True,\n",
    "    )\n",
    "\n",
    "    return list(itertools.chain(\n",
    "        mgr.map(lambda extension: extension.obj.get_recipes())\n",
    "    ))\n"
   ]
  },
  {
   "cell_type": "code",
   "execution_count": 49,
   "metadata": {},
   "outputs": [],
   "source": [
    "# Suppose an user wants to make something from the pasta maker. \n",
    "# In that case, the calling code should ask for a plug-in named pasta_maker,\n",
    "# which can be done with stevedore.driver.DriverManager, as follows:\n",
    "\n",
    "def get_inventory():\n",
    "    return\n",
    "\n",
    "def make_dish(recipe: Recipe, module_name: str) -> Dish:\n",
    "    mgr = stevedore.driver.DriverManager(\n",
    "        namespace='ultimate_kitchen_assistant.recipe_maker',\n",
    "        name=module_name,\n",
    "        invoke_on_load=True,\n",
    "    )\n",
    "    \n",
    "    return mgr.driver.prepare_dish(get_inventory(), recipe)\n"
   ]
  }
 ],
 "metadata": {
  "interpreter": {
   "hash": "3fd673f0bd4e75da526fdef7ec84a70817605d24d0b9cc1488403ba9d379e57b"
  },
  "kernelspec": {
   "display_name": "Python 3.9.5 ('env': venv)",
   "language": "python",
   "name": "python3"
  },
  "language_info": {
   "codemirror_mode": {
    "name": "ipython",
    "version": 3
   },
   "file_extension": ".py",
   "mimetype": "text/x-python",
   "name": "python",
   "nbconvert_exporter": "python",
   "pygments_lexer": "ipython3",
   "version": "3.9.5"
  },
  "orig_nbformat": 4
 },
 "nbformat": 4,
 "nbformat_minor": 2
}

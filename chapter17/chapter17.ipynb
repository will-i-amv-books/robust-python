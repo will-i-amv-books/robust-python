{
 "cells": [
  {
   "cell_type": "markdown",
   "metadata": {},
   "source": [
    "# Composability\n"
   ]
  },
  {
   "cell_type": "code",
   "execution_count": 25,
   "metadata": {},
   "outputs": [],
   "source": [
    "import datetime\n",
    "import time\n",
    "import functools\n",
    "import itertools\n",
    "from dataclasses import dataclass\n",
    "from enum import Enum, auto\n",
    "from typing import Callable\n"
   ]
  },
  {
   "cell_type": "markdown",
   "metadata": {},
   "source": [
    "## What is composability"
   ]
  },
  {
   "cell_type": "code",
   "execution_count": 2,
   "metadata": {},
   "outputs": [],
   "source": [
    "# Consider the types used for the definition of a soup from Chapter 9.\n",
    "# This is an example of data type composition:\n",
    "\n",
    "class ImperialMeasure(Enum):\n",
    "    TEASPOON = auto()\n",
    "    TABLESPOON = auto()\n",
    "    CUP = auto()\n",
    "\n",
    "class Broth(Enum):\n",
    "    VEGETABLE = auto()\n",
    "    CHICKEN = auto()\n",
    "    BEEF = auto()\n",
    "    FISH = auto()\n",
    "\n",
    "@dataclass(frozen=True)\n",
    "class Ingredient:\n",
    "    \"\"\"\n",
    "    Ingredients added into the broth\n",
    "    \"\"\"\n",
    "    name: str\n",
    "    amount: float = 1\n",
    "    units: ImperialMeasure = ImperialMeasure.CUP\n",
    "\n",
    "@dataclass\n",
    "class Recipe:\n",
    "    aromatics: set[Ingredient]\n",
    "    broth: Broth\n",
    "    vegetables: set[Ingredient]\n",
    "    meats: set[Ingredient]\n",
    "    starches: set[Ingredient]\n",
    "    garnishes: set[Ingredient]\n",
    "    time_to_cook: datetime.timedelta\n"
   ]
  },
  {
   "cell_type": "markdown",
   "metadata": {},
   "source": [
    "## Policies vs mechanisms"
   ]
  },
  {
   "cell_type": "code",
   "execution_count": 3,
   "metadata": {},
   "outputs": [],
   "source": [
    "# When mechanisms are decoupled from policies, we can write declaratively, \n",
    "# where we make declarations about what to do, as follows:\n",
    "\n",
    "def make_potato_leek_and_bacon_soup():\n",
    "    bacon = bacon_preparer.make_bacon(slices=2)\n",
    "    potatoes = veg_cheese_preparer.cube_potatoes(grams=300)\n",
    "    leeks = veg_cheese_preparer.slice(ingredient=Vegetable.LEEKS, grams=250)\n",
    "    chopped_bacon = chop(bacon)\n",
    "\n",
    "    # The following methods are provided by soup preparer\n",
    "    soup_preparer.add_chicken_stock()\n",
    "    add(potatoes)\n",
    "    add(leeks)\n",
    "    cook_for(minutes=30)\n",
    "    blend()\n",
    "    garnish(chopped_bacon)\n",
    "    garnish(Garnish.BLACK_PEPPER)\n"
   ]
  },
  {
   "cell_type": "markdown",
   "metadata": {},
   "source": [
    "## Composing on a smalles scale"
   ]
  },
  {
   "cell_type": "markdown",
   "metadata": {},
   "source": [
    "### Composing Functions"
   ]
  },
  {
   "cell_type": "code",
   "execution_count": 4,
   "metadata": {},
   "outputs": [],
   "source": [
    "# Consider a function that executes another function twice:\n",
    "\n",
    "def do_twice(func: Callable, *args, **kwargs):\n",
    "    result = func(*args, **kwargs)\n",
    "    result = func(*args, **kwargs)\n"
   ]
  },
  {
   "cell_type": "code",
   "execution_count": 26,
   "metadata": {},
   "outputs": [
    {
     "name": "stdout",
     "output_type": "stream",
     "text": [
      "Hello, William!!\n",
      "Hello, William!!\n"
     ]
    }
   ],
   "source": [
    "# We can rewrite the 'do_twice' function into a decorator, as follows:\n",
    "\n",
    "def do_twice(func: Callable) -> Callable:\n",
    "    \"\"\"\n",
    "    This is a function that calls the wrapped function 2 times\n",
    "    \"\"\"\n",
    "    @functools.wraps(func)\n",
    "    def _wrapper(*args, **kwargs):\n",
    "        for _ in range(2):\n",
    "            func(*args, **kwargs)\n",
    "    \n",
    "    return _wrapper\n",
    "\n",
    "@do_twice\n",
    "def say_hello(name):\n",
    "    print(f\"Hello, {name}!!\")\n",
    "\n",
    "say_hello('William')\n"
   ]
  },
  {
   "cell_type": "code",
   "execution_count": 11,
   "metadata": {},
   "outputs": [],
   "source": [
    "# Now consider the following functions that may throw exceptions:\n",
    "\n",
    "class Dish:\n",
    "    pass\n",
    "\n",
    "def on_dish_ordered(dish: Dish):\n",
    "    dish_db[dish].count += 1\n",
    "\n",
    "def save_inventory_counts(inventory):\n",
    "    for ingredient in inventory:\n",
    "        inventory_db[ingredient.name] = ingredient.count\n",
    "\n",
    "def log_time_per_dish(dish: Dish, number_of_seconds: int):\n",
    "    dish_db[dish].time_spent.append(number_of_seconds)\n"
   ]
  },
  {
   "cell_type": "code",
   "execution_count": 17,
   "metadata": {},
   "outputs": [],
   "source": [
    "# Before continuing, install and import the 'backoff' and 'requests' packages\n",
    "\n",
    "\"\"\"\n",
    "!pip install backoff\n",
    "!pip install requests\n",
    "\"\"\"\n",
    "import backoff\n",
    "import requests\n"
   ]
  },
  {
   "cell_type": "code",
   "execution_count": 18,
   "metadata": {},
   "outputs": [],
   "source": [
    "# With backoff, we can specify how functions should be retried \n",
    "# if they throw an exception, as follows:\n",
    "\n",
    "class OperationException(Exception):\n",
    "    pass\n",
    "\n",
    "class Kitchen:\n",
    "    def __init__(self) -> None:\n",
    "        pass\n",
    "\n",
    "    @backoff.on_exception(backoff.expo, OperationException, max_tries=5)\n",
    "    def on_dish_ordered(self, dish: Dish):\n",
    "        self.dish_db[dish].count += 1\n",
    "    \n",
    "    @backoff.on_exception(backoff.expo, OperationException, max_tries=3)\n",
    "    @backoff.on_exception(backoff.expo, requests.exceptions.HTTPError, max_time=60)\n",
    "    def save_inventory_counts(self, inventory):\n",
    "        for ingredient in inventory:\n",
    "            self.inventory_db[ingredient.name] = ingredient.count\n",
    "    \n",
    "    @backoff.on_exception(backoff.expo, OperationException, max_time=30)\n",
    "    def log_time_per_dish(self, dish: Dish, number_of_seconds: int):\n",
    "        self.dish_db[dish].time_spent.append(number_of_seconds)\n"
   ]
  },
  {
   "cell_type": "code",
   "execution_count": 20,
   "metadata": {},
   "outputs": [],
   "source": [
    "# Without the last decorators, the function will be far harder to understand, as follows:\n",
    "\n",
    "class Kitchen2:\n",
    "    def __init__(self) -> None:\n",
    "        pass\n",
    "\n",
    "    def save_inventory_counts(self, inventory):\n",
    "        retry = True\n",
    "        retry_counter = 0\n",
    "        time_to_sleep = 1\n",
    "        while retry:\n",
    "            try:\n",
    "                for ingredient in inventory:\n",
    "                    self.inventory_db[ingredient.name] = ingredient.count\n",
    "            except OperationException:\n",
    "                retry_counter += 1\n",
    "                if retry_counter == 5:\n",
    "                    retry = False\n",
    "            except requests.exception.HTTPError:\n",
    "                time.sleep(time_to_sleep)\n",
    "                time_to_sleep *= 2\n",
    "                if time_to_sleep > 60:\n",
    "                    retry = False\n"
   ]
  },
  {
   "cell_type": "markdown",
   "metadata": {},
   "source": [
    "### Composing algorithms"
   ]
  },
  {
   "cell_type": "markdown",
   "metadata": {},
   "source": [
    "Consider the following meal recommendation algorithm:\n",
    "```\n",
    "* Look at all daily specials\n",
    "* Sort based on number of matching surplus ingredients\n",
    "* Select the meals with the highest number of surplus ingredients\n",
    "* Sort by proximity to last meal ordered (proximity is defined by number of ingredients that match)\n",
    "* Take only results that are above 75% proximity\n",
    "* Return up to top 3 results\n",
    "```\n"
   ]
  },
  {
   "cell_type": "code",
   "execution_count": 23,
   "metadata": {},
   "outputs": [],
   "source": [
    "# We can express the last algorithm in terms of for loops, as follows:\n",
    "\n",
    "class Meal:\n",
    "    pass\n",
    "\n",
    "def get_proximity(x, y):\n",
    "    return \n",
    "\n",
    "def recommend_meal(\n",
    "    last_meal: Meal,\n",
    "    specials: list[Meal],\n",
    "    surplus: list[Ingredient]\n",
    ") -> list[Meal]:\n",
    "    highest_proximity = 0\n",
    "    for special in specials:\n",
    "        proximity = get_proximity(special, surplus)\n",
    "        if proximity > highest_proximity:\n",
    "            highest_proximity = proximity\n",
    "    \n",
    "    grouped_by_surplus_matching = []\n",
    "    for special in specials:\n",
    "        if get_proximity(special, surplus) == highest_proximity:\n",
    "            grouped_by_surplus_matching.append(special)\n",
    "    \n",
    "    filtered_meals = []\n",
    "    for meal in grouped_by_surplus_matching:\n",
    "        if get_proximity(meal, last_meal) > 0.75:\n",
    "            filtered_meals.append(meal)\n",
    "    \n",
    "    sorted_meals = sorted(\n",
    "        filtered_meals,\n",
    "        key=lambda meal: get_proximity(meal, last_meal),\n",
    "        reverse=True\n",
    "    )\n",
    "    return sorted_meals[:3]"
   ]
  },
  {
   "cell_type": "markdown",
   "metadata": {},
   "source": [
    "Consider another meal recommendation algorithm:\n",
    "```\n",
    "* Look at all meals available\n",
    "* Sort based on proximity to last meal\n",
    "* Select the meals with the highest proximity\n",
    "* Sort the meals by number of surplus ingredients\n",
    "* Take only results that are a special or have more than 3 surplus ingredients\n",
    "* Return up to top 5 result\n",
    "```"
   ]
  },
  {
   "cell_type": "markdown",
   "metadata": {},
   "source": [
    "The last 2 algorithms can be generalized as follows:\n",
    "\n",
    "```\n",
    "* Look at <a list of meals>\n",
    "* Sort based on <initial sorting criteria>\n",
    "* Select the meals with the <grouping criteria>\n",
    "* Sort the meals by <secondary sorting criteria>\n",
    "* Take top results that match <selection criteria>\n",
    "* Return up to top <number> result\n",
    "```\n"
   ]
  },
  {
   "cell_type": "code",
   "execution_count": 37,
   "metadata": {},
   "outputs": [
    {
     "data": {
      "text/plain": [
       "\"\\nrecommend_meal(\\n    RecommendationPolicy(\\n        meals=get_specials(),\\n        initial_sorting_criteria='get_proximity_to_surplus_ingredients',\\n        grouping_criteria=get_proximity_to_surplus_ingredients,\\n        secondary_sorting_criteria=get_proximity_to_last_meal,\\n        selection_criteria=proximity_greater_than_75_percent,\\n        desired_number_of_recommendations=3\\n    )\\n)\\n\""
      ]
     },
     "execution_count": 37,
     "metadata": {},
     "output_type": "execute_result"
    }
   ],
   "source": [
    "# With the help of the itertools module, we can translate the generalized\n",
    "# algorithm into code as follows:\n",
    "\n",
    "class RecommendationPolicy:\n",
    "    pass\n",
    "\n",
    "def recommend_meal(policy: RecommendationPolicy) -> list[Meal]:\n",
    "    meals = policy.meals\n",
    "    sorted_meals = sorted(\n",
    "        meals, key=policy.initial_sorting_criteria,\n",
    "        reverse=True\n",
    "    )\n",
    "    grouped_meals = itertools.groupby(\n",
    "        sorted_meals, \n",
    "        key=policy.grouping_criteria\n",
    "    )\n",
    "    _, top_grouped = next(grouped_meals)\n",
    "    secondary_sorted = sorted(\n",
    "        top_grouped, \n",
    "        key=policy.secondary_sorting_criteria,\n",
    "        reverse=True\n",
    "    )\n",
    "    candidates = itertools.takewhile(policy.selection_criteria, secondary_sorted)\n",
    "    return list(candidates)[:policy.desired_number_of_recommendations]\n",
    "\n",
    "# Then, we can use the algorithm as follows:\n",
    "\n",
    "\"\"\"\n",
    "recommend_meal(\n",
    "    RecommendationPolicy(\n",
    "        meals=get_specials(),\n",
    "        initial_sorting_criteria='get_proximity_to_surplus_ingredients',\n",
    "        grouping_criteria=get_proximity_to_surplus_ingredients,\n",
    "        secondary_sorting_criteria=get_proximity_to_last_meal,\n",
    "        selection_criteria=proximity_greater_than_75_percent,\n",
    "        desired_number_of_recommendations=3\n",
    "    )\n",
    ")\n",
    "\"\"\"\n"
   ]
  }
 ],
 "metadata": {
  "interpreter": {
   "hash": "3fd673f0bd4e75da526fdef7ec84a70817605d24d0b9cc1488403ba9d379e57b"
  },
  "kernelspec": {
   "display_name": "Python 3.9.5 ('env': venv)",
   "language": "python",
   "name": "python3"
  },
  "language_info": {
   "codemirror_mode": {
    "name": "ipython",
    "version": 3
   },
   "file_extension": ".py",
   "mimetype": "text/x-python",
   "name": "python",
   "nbconvert_exporter": "python",
   "pygments_lexer": "ipython3",
   "version": "3.9.5"
  },
  "orig_nbformat": 4
 },
 "nbformat": 4,
 "nbformat_minor": 2
}
